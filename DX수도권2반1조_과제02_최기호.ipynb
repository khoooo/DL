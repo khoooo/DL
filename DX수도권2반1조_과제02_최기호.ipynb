{
 "cells": [
  {
   "cell_type": "markdown",
   "metadata": {
    "id": "5mCUrZ5seRFB"
   },
   "source": [
    "# 직원 이직 여부 예측\n",
    "![](https://github.com/Jangrae/img/blob/master/employee.png?raw=true)\n",
    "\n",
    "## 데이터 정보\n",
    "- Attrition: 이직여부 (1-Yes 0-No)\t\n",
    "- Age: 나이\t\n",
    "- BusinessTravel: 출장 빈도\n",
    "- Department: 현재 부서\t\n",
    "- DistanceFromHome: 집과 직장 사이의 거리 (마일)\t\n",
    "- Education: 교육수준 (1-Below College 2-College 3-Bachelor 4- Master 5-Doctor)\n",
    "- EducationField: 전공\t\n",
    "- EmployeeNumber: 사번\t\n",
    "- EnvironmentSatisfaction: 근무환경에 대한 만족도 (1-Low 2-Good 3-Excellent 4-Outstanding)\n",
    "- Gender: 성별\t\n",
    "- JobInvolvement: 직무 적극성, 참여도 (1-Low 2-Medium 3-High 4-Very High)\n",
    "- JobRole: 직무\t\n",
    "- JobSatisfaction: 직무 만족도 (1-Low 2-Medium 3-High 4-Very High)\n",
    "- MaritalStatus: 결혼상태\t\n",
    "- MonthlyIncome: 월급\t\n",
    "- NumCompaniesWorked: 현재까지 근무한 회사 수\t\n",
    "- OverTime: 야근 여부\t\n",
    "- PercentSalaryHike: 전년대비 급여 인상율 (%)\t\n",
    "- RelationshipSatisfaction: 동료와의 관계 만족도 (1-Low 2-Medium 3-High 4-Very High)\n",
    "- StockOptionLevel: 스톡옵션 수준 (0 ~ 3)\t\n",
    "- TotalWorkingYears: 총 근무 연수\t\n",
    "- TrainingTimesLastYear: 전년 교육훈련 횟수\t\n",
    "- WorkLifeBalance: 워라밸, 일과 삶의 균형도 (1-Bad 2-Good 3-Better 4-Best)\n",
    "- YearsAtCompany: 현 직장 근무 연수\t\n",
    "- YearsInCurrentRole: 현 직무 연수\t\n",
    "- YearsWithCurrManager: 현 팀장과 근무한 연수"
   ]
  },
  {
   "cell_type": "markdown",
   "metadata": {
    "id": "3Ij5l9O9e_KO"
   },
   "source": [
    "## 데이터셋 불러오기"
   ]
  },
  {
   "cell_type": "code",
   "execution_count": 173,
   "metadata": {
    "id": "eq2ArI8peRBh"
   },
   "outputs": [],
   "source": [
    "# 라이브러리\n",
    "import numpy as np\n",
    "import pandas as pd\n",
    "\n",
    "import tensorflow as tf\n",
    "from tensorflow import keras"
   ]
  },
  {
   "cell_type": "code",
   "execution_count": 174,
   "metadata": {
    "id": "Rg3T7vmTfJFi"
   },
   "outputs": [],
   "source": [
    "path = 'https://raw.githubusercontent.com/Jangrae/csv/master/Attrition_NA.CSV'\n",
    "\n",
    "data = pd.read_csv(path)"
   ]
  },
  {
   "cell_type": "markdown",
   "metadata": {
    "id": "7JgnHZVKeQ-i"
   },
   "source": [
    "## 데이터 전처리\n",
    "\n",
    "* 주석을 상세하게 작성해주세요\n",
    "\n",
    "<details><summary>Hint</summary>\n",
    "\n",
    "- x, y 구분 필요\n",
    "- train, test 구분 필요\n",
    "- 데이터 타입 전처리 필요\n",
    "- 데이터 인코딩 필요\n",
    "- null값 확인 필요"
   ]
  },
  {
   "cell_type": "code",
   "execution_count": 175,
   "metadata": {},
   "outputs": [
    {
     "name": "stdout",
     "output_type": "stream",
     "text": [
      "<class 'pandas.core.frame.DataFrame'>\n",
      "RangeIndex: 1250 entries, 0 to 1249\n",
      "Data columns (total 26 columns):\n",
      " #   Column                    Non-Null Count  Dtype  \n",
      "---  ------                    --------------  -----  \n",
      " 0   Attrition                 1250 non-null   object \n",
      " 1   Age                       1250 non-null   int64  \n",
      " 2   BusinessTravel            1250 non-null   object \n",
      " 3   Department                1250 non-null   object \n",
      " 4   DistanceFromHome          1196 non-null   float64\n",
      " 5   Education                 1250 non-null   int64  \n",
      " 6   EducationField            1250 non-null   object \n",
      " 7   EmployeeNumber            1250 non-null   int64  \n",
      " 8   EnvironmentSatisfaction   1250 non-null   int64  \n",
      " 9   Gender                    1250 non-null   object \n",
      " 10  JobInvolvement            1250 non-null   int64  \n",
      " 11  JobRole                   1250 non-null   object \n",
      " 12  JobSatisfaction           1250 non-null   int64  \n",
      " 13  MaritalStatus             1250 non-null   object \n",
      " 14  MonthlyIncome             1250 non-null   int64  \n",
      " 15  NumCompaniesWorked        1229 non-null   float64\n",
      " 16  OverTime                  1250 non-null   object \n",
      " 17  PercentSalaryHike         1250 non-null   int64  \n",
      " 18  RelationshipSatisfaction  1250 non-null   int64  \n",
      " 19  StockOptionLevel          1250 non-null   int64  \n",
      " 20  TotalWorkingYears         1250 non-null   int64  \n",
      " 21  TrainingTimesLastYear     1250 non-null   int64  \n",
      " 22  WorkLifeBalance           1250 non-null   int64  \n",
      " 23  YearsAtCompany            1250 non-null   int64  \n",
      " 24  YearsInCurrentRole        1250 non-null   int64  \n",
      " 25  YearsWithCurrManager      1250 non-null   int64  \n",
      "dtypes: float64(2), int64(16), object(8)\n",
      "memory usage: 254.0+ KB\n"
     ]
    }
   ],
   "source": [
    "data.info()"
   ]
  },
  {
   "cell_type": "code",
   "execution_count": 176,
   "metadata": {},
   "outputs": [
    {
     "name": "stdout",
     "output_type": "stream",
     "text": [
      "Travel_Rarely        892\n",
      "Travel_Frequently    230\n",
      "Non-Travel           128\n",
      "Name: BusinessTravel, dtype: int64\n"
     ]
    },
    {
     "data": {
      "text/plain": [
       "1    892\n",
       "2    230\n",
       "0    128\n",
       "Name: BusinessTravel, dtype: int64"
      ]
     },
     "execution_count": 176,
     "metadata": {},
     "output_type": "execute_result"
    }
   ],
   "source": [
    "# object인 변수 확인\n",
    "print(data['BusinessTravel'].value_counts())\n",
    "\n",
    "# 0~2 -> 높을수록 자주\n",
    "data['BusinessTravel'] = data['BusinessTravel'].map({'Travel_Rarely':1, \n",
    "                                                     'Travel_Frequently':2,\n",
    "                                                     'Non-Travel':0})\n",
    "data['BusinessTravel'].value_counts()"
   ]
  },
  {
   "cell_type": "code",
   "execution_count": 177,
   "metadata": {},
   "outputs": [
    {
     "name": "stdout",
     "output_type": "stream",
     "text": [
      "Research & Development    819\n",
      "Sales                     379\n",
      "Human Resources            52\n",
      "Name: Department, dtype: int64\n"
     ]
    },
    {
     "data": {
      "text/plain": [
       "2    819\n",
       "1    379\n",
       "0     52\n",
       "Name: Department, dtype: int64"
      ]
     },
     "execution_count": 177,
     "metadata": {},
     "output_type": "execute_result"
    }
   ],
   "source": [
    "print(data['Department'].value_counts())\n",
    "\n",
    "# 0~2 -> 부서별 나눔. 숫자에 의미는 없음.\n",
    "data['Department'] = data['Department'].map({'Research & Development':2, \n",
    "                                             'Sales':1,\n",
    "                                             'Human Resources':0})\n",
    "data['Department'].value_counts()\n"
   ]
  },
  {
   "cell_type": "code",
   "execution_count": 178,
   "metadata": {},
   "outputs": [
    {
     "name": "stdout",
     "output_type": "stream",
     "text": [
      "Life Sciences       520\n",
      "Medical             390\n",
      "Marketing           137\n",
      "Technical Degree    112\n",
      "Other                68\n",
      "Human Resources      23\n",
      "Name: EducationField, dtype: int64\n"
     ]
    },
    {
     "data": {
      "text/plain": [
       "5    520\n",
       "4    390\n",
       "3    137\n",
       "2    112\n",
       "0     68\n",
       "1     23\n",
       "Name: EducationField, dtype: int64"
      ]
     },
     "execution_count": 178,
     "metadata": {},
     "output_type": "execute_result"
    }
   ],
   "source": [
    "print(data['EducationField'].value_counts())\n",
    "\n",
    "# 0~6 : 전공을 나누기위해 설정. 의미없음\n",
    "# 0은 종합적인 의미로 other\n",
    "data['EducationField'] = data['EducationField'].map({'Life Sciences':5, \n",
    "                                                     'Medical':4,\n",
    "                                                     'Marketing':3,\n",
    "                                                     'Technical Degree':2,\n",
    "                                                     'Human Resources':1,\n",
    "                                                      'Other':0})\n",
    "data['EducationField'].value_counts()"
   ]
  },
  {
   "cell_type": "code",
   "execution_count": 179,
   "metadata": {},
   "outputs": [
    {
     "name": "stdout",
     "output_type": "stream",
     "text": [
      "Male      760\n",
      "Female    490\n",
      "Name: Gender, dtype: int64\n"
     ]
    },
    {
     "data": {
      "text/plain": [
       "1    760\n",
       "0    490\n",
       "Name: Gender, dtype: int64"
      ]
     },
     "execution_count": 179,
     "metadata": {},
     "output_type": "execute_result"
    }
   ],
   "source": [
    "print(data['Gender'].value_counts())\n",
    "\n",
    "# 0 : 여성\n",
    "# 1 : 남성\n",
    "data['Gender'] = data['Gender'].map({'Male':1,\n",
    "                                     'Female':0})\n",
    "data['Gender'].value_counts()"
   ]
  },
  {
   "cell_type": "code",
   "execution_count": 180,
   "metadata": {},
   "outputs": [
    {
     "name": "stdout",
     "output_type": "stream",
     "text": [
      "Sales Executive              283\n",
      "Research Scientist           246\n",
      "Laboratory Technician        227\n",
      "Manufacturing Director       123\n",
      "Healthcare Representative    110\n",
      "Manager                       87\n",
      "Research Director             66\n",
      "Sales Representative          65\n",
      "Human Resources               43\n",
      "Name: JobRole, dtype: int64\n"
     ]
    }
   ],
   "source": [
    "print(data['JobRole'].value_counts())\n",
    "\n",
    "# 부서와 전공의 충분한 설명으로 해당 데이터 삭제\n",
    "data = data.drop('JobRole', axis=1)"
   ]
  },
  {
   "cell_type": "code",
   "execution_count": 181,
   "metadata": {},
   "outputs": [
    {
     "name": "stdout",
     "output_type": "stream",
     "text": [
      "2048    1\n",
      "1367    1\n",
      "1379    1\n",
      "1374    1\n",
      "1373    1\n",
      "       ..\n",
      "656     1\n",
      "655     1\n",
      "653     1\n",
      "649     1\n",
      "2046    1\n",
      "Name: EmployeeNumber, Length: 1250, dtype: int64\n"
     ]
    }
   ],
   "source": [
    "print(data['EmployeeNumber'].value_counts())\n",
    "\n",
    "# 사원번호는 필요 없다고 판단\n",
    "\n",
    "data = data.drop('EmployeeNumber', axis=1)"
   ]
  },
  {
   "cell_type": "code",
   "execution_count": 182,
   "metadata": {},
   "outputs": [
    {
     "name": "stdout",
     "output_type": "stream",
     "text": [
      "Married     570\n",
      "Single      404\n",
      "Divorced    276\n",
      "Name: MaritalStatus, dtype: int64\n"
     ]
    },
    {
     "data": {
      "text/plain": [
       "1    570\n",
       "0    404\n",
       "2    276\n",
       "Name: MaritalStatus, dtype: int64"
      ]
     },
     "execution_count": 182,
     "metadata": {},
     "output_type": "execute_result"
    }
   ],
   "source": [
    "print(data['MaritalStatus'].value_counts())\n",
    "\n",
    "# Divorced : 2  - 특이사항이라 생각하여 2\n",
    "# Married : 1   - Y\n",
    "# Single : 0    - N\n",
    "data['MaritalStatus'] = data['MaritalStatus'].map({'Divorced':2,\n",
    "                                                   'Married':1,\n",
    "                                                   'Single':0})\n",
    "data['MaritalStatus'].value_counts()\n"
   ]
  },
  {
   "cell_type": "code",
   "execution_count": 183,
   "metadata": {},
   "outputs": [
    {
     "name": "stdout",
     "output_type": "stream",
     "text": [
      "No     896\n",
      "Yes    354\n",
      "Name: OverTime, dtype: int64\n"
     ]
    },
    {
     "data": {
      "text/plain": [
       "0    896\n",
       "1    354\n",
       "Name: OverTime, dtype: int64"
      ]
     },
     "execution_count": 183,
     "metadata": {},
     "output_type": "execute_result"
    }
   ],
   "source": [
    "print(data['OverTime'].value_counts())\n",
    "\n",
    "# 1 : yes\n",
    "# 0 : No\n",
    "data['OverTime'] = data['OverTime'].map({'Yes':1, \n",
    "                                         'No':0})\n",
    "data['OverTime'].value_counts()"
   ]
  },
  {
   "cell_type": "code",
   "execution_count": 184,
   "metadata": {},
   "outputs": [
    {
     "name": "stdout",
     "output_type": "stream",
     "text": [
      "<class 'pandas.core.frame.DataFrame'>\n",
      "RangeIndex: 1250 entries, 0 to 1249\n",
      "Data columns (total 24 columns):\n",
      " #   Column                    Non-Null Count  Dtype  \n",
      "---  ------                    --------------  -----  \n",
      " 0   Attrition                 1250 non-null   object \n",
      " 1   Age                       1250 non-null   int64  \n",
      " 2   BusinessTravel            1250 non-null   int64  \n",
      " 3   Department                1250 non-null   int64  \n",
      " 4   DistanceFromHome          1196 non-null   float64\n",
      " 5   Education                 1250 non-null   int64  \n",
      " 6   EducationField            1250 non-null   int64  \n",
      " 7   EnvironmentSatisfaction   1250 non-null   int64  \n",
      " 8   Gender                    1250 non-null   int64  \n",
      " 9   JobInvolvement            1250 non-null   int64  \n",
      " 10  JobSatisfaction           1250 non-null   int64  \n",
      " 11  MaritalStatus             1250 non-null   int64  \n",
      " 12  MonthlyIncome             1250 non-null   int64  \n",
      " 13  NumCompaniesWorked        1229 non-null   float64\n",
      " 14  OverTime                  1250 non-null   int64  \n",
      " 15  PercentSalaryHike         1250 non-null   int64  \n",
      " 16  RelationshipSatisfaction  1250 non-null   int64  \n",
      " 17  StockOptionLevel          1250 non-null   int64  \n",
      " 18  TotalWorkingYears         1250 non-null   int64  \n",
      " 19  TrainingTimesLastYear     1250 non-null   int64  \n",
      " 20  WorkLifeBalance           1250 non-null   int64  \n",
      " 21  YearsAtCompany            1250 non-null   int64  \n",
      " 22  YearsInCurrentRole        1250 non-null   int64  \n",
      " 23  YearsWithCurrManager      1250 non-null   int64  \n",
      "dtypes: float64(2), int64(21), object(1)\n",
      "memory usage: 234.5+ KB\n"
     ]
    }
   ],
   "source": [
    "data.info()"
   ]
  },
  {
   "cell_type": "code",
   "execution_count": 185,
   "metadata": {
    "id": "YHtmiLfqINfQ"
   },
   "outputs": [
    {
     "data": {
      "text/plain": [
       "Attrition                    0\n",
       "Age                          0\n",
       "BusinessTravel               0\n",
       "Department                   0\n",
       "DistanceFromHome            54\n",
       "Education                    0\n",
       "EducationField               0\n",
       "EnvironmentSatisfaction      0\n",
       "Gender                       0\n",
       "JobInvolvement               0\n",
       "JobSatisfaction              0\n",
       "MaritalStatus                0\n",
       "MonthlyIncome                0\n",
       "NumCompaniesWorked          21\n",
       "OverTime                     0\n",
       "PercentSalaryHike            0\n",
       "RelationshipSatisfaction     0\n",
       "StockOptionLevel             0\n",
       "TotalWorkingYears            0\n",
       "TrainingTimesLastYear        0\n",
       "WorkLifeBalance              0\n",
       "YearsAtCompany               0\n",
       "YearsInCurrentRole           0\n",
       "YearsWithCurrManager         0\n",
       "dtype: int64"
      ]
     },
     "execution_count": 185,
     "metadata": {},
     "output_type": "execute_result"
    }
   ],
   "source": [
    "# 결측치 확인\n",
    "data.isnull().sum()"
   ]
  },
  {
   "cell_type": "code",
   "execution_count": 186,
   "metadata": {},
   "outputs": [
    {
     "data": {
      "text/plain": [
       "Attrition                   0\n",
       "Age                         0\n",
       "BusinessTravel              0\n",
       "Department                  0\n",
       "DistanceFromHome            0\n",
       "Education                   0\n",
       "EducationField              0\n",
       "EnvironmentSatisfaction     0\n",
       "Gender                      0\n",
       "JobInvolvement              0\n",
       "JobSatisfaction             0\n",
       "MaritalStatus               0\n",
       "MonthlyIncome               0\n",
       "NumCompaniesWorked          0\n",
       "OverTime                    0\n",
       "PercentSalaryHike           0\n",
       "RelationshipSatisfaction    0\n",
       "StockOptionLevel            0\n",
       "TotalWorkingYears           0\n",
       "TrainingTimesLastYear       0\n",
       "WorkLifeBalance             0\n",
       "YearsAtCompany              0\n",
       "YearsInCurrentRole          0\n",
       "YearsWithCurrManager        0\n",
       "dtype: int64"
      ]
     },
     "execution_count": 186,
     "metadata": {},
     "output_type": "execute_result"
    }
   ],
   "source": [
    "# 결측치 처리\n",
    "# 두 변수의 가장 빈번한 값으로 변경\n",
    "\n",
    "fre_DistanceFromHome = data['DistanceFromHome'].value_counts().idxmax()\n",
    "fre_NumCompaniesWorked = data['NumCompaniesWorked'].value_counts().idxmax()\n",
    "data['DistanceFromHome'].fillna(fre_DistanceFromHome, inplace=True)\n",
    "data['NumCompaniesWorked'].fillna(fre_NumCompaniesWorked, inplace=True)\n",
    "\n",
    "data.isnull().sum()"
   ]
  },
  {
   "cell_type": "code",
   "execution_count": 187,
   "metadata": {
    "id": "0cSTupAlIM-I"
   },
   "outputs": [
    {
     "data": {
      "text/plain": [
       "No     1050\n",
       "Yes     200\n",
       "Name: Attrition, dtype: int64"
      ]
     },
     "execution_count": 187,
     "metadata": {},
     "output_type": "execute_result"
    }
   ],
   "source": [
    "# x,y 구분\n",
    "target = 'Attrition'\n",
    "y = data[target]\n",
    "x = data.drop(target, axis=1)\n",
    "y.value_counts()"
   ]
  },
  {
   "cell_type": "code",
   "execution_count": 188,
   "metadata": {
    "id": "dduwsFXAINEP"
   },
   "outputs": [
    {
     "data": {
      "text/plain": [
       "0    1050\n",
       "1     200\n",
       "Name: Attrition, dtype: int64"
      ]
     },
     "execution_count": 188,
     "metadata": {},
     "output_type": "execute_result"
    }
   ],
   "source": [
    "# y = (0,1) 변경\n",
    "y = data[target].map({'No':0, 'Yes':1})\n",
    "y.value_counts()"
   ]
  },
  {
   "cell_type": "code",
   "execution_count": 189,
   "metadata": {},
   "outputs": [
    {
     "data": {
      "image/png": "[encoded data removed]",
      "text/plain": [
       "<Figure size 432x288 with 1 Axes>"
      ]
     },
     "metadata": {
      "needs_background": "light"
     },
     "output_type": "display_data"
    }
   ],
   "source": [
    "import matplotlib.pyplot as plt\n",
    "import seaborn as sns\n",
    "\n",
    "sns.countplot(data=data, x=target)\n",
    "plt.show()\n",
    "\n",
    "# 데이터 불균형이 심하다.\n",
    "# 결과에 영향을 미칠 것임."
   ]
  },
  {
   "cell_type": "code",
   "execution_count": 190,
   "metadata": {
    "id": "DDWeaDyRINBc"
   },
   "outputs": [],
   "source": [
    "# train,test 구분\n",
    "from sklearn.model_selection import train_test_split\n",
    "x_train,x_test,y_train,y_test = train_test_split(x, y, test_size=0.2,\n",
    "                                                 random_state=2022)"
   ]
  },
  {
   "cell_type": "code",
   "execution_count": 191,
   "metadata": {
    "id": "ywIdIjqsINHX"
   },
   "outputs": [
    {
     "data": {
      "text/plain": [
       "((1000, 23), (1000,))"
      ]
     },
     "execution_count": 191,
     "metadata": {},
     "output_type": "execute_result"
    }
   ],
   "source": [
    "x_train.shape, y_train.shape"
   ]
  },
  {
   "cell_type": "markdown",
   "metadata": {
    "id": "N4iFUU_hv3G5"
   },
   "source": [
    "## 모델링\n",
    "\n",
    "1. 전처리에서 제외한 feature를 제외한, 다른 feature는 반드시 모두 사용하셔야 합니다.\n",
    "2. locally connected layer를 최소 4개 이상 만드세요.\n",
    "3. 모델 구조 시각화까지 해주면 좋습니다.\n",
    "4. 학습 횟수는 최대 25번까지만.\n",
    "---\n",
    "### **locally하게 연결한 구성 의도를 반드시 상세하게 남겨주세요 (상황 가정을 해서라도!)** \n",
    "### **주석 역시 상세하게 남겨주세요**"
   ]
  },
  {
   "cell_type": "markdown",
   "metadata": {
    "id": "TMl51PRuv6sw"
   },
   "source": [
    "### Locally connected layer를 구성하기 위한 feature 설정"
   ]
  },
  {
   "cell_type": "code",
   "execution_count": 192,
   "metadata": {
    "id": "DIlkOj3RIUDr"
   },
   "outputs": [
    {
     "data": {
      "text/plain": [
       "Index(['Age', 'BusinessTravel', 'Department', 'DistanceFromHome', 'Education',\n",
       "       'EducationField', 'EnvironmentSatisfaction', 'Gender', 'JobInvolvement',\n",
       "       'JobSatisfaction', 'MaritalStatus', 'MonthlyIncome',\n",
       "       'NumCompaniesWorked', 'OverTime', 'PercentSalaryHike',\n",
       "       'RelationshipSatisfaction', 'StockOptionLevel', 'TotalWorkingYears',\n",
       "       'TrainingTimesLastYear', 'WorkLifeBalance', 'YearsAtCompany',\n",
       "       'YearsInCurrentRole', 'YearsWithCurrManager'],\n",
       "      dtype='object')"
      ]
     },
     "execution_count": 192,
     "metadata": {},
     "output_type": "execute_result"
    }
   ],
   "source": [
    "x_train.columns"
   ]
  },
  {
   "cell_type": "code",
   "execution_count": 193,
   "metadata": {
    "id": "XLmykWRhIUWP"
   },
   "outputs": [],
   "source": [
    "# personal = x_train[['Age', 'Education', 'EducationField', 'Gender', 'MaritalStatus']]\n",
    "# survey = x_train[['EnvironmentSatisfaction', 'JobInvolvement', 'JobSatisfaction', 'RelationshipSatisfaction', 'WorkLifeBalance']]\n",
    "# company_out = x_train[['DistanceFromHome', 'NumCompaniesWorked']]\n",
    "# company_in = x_train[['BusinessTravel', 'Department', 'MonthlyIncome',\n",
    "#                       'OverTime', 'StockOptionLevel', 'TotalWorkingYears', 'TrainingTimesLastYear',\n",
    "#                       'YearsAtCompany', 'YearsInCurrentRole', 'YearsWithCurrManager']]\n",
    "\n",
    "# # 변수 그룹 : 개인특징, 설문조사, 회사 내,외부 총 4개"
   ]
  },
  {
   "cell_type": "code",
   "execution_count": 194,
   "metadata": {
    "id": "nbtw3H1vIX9i"
   },
   "outputs": [],
   "source": [
    "# personal_test = x_test[['Age', 'Education', 'EducationField', 'Gender', 'MaritalStatus']]\n",
    "# survey_test = x_test[['EnvironmentSatisfaction', 'JobInvolvement', 'JobSatisfaction', 'RelationshipSatisfaction', 'WorkLifeBalance']]\n",
    "# company_out_test = x_test[['DistanceFromHome', 'NumCompaniesWorked']]\n",
    "# company_in_test = x_test[['BusinessTravel', 'Department', 'MonthlyIncome',\n",
    "#                           'OverTime', 'StockOptionLevel', 'TotalWorkingYears', 'TrainingTimesLastYear',\n",
    "#                           'YearsAtCompany', 'YearsInCurrentRole', 'YearsWithCurrManager']]"
   ]
  },
  {
   "cell_type": "code",
   "execution_count": 195,
   "metadata": {},
   "outputs": [],
   "source": [
    "# 변수그룹 : 개인특징, 설문조사, 회사외부, 수입, 기타\n",
    "personal = x_train[['Age', 'Education', 'EducationField', 'Gender', 'MaritalStatus']]\n",
    "survey = x_train[['EnvironmentSatisfaction', 'JobInvolvement', 'JobSatisfaction', 'RelationshipSatisfaction', 'WorkLifeBalance']]\n",
    "money = x_train[['MonthlyIncome', 'PercentSalaryHike', 'StockOptionLevel']]\n",
    "company_out = x_train[['DistanceFromHome', 'NumCompaniesWorked']]\n",
    "etc = x_train[['BusinessTravel', 'Department', 'OverTime', 'TotalWorkingYears',\n",
    "               'TrainingTimesLastYear', 'YearsAtCompany', 'YearsInCurrentRole',\n",
    "               'YearsWithCurrManager']]"
   ]
  },
  {
   "cell_type": "code",
   "execution_count": 196,
   "metadata": {},
   "outputs": [],
   "source": [
    "personal_test = x_test[['Age', 'Education', 'EducationField', 'Gender', 'MaritalStatus']]\n",
    "survey_test = x_test[['EnvironmentSatisfaction', 'JobInvolvement', 'JobSatisfaction', 'RelationshipSatisfaction', 'WorkLifeBalance']]\n",
    "money_test = x_test[['MonthlyIncome', 'PercentSalaryHike', 'StockOptionLevel']]\n",
    "company_out_test = x_test[['DistanceFromHome', 'NumCompaniesWorked']]\n",
    "etc_test = x_test[['BusinessTravel', 'Department', 'OverTime', 'TotalWorkingYears',\n",
    "               'TrainingTimesLastYear', 'YearsAtCompany', 'YearsInCurrentRole',\n",
    "               'YearsWithCurrManager']]"
   ]
  },
  {
   "cell_type": "code",
   "execution_count": 197,
   "metadata": {},
   "outputs": [
    {
     "name": "stdout",
     "output_type": "stream",
     "text": [
      "<class 'pandas.core.frame.DataFrame'>\n",
      "Int64Index: 1000 entries, 412 to 893\n",
      "Data columns (total 5 columns):\n",
      " #   Column          Non-Null Count  Dtype\n",
      "---  ------          --------------  -----\n",
      " 0   Age             1000 non-null   int64\n",
      " 1   Education       1000 non-null   int64\n",
      " 2   EducationField  1000 non-null   int64\n",
      " 3   Gender          1000 non-null   int64\n",
      " 4   MaritalStatus   1000 non-null   int64\n",
      "dtypes: int64(5)\n",
      "memory usage: 46.9 KB\n"
     ]
    }
   ],
   "source": [
    "personal.info()"
   ]
  },
  {
   "cell_type": "markdown",
   "metadata": {
    "id": "II2DSumywT4b"
   },
   "source": [
    "### 모델 코드 작성"
   ]
  },
  {
   "cell_type": "code",
   "execution_count": 198,
   "metadata": {},
   "outputs": [
    {
     "data": {
      "text/plain": [
       "0       0.0\n",
       "1       0.0\n",
       "2       0.0\n",
       "3       0.0\n",
       "4       0.0\n",
       "       ... \n",
       "1245    0.0\n",
       "1246    0.0\n",
       "1247    0.0\n",
       "1248    0.0\n",
       "1249    0.0\n",
       "Name: Attrition, Length: 1250, dtype: float64"
      ]
     },
     "execution_count": 198,
     "metadata": {},
     "output_type": "execute_result"
    }
   ],
   "source": [
    "y.astype(float)"
   ]
  },
  {
   "cell_type": "code",
   "execution_count": 199,
   "metadata": {},
   "outputs": [
    {
     "name": "stdout",
     "output_type": "stream",
     "text": [
      "<class 'pandas.core.frame.DataFrame'>\n",
      "RangeIndex: 1250 entries, 0 to 1249\n",
      "Data columns (total 24 columns):\n",
      " #   Column                    Non-Null Count  Dtype  \n",
      "---  ------                    --------------  -----  \n",
      " 0   Attrition                 1250 non-null   object \n",
      " 1   Age                       1250 non-null   int64  \n",
      " 2   BusinessTravel            1250 non-null   int64  \n",
      " 3   Department                1250 non-null   int64  \n",
      " 4   DistanceFromHome          1250 non-null   float64\n",
      " 5   Education                 1250 non-null   int64  \n",
      " 6   EducationField            1250 non-null   int64  \n",
      " 7   EnvironmentSatisfaction   1250 non-null   int64  \n",
      " 8   Gender                    1250 non-null   int64  \n",
      " 9   JobInvolvement            1250 non-null   int64  \n",
      " 10  JobSatisfaction           1250 non-null   int64  \n",
      " 11  MaritalStatus             1250 non-null   int64  \n",
      " 12  MonthlyIncome             1250 non-null   int64  \n",
      " 13  NumCompaniesWorked        1250 non-null   float64\n",
      " 14  OverTime                  1250 non-null   int64  \n",
      " 15  PercentSalaryHike         1250 non-null   int64  \n",
      " 16  RelationshipSatisfaction  1250 non-null   int64  \n",
      " 17  StockOptionLevel          1250 non-null   int64  \n",
      " 18  TotalWorkingYears         1250 non-null   int64  \n",
      " 19  TrainingTimesLastYear     1250 non-null   int64  \n",
      " 20  WorkLifeBalance           1250 non-null   int64  \n",
      " 21  YearsAtCompany            1250 non-null   int64  \n",
      " 22  YearsInCurrentRole        1250 non-null   int64  \n",
      " 23  YearsWithCurrManager      1250 non-null   int64  \n",
      "dtypes: float64(2), int64(21), object(1)\n",
      "memory usage: 234.5+ KB\n"
     ]
    }
   ],
   "source": [
    "data.info()"
   ]
  },
  {
   "cell_type": "code",
   "execution_count": 200,
   "metadata": {
    "id": "_sQ3EMVuIZyk"
   },
   "outputs": [
    {
     "name": "stdout",
     "output_type": "stream",
     "text": [
      "(1000, 5) (1000, 5) (1000, 3) (1000, 2) (1000, 8)\n",
      "(1000, 23) (1000,)\n"
     ]
    }
   ],
   "source": [
    "print(personal.shape, survey.shape, money.shape, company_out.shape, etc.shape)\n",
    "print(x_train.shape, y_train.shape)"
   ]
  },
  {
   "cell_type": "code",
   "execution_count": 201,
   "metadata": {
    "id": "WC6AZQlgIZkx"
   },
   "outputs": [
    {
     "name": "stdout",
     "output_type": "stream",
     "text": [
      "Model: \"model\"\n",
      "__________________________________________________________________________________________________\n",
      " Layer (type)                   Output Shape         Param #     Connected to                     \n",
      "==================================================================================================\n",
      " il_personal (InputLayer)       [(None, 5)]          0           []                               \n",
      "                                                                                                  \n",
      " il_survey (InputLayer)         [(None, 5)]          0           []                               \n",
      "                                                                                                  \n",
      " il_money (InputLayer)          [(None, 3)]          0           []                               \n",
      "                                                                                                  \n",
      " il_company_out (InputLayer)    [(None, 2)]          0           []                               \n",
      "                                                                                                  \n",
      " il_etc (InputLayer)            [(None, 8)]          0           []                               \n",
      "                                                                                                  \n",
      " dense (Dense)                  (None, 8)            48          ['il_personal[0][0]']            \n",
      "                                                                                                  \n",
      " dense_1 (Dense)                (None, 8)            48          ['il_survey[0][0]']              \n",
      "                                                                                                  \n",
      " dense_2 (Dense)                (None, 8)            32          ['il_money[0][0]']               \n",
      "                                                                                                  \n",
      " dense_3 (Dense)                (None, 8)            24          ['il_company_out[0][0]']         \n",
      "                                                                                                  \n",
      " dense_4 (Dense)                (None, 8)            72          ['il_etc[0][0]']                 \n",
      "                                                                                                  \n",
      " add (Add)                      (None, 8)            0           ['dense[0][0]',                  \n",
      "                                                                  'dense_1[0][0]',                \n",
      "                                                                  'dense_2[0][0]',                \n",
      "                                                                  'dense_3[0][0]',                \n",
      "                                                                  'dense_4[0][0]']                \n",
      "                                                                                                  \n",
      " input_1 (InputLayer)           [(None, 23)]         0           []                               \n",
      "                                                                                                  \n",
      " concatenate (Concatenate)      (None, 31)           0           ['add[0][0]',                    \n",
      "                                                                  'input_1[0][0]']                \n",
      "                                                                                                  \n",
      " dense_5 (Dense)                (None, 128)          4096        ['concatenate[0][0]']            \n",
      "                                                                                                  \n",
      " dense_6 (Dense)                (None, 1)            129         ['dense_5[0][0]']                \n",
      "                                                                                                  \n",
      "==================================================================================================\n",
      "Total params: 4,449\n",
      "Trainable params: 4,449\n",
      "Non-trainable params: 0\n",
      "__________________________________________________________________________________________________\n"
     ]
    }
   ],
   "source": [
    "# 청소\n",
    "keras.backend.clear_session()\n",
    "\n",
    "# 모델 연결\n",
    "il_full = keras.layers.Input(shape=(23,))\n",
    "\n",
    "il_p = keras.layers.Input(shape=(5,), name='il_personal')  # 개인성격\n",
    "hl_p = keras.layers.Dense(8, activation='relu')(il_p)\n",
    "\n",
    "il_s = keras.layers.Input(shape=(5,), name='il_survey')    # 설문조사\n",
    "hl_s = keras.layers.Dense(8, activation='relu')(il_s)\n",
    "\n",
    "il_m = keras.layers.Input(shape=(3,), name='il_money')  # 수입\n",
    "hl_m = keras.layers.Dense(8, activation='relu')(il_m)\n",
    "\n",
    "il_co = keras.layers.Input(shape=(2,), name='il_company_out')  # 회사외부\n",
    "hl_co = keras.layers.Dense(8, activation='relu')(il_co)\n",
    "\n",
    "il_etc = keras.layers.Input(shape=(8,), name='il_etc')  # 기타\n",
    "hl_etc = keras.layers.Dense(8, activation='relu')(il_etc)\n",
    "\n",
    "add = keras.layers.Add()([hl_p, hl_s, hl_m, hl_co, hl_etc])\n",
    "\n",
    "cl = keras.layers.Concatenate()([add, il_full])\n",
    "hl = keras.layers.Dense(128, activation='relu')(cl)\n",
    "ol = keras.layers.Dense(1, activation='sigmoid')(hl)\n",
    "\n",
    "\n",
    "\n",
    "# 모델 선언\n",
    "model = keras.models.Model([il_full, il_p, il_s, il_m, il_co, il_etc], ol)\n",
    "\n",
    "# 모델 설정\n",
    "model.compile(loss=keras.losses.binary_crossentropy,\n",
    "              metrics=['accuracy'],\n",
    "              optimizer=keras.optimizers.Adam())\n",
    "\n",
    "# 모델 요약\n",
    "model.summary()"
   ]
  },
  {
   "cell_type": "markdown",
   "metadata": {
    "id": "MWkg0Oogw5W5"
   },
   "source": [
    "### 모델 구조 시각화"
   ]
  },
  {
   "cell_type": "code",
   "execution_count": 202,
   "metadata": {
    "id": "yVf1ZIhWIbRe"
   },
   "outputs": [
    {
     "data": {
      "image/png": "[encoded data removed]",
      "text/plain": [
       "<IPython.core.display.Image object>"
      ]
     },
     "execution_count": 202,
     "metadata": {},
     "output_type": "execute_result"
    }
   ],
   "source": [
    "# 모델 시각화\n",
    "from tensorflow.keras.utils import plot_model\n",
    "\n",
    "plot_model(model, show_shapes=True, show_layer_names=True)"
   ]
  },
  {
   "cell_type": "markdown",
   "metadata": {
    "id": "fLnughPGxKr4"
   },
   "source": [
    "### 모델 학습"
   ]
  },
  {
   "cell_type": "code",
   "execution_count": 203,
   "metadata": {},
   "outputs": [
    {
     "data": {
      "text/plain": [
       "pandas.core.series.Series"
      ]
     },
     "execution_count": 203,
     "metadata": {},
     "output_type": "execute_result"
    }
   ],
   "source": [
    "type(y_train)"
   ]
  },
  {
   "cell_type": "code",
   "execution_count": 204,
   "metadata": {
    "id": "aXPOYO-jIf94"
   },
   "outputs": [],
   "source": [
    "train_list = [x_train, personal, survey, money, company_out, etc]\n",
    "test_list = [x_test, personal_test, survey_test, money_test, company_out_test, etc_test]"
   ]
  },
  {
   "cell_type": "code",
   "execution_count": 205,
   "metadata": {},
   "outputs": [
    {
     "data": {
      "text/plain": [
       "list"
      ]
     },
     "execution_count": 205,
     "metadata": {},
     "output_type": "execute_result"
    }
   ],
   "source": [
    "type([x_train, personal, survey, money, company_out, etc])"
   ]
  },
  {
   "cell_type": "code",
   "execution_count": 206,
   "metadata": {},
   "outputs": [
    {
     "name": "stdout",
     "output_type": "stream",
     "text": [
      "Epoch 1/25\n",
      "29/29 [==============================] - 1s 12ms/step - loss: 229.4051 - accuracy: 0.5500 - val_loss: 88.3766 - val_accuracy: 0.8400\n",
      "Epoch 2/25\n",
      "29/29 [==============================] - 0s 4ms/step - loss: 47.5247 - accuracy: 0.8433 - val_loss: 22.3939 - val_accuracy: 0.8400\n",
      "Epoch 3/25\n",
      "29/29 [==============================] - 0s 4ms/step - loss: 6.0348 - accuracy: 0.7633 - val_loss: 3.1040 - val_accuracy: 0.8400\n",
      "Epoch 4/25\n",
      "29/29 [==============================] - 0s 4ms/step - loss: 1.2675 - accuracy: 0.7633 - val_loss: 5.1382 - val_accuracy: 0.8400\n",
      "Epoch 5/25\n",
      "29/29 [==============================] - 0s 4ms/step - loss: 1.4234 - accuracy: 0.7922 - val_loss: 0.9352 - val_accuracy: 0.8400\n",
      "Epoch 6/25\n",
      "29/29 [==============================] - 0s 5ms/step - loss: 3.6235 - accuracy: 0.7856 - val_loss: 3.9779 - val_accuracy: 0.8400\n",
      "Epoch 7/25\n",
      "29/29 [==============================] - 0s 4ms/step - loss: 3.1639 - accuracy: 0.7889 - val_loss: 17.5871 - val_accuracy: 0.1600\n",
      "Epoch 8/25\n",
      "29/29 [==============================] - 0s 4ms/step - loss: 9.5227 - accuracy: 0.7244 - val_loss: 5.7204 - val_accuracy: 0.8400\n",
      "Epoch 9/25\n",
      "29/29 [==============================] - 0s 4ms/step - loss: 1.3645 - accuracy: 0.7422 - val_loss: 1.5889 - val_accuracy: 0.8400\n",
      "Epoch 10/25\n",
      "29/29 [==============================] - 0s 4ms/step - loss: 0.8791 - accuracy: 0.7767 - val_loss: 5.0836 - val_accuracy: 0.8400\n",
      "Epoch 11/25\n",
      "29/29 [==============================] - 0s 4ms/step - loss: 2.9591 - accuracy: 0.7856 - val_loss: 1.9095 - val_accuracy: 0.2300\n",
      "Epoch 12/25\n",
      "29/29 [==============================] - 0s 4ms/step - loss: 5.5158 - accuracy: 0.7733 - val_loss: 7.3805 - val_accuracy: 0.1600\n",
      "Epoch 13/25\n",
      "29/29 [==============================] - 0s 4ms/step - loss: 1.2893 - accuracy: 0.7589 - val_loss: 3.7743 - val_accuracy: 0.8400\n",
      "Epoch 14/25\n",
      "29/29 [==============================] - 0s 4ms/step - loss: 7.1386 - accuracy: 0.7933 - val_loss: 3.5297 - val_accuracy: 0.8400\n",
      "Epoch 15/25\n",
      "29/29 [==============================] - 0s 4ms/step - loss: 2.1798 - accuracy: 0.7533 - val_loss: 3.6277 - val_accuracy: 0.8400\n",
      "Epoch 16/25\n",
      "29/29 [==============================] - 0s 4ms/step - loss: 1.3375 - accuracy: 0.7678 - val_loss: 1.7109 - val_accuracy: 0.8500\n",
      "Epoch 17/25\n",
      "29/29 [==============================] - 0s 4ms/step - loss: 2.2505 - accuracy: 0.7944 - val_loss: 4.7982 - val_accuracy: 0.8400\n",
      "Epoch 18/25\n",
      "29/29 [==============================] - 0s 4ms/step - loss: 2.3999 - accuracy: 0.7678 - val_loss: 4.7047 - val_accuracy: 0.8400\n",
      "Epoch 19/25\n",
      "29/29 [==============================] - 0s 4ms/step - loss: 3.1992 - accuracy: 0.7500 - val_loss: 9.1281 - val_accuracy: 0.8400\n",
      "Epoch 20/25\n",
      "29/29 [==============================] - 0s 4ms/step - loss: 5.6193 - accuracy: 0.7578 - val_loss: 4.0962 - val_accuracy: 0.8400\n",
      "Epoch 21/25\n",
      "29/29 [==============================] - 0s 4ms/step - loss: 1.6230 - accuracy: 0.7700 - val_loss: 1.3389 - val_accuracy: 0.5200\n",
      "Epoch 22/25\n",
      "29/29 [==============================] - 0s 4ms/step - loss: 2.2117 - accuracy: 0.7533 - val_loss: 5.6835 - val_accuracy: 0.8400\n",
      "Epoch 23/25\n",
      "29/29 [==============================] - 0s 5ms/step - loss: 1.1781 - accuracy: 0.8033 - val_loss: 0.6833 - val_accuracy: 0.7600\n",
      "Epoch 24/25\n",
      "29/29 [==============================] - 0s 4ms/step - loss: 2.7873 - accuracy: 0.8033 - val_loss: 1.7929 - val_accuracy: 0.8400\n",
      "Epoch 25/25\n",
      "29/29 [==============================] - 0s 5ms/step - loss: 1.6795 - accuracy: 0.7700 - val_loss: 6.9038 - val_accuracy: 0.8400\n"
     ]
    },
    {
     "data": {
      "text/plain": [
       "<keras.callbacks.History at 0x1bcf0976d60>"
      ]
     },
     "execution_count": 206,
     "metadata": {},
     "output_type": "execute_result"
    }
   ],
   "source": [
    "model.fit(train_list, y_train,\n",
    "          epochs=25, \n",
    "          verbose=1, \n",
    "          validation_split=0.1)"
   ]
  },
  {
   "cell_type": "markdown",
   "metadata": {
    "id": "mpmzUPy81EU4"
   },
   "source": [
    "### 모델 예측"
   ]
  },
  {
   "cell_type": "code",
   "execution_count": 207,
   "metadata": {
    "id": "_vqttmIaIhOM"
   },
   "outputs": [
    {
     "name": "stdout",
     "output_type": "stream",
     "text": [
      "8/8 [==============================] - 0s 2ms/step - loss: 4.5591 - accuracy: 0.8280\n"
     ]
    },
    {
     "data": {
      "text/plain": [
       "[4.559148788452148, 0.828000009059906]"
      ]
     },
     "execution_count": 207,
     "metadata": {},
     "output_type": "execute_result"
    }
   ],
   "source": [
    "model.evaluate(test_list, y_test)"
   ]
  },
  {
   "cell_type": "code",
   "execution_count": 208,
   "metadata": {
    "id": "tyc-c9WqIhKP"
   },
   "outputs": [
    {
     "data": {
      "text/plain": [
       "array([[1.4363304e-14],\n",
       "       [7.0476467e-08],\n",
       "       [1.4708738e-30],\n",
       "       [2.2347979e-07],\n",
       "       [2.1356797e-08]], dtype=float32)"
      ]
     },
     "execution_count": 208,
     "metadata": {},
     "output_type": "execute_result"
    }
   ],
   "source": [
    "y_pred = model.predict(test_list)\n",
    "y_pred[:5]"
   ]
  },
  {
   "cell_type": "code",
   "execution_count": 209,
   "metadata": {},
   "outputs": [
    {
     "data": {
      "text/plain": [
       "array([[0.],\n",
       "       [0.],\n",
       "       [0.],\n",
       "       [0.],\n",
       "       [0.]], dtype=float32)"
      ]
     },
     "execution_count": 209,
     "metadata": {},
     "output_type": "execute_result"
    }
   ],
   "source": [
    "# y - (0,1) 변경\n",
    "for idx, val in enumerate(y_pred):\n",
    "    if val >= 0.5 :\n",
    "        y_pred[idx] = 1\n",
    "    else :\n",
    "        y_pred[idx] = 0\n",
    "        \n",
    "y_pred[:5]"
   ]
  },
  {
   "cell_type": "markdown",
   "metadata": {
    "id": "5hu2kSt06YhE"
   },
   "source": [
    "## 평가\n",
    "\n",
    "1. 모델의 정확도를 기재하시오.\n",
    "2. 이직이라 예측한 것 중 실제로 이직한 비율을 구하시오.\n",
    "3. 실제 이직 데이터 중 모델이 이직이라 예측한 것의 비율을 구하시오.\n",
    "4. 남는다고 예측한 것 중 실제로 남아있는 비율을 구하시오.\n",
    "---\n",
    "### hidden layer 2개를 사용한 multilayer perceptron 구조와 비교하시오."
   ]
  },
  {
   "cell_type": "code",
   "execution_count": 210,
   "metadata": {},
   "outputs": [
    {
     "name": "stdout",
     "output_type": "stream",
     "text": [
      "              precision    recall  f1-score   support\n",
      "\n",
      "          No       0.83      1.00      0.91       207\n",
      "         Yes       0.00      0.00      0.00        43\n",
      "\n",
      "    accuracy                           0.83       250\n",
      "   macro avg       0.41      0.50      0.45       250\n",
      "weighted avg       0.69      0.83      0.75       250\n",
      "\n"
     ]
    },
    {
     "name": "stderr",
     "output_type": "stream",
     "text": [
      "C:\\Users\\User\\anaconda3\\lib\\site-packages\\sklearn\\metrics\\_classification.py:1318: UndefinedMetricWarning: Precision and F-score are ill-defined and being set to 0.0 in labels with no predicted samples. Use `zero_division` parameter to control this behavior.\n",
      "  _warn_prf(average, modifier, msg_start, len(result))\n",
      "C:\\Users\\User\\anaconda3\\lib\\site-packages\\sklearn\\metrics\\_classification.py:1318: UndefinedMetricWarning: Precision and F-score are ill-defined and being set to 0.0 in labels with no predicted samples. Use `zero_division` parameter to control this behavior.\n",
      "  _warn_prf(average, modifier, msg_start, len(result))\n",
      "C:\\Users\\User\\anaconda3\\lib\\site-packages\\sklearn\\metrics\\_classification.py:1318: UndefinedMetricWarning: Precision and F-score are ill-defined and being set to 0.0 in labels with no predicted samples. Use `zero_division` parameter to control this behavior.\n",
      "  _warn_prf(average, modifier, msg_start, len(result))\n"
     ]
    }
   ],
   "source": [
    "from sklearn.metrics import classification_report\n",
    "\n",
    "print(classification_report(y_test,y_pred, target_names=['No', 'Yes']))"
   ]
  },
  {
   "cell_type": "markdown",
   "metadata": {},
   "source": [
    "- 모델의 정확도 : accuracy\n",
    "- 이직이라 예측한 것 중 실제로 이직한 비율 : <1> precision\n",
    "- 실제 이직 데이터 중 모델이 이직이라 예측한 것의 비율 : <1> recall\n",
    "- 남는다고 예측한 것 중 실제로 남아있는 비율 : <0> precision"
   ]
  },
  {
   "cell_type": "markdown",
   "metadata": {},
   "source": [
    "- **locally model**\n",
    " - accuracy : 0.82\n",
    " - <1> precision : 0.44\n",
    " - <1> recall : 0.28\n",
    " - <0> precision : 0.86\n",
    " \n",
    " \n",
    " - <0> recall 이 가장 좋은 수치를 기록하였다.\n",
    " - <1> recall 이 매우 안 좋다.\n",
    " - 데이터 불균형으로 인해 영향이 미친 것으로 보인다."
   ]
  },
  {
   "cell_type": "code",
   "execution_count": null,
   "metadata": {},
   "outputs": [],
   "source": []
  },
  {
   "cell_type": "markdown",
   "metadata": {},
   "source": [
    "----"
   ]
  },
  {
   "cell_type": "markdown",
   "metadata": {},
   "source": [
    "#### multilayer perceptron 구조"
   ]
  },
  {
   "cell_type": "code",
   "execution_count": 211,
   "metadata": {},
   "outputs": [
    {
     "data": {
      "text/plain": [
       "((1000, 23), (1000,))"
      ]
     },
     "execution_count": 211,
     "metadata": {},
     "output_type": "execute_result"
    }
   ],
   "source": [
    "x_train.shape, y_train.shape"
   ]
  },
  {
   "cell_type": "code",
   "execution_count": 212,
   "metadata": {
    "id": "tE6VNEQ9Ilmg"
   },
   "outputs": [
    {
     "name": "stdout",
     "output_type": "stream",
     "text": [
      "Model: \"model\"\n",
      "_________________________________________________________________\n",
      " Layer (type)                Output Shape              Param #   \n",
      "=================================================================\n",
      " input_1 (InputLayer)        [(None, 23)]              0         \n",
      "                                                                 \n",
      " hl1 (Dense)                 (None, 8)                 192       \n",
      "                                                                 \n",
      " hl2 (Dense)                 (None, 8)                 72        \n",
      "                                                                 \n",
      " dense (Dense)               (None, 1)                 9         \n",
      "                                                                 \n",
      "=================================================================\n",
      "Total params: 273\n",
      "Trainable params: 273\n",
      "Non-trainable params: 0\n",
      "_________________________________________________________________\n"
     ]
    }
   ],
   "source": [
    "# 모델링 : Functional API\n",
    "# 청소\n",
    "keras.backend.clear_session()\n",
    "\n",
    "# 모델 연결\n",
    "il = keras.layers.Input(shape=(23,))\n",
    "hl = keras.layers.Dense(8, activation='relu', name='hl1')(il)\n",
    "hl = keras.layers.Dense(8, activation='relu', name='hl2')(hl)\n",
    "ol = keras.layers.Dense(1, activation='sigmoid')(hl)\n",
    "\n",
    "# 모델 선언\n",
    "model = keras.models.Model(il,ol)\n",
    "\n",
    "# 모델 설정\n",
    "model.compile(loss=keras.losses.binary_crossentropy,\n",
    "              metrics=['accuracy'],\n",
    "              optimizer=keras.optimizers.Adam())\n",
    "\n",
    "# 모델 요약\n",
    "model.summary()"
   ]
  },
  {
   "cell_type": "code",
   "execution_count": 213,
   "metadata": {
    "id": "C8UwTkt0Ilq-"
   },
   "outputs": [
    {
     "data": {
      "image/png": "[encoded data removed]",
      "text/plain": [
       "<IPython.core.display.Image object>"
      ]
     },
     "execution_count": 213,
     "metadata": {},
     "output_type": "execute_result"
    }
   ],
   "source": [
    "# 모델 시각화\n",
    "from tensorflow.keras.utils import plot_model\n",
    "\n",
    "plot_model(model, show_shapes=True, show_layer_names=True)"
   ]
  },
  {
   "cell_type": "code",
   "execution_count": 214,
   "metadata": {},
   "outputs": [
    {
     "name": "stdout",
     "output_type": "stream",
     "text": [
      "Epoch 1/25\n",
      "29/29 [==============================] - 1s 11ms/step - loss: 9.3203 - accuracy: 0.7522 - val_loss: 6.6128 - val_accuracy: 0.8400\n",
      "Epoch 2/25\n",
      "29/29 [==============================] - 0s 4ms/step - loss: 1.7393 - accuracy: 0.7533 - val_loss: 1.0121 - val_accuracy: 0.6900\n",
      "Epoch 3/25\n",
      "29/29 [==============================] - 0s 3ms/step - loss: 0.7458 - accuracy: 0.7344 - val_loss: 1.3475 - val_accuracy: 0.8000\n",
      "Epoch 4/25\n",
      "29/29 [==============================] - 0s 3ms/step - loss: 0.7324 - accuracy: 0.7367 - val_loss: 1.4550 - val_accuracy: 0.8200\n",
      "Epoch 5/25\n",
      "29/29 [==============================] - 0s 3ms/step - loss: 0.6849 - accuracy: 0.7611 - val_loss: 0.8012 - val_accuracy: 0.6900\n",
      "Epoch 6/25\n",
      "29/29 [==============================] - 0s 2ms/step - loss: 0.6472 - accuracy: 0.7567 - val_loss: 0.7711 - val_accuracy: 0.7300\n",
      "Epoch 7/25\n",
      "29/29 [==============================] - 0s 3ms/step - loss: 0.6303 - accuracy: 0.7633 - val_loss: 0.9268 - val_accuracy: 0.8100\n",
      "Epoch 8/25\n",
      "29/29 [==============================] - 0s 4ms/step - loss: 0.5789 - accuracy: 0.7922 - val_loss: 1.0487 - val_accuracy: 0.8200\n",
      "Epoch 9/25\n",
      "29/29 [==============================] - 0s 3ms/step - loss: 0.7153 - accuracy: 0.7856 - val_loss: 0.8312 - val_accuracy: 0.8100\n",
      "Epoch 10/25\n",
      "29/29 [==============================] - 0s 3ms/step - loss: 0.7633 - accuracy: 0.7711 - val_loss: 0.6150 - val_accuracy: 0.7100\n",
      "Epoch 11/25\n",
      "29/29 [==============================] - 0s 4ms/step - loss: 0.6056 - accuracy: 0.7822 - val_loss: 0.5957 - val_accuracy: 0.7600\n",
      "Epoch 12/25\n",
      "29/29 [==============================] - 0s 3ms/step - loss: 0.5529 - accuracy: 0.8000 - val_loss: 0.6253 - val_accuracy: 0.6600\n",
      "Epoch 13/25\n",
      "29/29 [==============================] - 0s 5ms/step - loss: 0.5528 - accuracy: 0.7967 - val_loss: 0.5597 - val_accuracy: 0.7200\n",
      "Epoch 14/25\n",
      "29/29 [==============================] - 0s 5ms/step - loss: 0.5718 - accuracy: 0.7956 - val_loss: 0.8902 - val_accuracy: 0.8500\n",
      "Epoch 15/25\n",
      "29/29 [==============================] - 0s 6ms/step - loss: 0.6039 - accuracy: 0.8156 - val_loss: 0.6026 - val_accuracy: 0.8300\n",
      "Epoch 16/25\n",
      "29/29 [==============================] - 0s 4ms/step - loss: 0.7549 - accuracy: 0.7867 - val_loss: 1.4769 - val_accuracy: 0.8400\n",
      "Epoch 17/25\n",
      "29/29 [==============================] - 0s 4ms/step - loss: 0.7766 - accuracy: 0.7978 - val_loss: 0.5417 - val_accuracy: 0.7600\n",
      "Epoch 18/25\n",
      "29/29 [==============================] - 0s 4ms/step - loss: 0.5968 - accuracy: 0.8056 - val_loss: 0.7107 - val_accuracy: 0.6100\n",
      "Epoch 19/25\n",
      "29/29 [==============================] - 0s 3ms/step - loss: 0.5574 - accuracy: 0.8111 - val_loss: 0.7255 - val_accuracy: 0.6000\n",
      "Epoch 20/25\n",
      "29/29 [==============================] - 0s 4ms/step - loss: 0.7871 - accuracy: 0.7956 - val_loss: 3.8229 - val_accuracy: 0.8400\n",
      "Epoch 21/25\n",
      "29/29 [==============================] - 0s 3ms/step - loss: 1.2298 - accuracy: 0.7922 - val_loss: 0.5687 - val_accuracy: 0.6900\n",
      "Epoch 22/25\n",
      "29/29 [==============================] - 0s 4ms/step - loss: 0.5651 - accuracy: 0.7989 - val_loss: 0.7152 - val_accuracy: 0.8400\n",
      "Epoch 23/25\n",
      "29/29 [==============================] - 0s 4ms/step - loss: 0.4811 - accuracy: 0.8100 - val_loss: 0.6272 - val_accuracy: 0.8300\n",
      "Epoch 24/25\n",
      "29/29 [==============================] - 0s 3ms/step - loss: 0.7168 - accuracy: 0.7800 - val_loss: 1.4862 - val_accuracy: 0.8400\n",
      "Epoch 25/25\n",
      "29/29 [==============================] - 0s 4ms/step - loss: 0.8765 - accuracy: 0.7967 - val_loss: 0.5857 - val_accuracy: 0.8300\n"
     ]
    },
    {
     "data": {
      "text/plain": [
       "<keras.callbacks.History at 0x1bcf1bc3f10>"
      ]
     },
     "execution_count": 214,
     "metadata": {},
     "output_type": "execute_result"
    }
   ],
   "source": [
    "# 학습\n",
    "model.fit(x_train, y_train,\n",
    "          epochs=25, \n",
    "          verbose=1, \n",
    "          validation_split=0.1)"
   ]
  },
  {
   "cell_type": "code",
   "execution_count": 215,
   "metadata": {
    "id": "_vqttmIaIhOM",
    "scrolled": true
   },
   "outputs": [
    {
     "name": "stdout",
     "output_type": "stream",
     "text": [
      "8/8 [==============================] - 0s 4ms/step - loss: 0.4742 - accuracy: 0.7920\n"
     ]
    },
    {
     "data": {
      "text/plain": [
       "[0.47416815161705017, 0.7919999957084656]"
      ]
     },
     "execution_count": 215,
     "metadata": {},
     "output_type": "execute_result"
    }
   ],
   "source": [
    "# 모델 확인\n",
    "model.evaluate(x_test, y_test)"
   ]
  },
  {
   "cell_type": "code",
   "execution_count": 216,
   "metadata": {
    "id": "tyc-c9WqIhKP"
   },
   "outputs": [
    {
     "data": {
      "text/plain": [
       "array([[0.16751361],\n",
       "       [0.17602044],\n",
       "       [0.00165036],\n",
       "       [0.09557536],\n",
       "       [0.4004588 ]], dtype=float32)"
      ]
     },
     "execution_count": 216,
     "metadata": {},
     "output_type": "execute_result"
    }
   ],
   "source": [
    "y_pred = model.predict(x_test)\n",
    "y_pred[:5]"
   ]
  },
  {
   "cell_type": "code",
   "execution_count": 218,
   "metadata": {},
   "outputs": [
    {
     "data": {
      "text/plain": [
       "array([[0.],\n",
       "       [0.],\n",
       "       [0.],\n",
       "       [0.],\n",
       "       [0.]], dtype=float32)"
      ]
     },
     "execution_count": 218,
     "metadata": {},
     "output_type": "execute_result"
    }
   ],
   "source": [
    "# y - (0,1) 변경\n",
    "for idx, val in enumerate(y_pred):\n",
    "    if val >= 0.5 :\n",
    "        y_pred[idx] = 1\n",
    "    else :\n",
    "        y_pred[idx] = 0\n",
    "        \n",
    "y_pred[:5]"
   ]
  },
  {
   "cell_type": "code",
   "execution_count": 219,
   "metadata": {},
   "outputs": [
    {
     "name": "stdout",
     "output_type": "stream",
     "text": [
      "              precision    recall  f1-score   support\n",
      "\n",
      "          No       0.84      0.93      0.88       207\n",
      "         Yes       0.29      0.14      0.19        43\n",
      "\n",
      "    accuracy                           0.79       250\n",
      "   macro avg       0.56      0.53      0.53       250\n",
      "weighted avg       0.74      0.79      0.76       250\n",
      "\n"
     ]
    }
   ],
   "source": [
    "from sklearn.metrics import classification_report\n",
    "\n",
    "print(classification_report(y_test,y_pred, target_names=['No', 'Yes']))"
   ]
  },
  {
   "cell_type": "markdown",
   "metadata": {},
   "source": [
    "- **locally model과 비교**\n",
    " - accracy : 0.01 상승\n",
    " - <0> recall : 0.07 상승\n",
    " - <1> precision : 0.56 상승\n",
    " - <1> recall : 0.26 감소\n",
    " \n",
    " \n",
    " - <1> recall 값이 매우 낮다.\n",
    " - 실제 이직한 직원 중 이직했다고 예측하는 recall값이 낮은 것으로 보아 예측모델 사용에 한계가 있을 것이다."
   ]
  },
  {
   "cell_type": "markdown",
   "metadata": {},
   "source": [
    "#### 결론\n",
    " - 데이터 불균형에 대한 해결이 필요.\n",
    " \n",
    " \n",
    " - **multilayer perceptron 구조** \n",
    "  - <1> recall 값을 제외 높은 수치를 기록하였으나, <1> recall 값이 0에 가까운 관계로 부적절한 예측모델.\n",
    " \n",
    " \n",
    " - **locally model**\n",
    "  - 역시 <1> recall 값이 매우 낮다.\n",
    "  \n",
    "  \n",
    "  - 두 모델 모두 <1> recall 값이 매우 낮다.\n",
    "  - 데이터 불균형의 문제라고 생각된다.\n",
    "  - 실제 이직한 직원 중 이직했다 라고 예측하는 상황은 예측모델에서 중요한 부분이므로 데이터에 문제가 없는지 확인이 필요하다."
   ]
  },
  {
   "cell_type": "markdown",
   "metadata": {},
   "source": [
    "#### oversampling"
   ]
  },
  {
   "cell_type": "code",
   "execution_count": 147,
   "metadata": {},
   "outputs": [
    {
     "data": {
      "text/plain": [
       "0    1050\n",
       "1     200\n",
       "Name: Attrition, dtype: int64"
      ]
     },
     "execution_count": 147,
     "metadata": {},
     "output_type": "execute_result"
    }
   ],
   "source": [
    "y.value_counts()"
   ]
  },
  {
   "cell_type": "code",
   "execution_count": 148,
   "metadata": {},
   "outputs": [],
   "source": [
    "# over sampling\n",
    "from imblearn.over_sampling import SMOTE\n",
    "\n",
    "smote = SMOTE(random_state=2022)\n",
    "x_over, y_over = smote.fit_resample(x, y)"
   ]
  },
  {
   "cell_type": "code",
   "execution_count": 149,
   "metadata": {},
   "outputs": [
    {
     "data": {
      "text/plain": [
       "0    1050\n",
       "1    1050\n",
       "Name: Attrition, dtype: int64"
      ]
     },
     "execution_count": 149,
     "metadata": {},
     "output_type": "execute_result"
    }
   ],
   "source": [
    "y_over.value_counts()"
   ]
  },
  {
   "cell_type": "code",
   "execution_count": 150,
   "metadata": {},
   "outputs": [],
   "source": [
    "from sklearn.model_selection import train_test_split\n",
    "\n",
    "x_train, x_test, y_train, y_test = train_test_split(x_over, y_over, test_size=0.3, random_state=2022) "
   ]
  },
  {
   "cell_type": "code",
   "execution_count": 151,
   "metadata": {},
   "outputs": [
    {
     "name": "stdout",
     "output_type": "stream",
     "text": [
      "Model: \"model\"\n",
      "_________________________________________________________________\n",
      " Layer (type)                Output Shape              Param #   \n",
      "=================================================================\n",
      " input_1 (InputLayer)        [(None, 24)]              0         \n",
      "                                                                 \n",
      " hl1 (Dense)                 (None, 64)                1600      \n",
      "                                                                 \n",
      " hl2 (Dense)                 (None, 64)                4160      \n",
      "                                                                 \n",
      " dense (Dense)               (None, 1)                 65        \n",
      "                                                                 \n",
      "=================================================================\n",
      "Total params: 5,825\n",
      "Trainable params: 5,825\n",
      "Non-trainable params: 0\n",
      "_________________________________________________________________\n"
     ]
    }
   ],
   "source": [
    "# 모델링 : Functional API\n",
    "# 청소\n",
    "keras.backend.clear_session()\n",
    "\n",
    "# 모델 연결\n",
    "il = keras.layers.Input(shape=(24,))\n",
    "hl = keras.layers.Dense(64, activation='relu', name='hl1')(il)\n",
    "hl = keras.layers.Dense(64, activation='relu', name='hl2')(hl)\n",
    "ol = keras.layers.Dense(1, activation='sigmoid')(hl)\n",
    "\n",
    "# 모델 선언\n",
    "model = keras.models.Model(il,ol)\n",
    "\n",
    "# 모델 설정\n",
    "model.compile(loss=keras.losses.binary_crossentropy,\n",
    "              metrics=['accuracy'],\n",
    "              optimizer=keras.optimizers.Adam())\n",
    "\n",
    "# 모델 요약\n",
    "model.summary()\n"
   ]
  },
  {
   "cell_type": "code",
   "execution_count": 152,
   "metadata": {},
   "outputs": [
    {
     "data": {
      "image/png": "[encoded data removed]",
      "text/plain": [
       "<IPython.core.display.Image object>"
      ]
     },
     "execution_count": 152,
     "metadata": {},
     "output_type": "execute_result"
    }
   ],
   "source": [
    "# 모델 시각화\n",
    "from tensorflow.keras.utils import plot_model\n",
    "\n",
    "plot_model(model, show_shapes=True, show_layer_names=True)"
   ]
  },
  {
   "cell_type": "code",
   "execution_count": 153,
   "metadata": {},
   "outputs": [
    {
     "name": "stdout",
     "output_type": "stream",
     "text": [
      "Epoch 1/25\n"
     ]
    },
    {
     "ename": "ValueError",
     "evalue": "in user code:\n\n    File \"C:\\Users\\User\\anaconda3\\lib\\site-packages\\keras\\engine\\training.py\", line 1021, in train_function  *\n        return step_function(self, iterator)\n    File \"C:\\Users\\User\\anaconda3\\lib\\site-packages\\keras\\engine\\training.py\", line 1010, in step_function  **\n        outputs = model.distribute_strategy.run(run_step, args=(data,))\n    File \"C:\\Users\\User\\anaconda3\\lib\\site-packages\\keras\\engine\\training.py\", line 1000, in run_step  **\n        outputs = model.train_step(data)\n    File \"C:\\Users\\User\\anaconda3\\lib\\site-packages\\keras\\engine\\training.py\", line 859, in train_step\n        y_pred = self(x, training=True)\n    File \"C:\\Users\\User\\anaconda3\\lib\\site-packages\\keras\\utils\\traceback_utils.py\", line 67, in error_handler\n        raise e.with_traceback(filtered_tb) from None\n    File \"C:\\Users\\User\\anaconda3\\lib\\site-packages\\keras\\engine\\input_spec.py\", line 264, in assert_input_compatibility\n        raise ValueError(f'Input {input_index} of layer \"{layer_name}\" is '\n\n    ValueError: Input 0 of layer \"model\" is incompatible with the layer: expected shape=(None, 24), found shape=(None, 23)\n",
     "output_type": "error",
     "traceback": [
      "\u001b[1;31m---------------------------------------------------------------------------\u001b[0m",
      "\u001b[1;31mValueError\u001b[0m                                Traceback (most recent call last)",
      "\u001b[1;32m<ipython-input-153-3bd21bcc6508>\u001b[0m in \u001b[0;36m<module>\u001b[1;34m\u001b[0m\n\u001b[1;32m----> 1\u001b[1;33m model.fit(x_train, y_train,\n\u001b[0m\u001b[0;32m      2\u001b[0m           \u001b[0mepochs\u001b[0m\u001b[1;33m=\u001b[0m\u001b[1;36m25\u001b[0m\u001b[1;33m,\u001b[0m\u001b[1;33m\u001b[0m\u001b[1;33m\u001b[0m\u001b[0m\n\u001b[0;32m      3\u001b[0m           \u001b[0mverbose\u001b[0m\u001b[1;33m=\u001b[0m\u001b[1;36m1\u001b[0m\u001b[1;33m,\u001b[0m\u001b[1;33m\u001b[0m\u001b[1;33m\u001b[0m\u001b[0m\n\u001b[0;32m      4\u001b[0m           validation_split=0.1)\n",
      "\u001b[1;32m~\\anaconda3\\lib\\site-packages\\keras\\utils\\traceback_utils.py\u001b[0m in \u001b[0;36merror_handler\u001b[1;34m(*args, **kwargs)\u001b[0m\n\u001b[0;32m     65\u001b[0m     \u001b[1;32mexcept\u001b[0m \u001b[0mException\u001b[0m \u001b[1;32mas\u001b[0m \u001b[0me\u001b[0m\u001b[1;33m:\u001b[0m  \u001b[1;31m# pylint: disable=broad-except\u001b[0m\u001b[1;33m\u001b[0m\u001b[1;33m\u001b[0m\u001b[0m\n\u001b[0;32m     66\u001b[0m       \u001b[0mfiltered_tb\u001b[0m \u001b[1;33m=\u001b[0m \u001b[0m_process_traceback_frames\u001b[0m\u001b[1;33m(\u001b[0m\u001b[0me\u001b[0m\u001b[1;33m.\u001b[0m\u001b[0m__traceback__\u001b[0m\u001b[1;33m)\u001b[0m\u001b[1;33m\u001b[0m\u001b[1;33m\u001b[0m\u001b[0m\n\u001b[1;32m---> 67\u001b[1;33m       \u001b[1;32mraise\u001b[0m \u001b[0me\u001b[0m\u001b[1;33m.\u001b[0m\u001b[0mwith_traceback\u001b[0m\u001b[1;33m(\u001b[0m\u001b[0mfiltered_tb\u001b[0m\u001b[1;33m)\u001b[0m \u001b[1;32mfrom\u001b[0m \u001b[1;32mNone\u001b[0m\u001b[1;33m\u001b[0m\u001b[1;33m\u001b[0m\u001b[0m\n\u001b[0m\u001b[0;32m     68\u001b[0m     \u001b[1;32mfinally\u001b[0m\u001b[1;33m:\u001b[0m\u001b[1;33m\u001b[0m\u001b[1;33m\u001b[0m\u001b[0m\n\u001b[0;32m     69\u001b[0m       \u001b[1;32mdel\u001b[0m \u001b[0mfiltered_tb\u001b[0m\u001b[1;33m\u001b[0m\u001b[1;33m\u001b[0m\u001b[0m\n",
      "\u001b[1;32m~\\anaconda3\\lib\\site-packages\\tensorflow\\python\\framework\\func_graph.py\u001b[0m in \u001b[0;36mautograph_handler\u001b[1;34m(*args, **kwargs)\u001b[0m\n\u001b[0;32m   1145\u001b[0m           \u001b[1;32mexcept\u001b[0m \u001b[0mException\u001b[0m \u001b[1;32mas\u001b[0m \u001b[0me\u001b[0m\u001b[1;33m:\u001b[0m  \u001b[1;31m# pylint:disable=broad-except\u001b[0m\u001b[1;33m\u001b[0m\u001b[1;33m\u001b[0m\u001b[0m\n\u001b[0;32m   1146\u001b[0m             \u001b[1;32mif\u001b[0m \u001b[0mhasattr\u001b[0m\u001b[1;33m(\u001b[0m\u001b[0me\u001b[0m\u001b[1;33m,\u001b[0m \u001b[1;34m\"ag_error_metadata\"\u001b[0m\u001b[1;33m)\u001b[0m\u001b[1;33m:\u001b[0m\u001b[1;33m\u001b[0m\u001b[1;33m\u001b[0m\u001b[0m\n\u001b[1;32m-> 1147\u001b[1;33m               \u001b[1;32mraise\u001b[0m \u001b[0me\u001b[0m\u001b[1;33m.\u001b[0m\u001b[0mag_error_metadata\u001b[0m\u001b[1;33m.\u001b[0m\u001b[0mto_exception\u001b[0m\u001b[1;33m(\u001b[0m\u001b[0me\u001b[0m\u001b[1;33m)\u001b[0m\u001b[1;33m\u001b[0m\u001b[1;33m\u001b[0m\u001b[0m\n\u001b[0m\u001b[0;32m   1148\u001b[0m             \u001b[1;32melse\u001b[0m\u001b[1;33m:\u001b[0m\u001b[1;33m\u001b[0m\u001b[1;33m\u001b[0m\u001b[0m\n\u001b[0;32m   1149\u001b[0m               \u001b[1;32mraise\u001b[0m\u001b[1;33m\u001b[0m\u001b[1;33m\u001b[0m\u001b[0m\n",
      "\u001b[1;31mValueError\u001b[0m: in user code:\n\n    File \"C:\\Users\\User\\anaconda3\\lib\\site-packages\\keras\\engine\\training.py\", line 1021, in train_function  *\n        return step_function(self, iterator)\n    File \"C:\\Users\\User\\anaconda3\\lib\\site-packages\\keras\\engine\\training.py\", line 1010, in step_function  **\n        outputs = model.distribute_strategy.run(run_step, args=(data,))\n    File \"C:\\Users\\User\\anaconda3\\lib\\site-packages\\keras\\engine\\training.py\", line 1000, in run_step  **\n        outputs = model.train_step(data)\n    File \"C:\\Users\\User\\anaconda3\\lib\\site-packages\\keras\\engine\\training.py\", line 859, in train_step\n        y_pred = self(x, training=True)\n    File \"C:\\Users\\User\\anaconda3\\lib\\site-packages\\keras\\utils\\traceback_utils.py\", line 67, in error_handler\n        raise e.with_traceback(filtered_tb) from None\n    File \"C:\\Users\\User\\anaconda3\\lib\\site-packages\\keras\\engine\\input_spec.py\", line 264, in assert_input_compatibility\n        raise ValueError(f'Input {input_index} of layer \"{layer_name}\" is '\n\n    ValueError: Input 0 of layer \"model\" is incompatible with the layer: expected shape=(None, 24), found shape=(None, 23)\n"
     ]
    }
   ],
   "source": [
    "model.fit(x_train, y_train,\n",
    "          epochs=25, \n",
    "          verbose=1, \n",
    "          validation_split=0.1)"
   ]
  },
  {
   "cell_type": "code",
   "execution_count": null,
   "metadata": {
    "id": "_vqttmIaIhOM",
    "scrolled": true
   },
   "outputs": [],
   "source": [
    "# 모델 확인\n",
    "model.evaluate(x_test, y_test)"
   ]
  },
  {
   "cell_type": "code",
   "execution_count": null,
   "metadata": {
    "id": "tyc-c9WqIhKP"
   },
   "outputs": [],
   "source": [
    "y_pred = model.predict(x_test)\n",
    "y_pred[:5]"
   ]
  },
  {
   "cell_type": "code",
   "execution_count": null,
   "metadata": {},
   "outputs": [],
   "source": [
    "# y - (0,1) 변경\n",
    "for idx, val in enumerate(y_pred):\n",
    "    if val >= 0.5 :\n",
    "        y_pred[idx] = 1\n",
    "    else :\n",
    "        y_pred[idx] = 0\n",
    "        \n",
    "y_pred[:5]"
   ]
  },
  {
   "cell_type": "code",
   "execution_count": null,
   "metadata": {},
   "outputs": [],
   "source": [
    "from sklearn.metrics import classification_report\n",
    "\n",
    "print(classification_report(y_test,y_pred, target_names=['No', 'Yes']))"
   ]
  },
  {
   "cell_type": "markdown",
   "metadata": {},
   "source": [
    "#### over sampling 이후 multilayer perceptron구조\n",
    "- accuracy : 0.17 감소\n",
    "- <1> recall : 0.48 증가\n",
    "\n",
    "\n",
    "- <1> recall의 증가가 있었으나, accuracy의 감소가 발생하였다."
   ]
  },
  {
   "cell_type": "code",
   "execution_count": null,
   "metadata": {},
   "outputs": [],
   "source": []
  }
 ],
 "metadata": {
  "colab": {
   "collapsed_sections": [],
   "name": "3_6_직원 이직 여부 예측.ipynb",
   "provenance": [],
   "toc_visible": true
  },
  "kernelspec": {
   "display_name": "Python 3",
   "language": "python",
   "name": "python3"
  },
  "language_info": {
   "codemirror_mode": {
    "name": "ipython",
    "version": 3
   },
   "file_extension": ".py",
   "mimetype": "text/x-python",
   "name": "python",
   "nbconvert_exporter": "python",
   "pygments_lexer": "ipython3",
   "version": "3.8.8"
  }
 },
 "nbformat": 4,
 "nbformat_minor": 1
}
