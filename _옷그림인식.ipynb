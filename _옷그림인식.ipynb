{
 "cells": [
  {
   "cell_type": "markdown",
   "id": "5f44cbfc",
   "metadata": {},
   "source": [
    "# Fashion-MNIST\n",
    "- (~,28,28) : 2차원을 뜻함 -> 1차원으로 변환 후 인식가능"
   ]
  },
  {
   "cell_type": "code",
   "execution_count": 2,
   "id": "40d288a7",
   "metadata": {},
   "outputs": [
    {
     "name": "stdout",
     "output_type": "stream",
     "text": [
      "x_train_shape : (60000, 28, 28) y_train_shape : (60000,)\n"
     ]
    }
   ],
   "source": [
    "import numpy as np\n",
    "import pandas as pd\n",
    "import tensorflow as tf\n",
    "from tensorflow import keras\n",
    "import matplotlib.pyplot as plt\n",
    "\n",
    "(x_train, y_train), (x_test, y_test) = keras.datasets.fashion_mnist.load_data()\n",
    "\n",
    "print('x_train_shape :', x_train.shape, 'y_train_shape :', y_train.shape)"
   ]
  },
  {
   "cell_type": "code",
   "execution_count": 10,
   "id": "021f4d9c",
   "metadata": {},
   "outputs": [
    {
     "name": "stdout",
     "output_type": "stream",
     "text": [
      "x_train_shape : (60000, 28, 28) y_train_shape : (60000,)\n",
      "60000 train_set\n",
      "10000 test_set\n",
      "y = 8 Bag\n"
     ]
    },
    {
     "data": {
      "text/plain": [
       "<matplotlib.image.AxesImage at 0x2c440660eb0>"
      ]
     },
     "execution_count": 10,
     "metadata": {},
     "output_type": "execute_result"
    },
    {
     "data": {
      "image/png": "[encoded data removed]",
      "text/plain": [
       "<Figure size 432x288 with 1 Axes>"
      ]
     },
     "metadata": {
      "needs_background": "light"
     },
     "output_type": "display_data"
    }
   ],
   "source": [
    "print('x_train_shape :', x_train.shape, 'y_train_shape :', y_train.shape)\n",
    "\n",
    "print(x_train.shape[0], 'train_set')\n",
    "print(x_test.shape[0], 'test_set')\n",
    "\n",
    "fashion_mnist_labels = [\"T-shirt/top\",  # index 0\n",
    "                        \"Trouser\",      # index 1\n",
    "                        \"Pullover\",     # index 2 \n",
    "                        \"Dress\",        # index 3 \n",
    "                        \"Coat\",         # index 4\n",
    "                        \"Sandal\",       # index 5\n",
    "                        \"Shirt\",        # index 6 \n",
    "                        \"Sneaker\",      # index 7 \n",
    "                        \"Bag\",          # index 8 \n",
    "                        \"Ankle boot\"]   # index 9\n",
    "\n",
    "img_index = np.random.randint(0,59999)  # 0~59,999 사이 아무 값을 선정\n",
    "\n",
    "label_index = y_train[img_index]        # 그 값을 인덱스로한 y_train 값\n",
    "\n",
    "# 그 값을 나타냄\n",
    "print('y = ' + str(label_index) + ' ' + (fashion_mnist_labels[label_index]))\n",
    "\n",
    "# 그림으로 나타냄\n",
    "plt.imshow(x_train[img_index], cmap='gray')"
   ]
  },
  {
   "cell_type": "markdown",
   "id": "7239292e",
   "metadata": {},
   "source": [
    "### 전처리\n",
    "- x : 2차원을 1차원으로 / 정규화\n",
    "- y : 멀티클래스 (y 값의 개수)"
   ]
  },
  {
   "cell_type": "code",
   "execution_count": 11,
   "id": "54b1194e",
   "metadata": {},
   "outputs": [
    {
     "data": {
      "text/plain": [
       "((60000, 28, 28), (10000, 28, 28), (60000,), (10000,))"
      ]
     },
     "execution_count": 11,
     "metadata": {},
     "output_type": "execute_result"
    }
   ],
   "source": [
    "x_train.shape, x_test.shape, y_train.shape, y_test.shape"
   ]
  },
  {
   "cell_type": "code",
   "execution_count": 12,
   "id": "3d834ad3",
   "metadata": {},
   "outputs": [
    {
     "data": {
      "text/plain": [
       "((60000, 784), (10000, 784))"
      ]
     },
     "execution_count": 12,
     "metadata": {},
     "output_type": "execute_result"
    }
   ],
   "source": [
    "# 2차원을 1차원화\n",
    "\n",
    "x_train = x_train.reshape([x_train.shape[0], -1])\n",
    "x_test = x_test.reshape([x_test.shape[0], -1])\n",
    "\n",
    "x_train.shape, x_test.shape"
   ]
  },
  {
   "cell_type": "code",
   "execution_count": 15,
   "id": "81d76fbd",
   "metadata": {},
   "outputs": [
    {
     "name": "stdout",
     "output_type": "stream",
     "text": [
      "255 0\n"
     ]
    }
   ],
   "source": [
    "print(x_train.max(), x_train.min())"
   ]
  },
  {
   "cell_type": "code",
   "execution_count": 21,
   "id": "fbc02e58",
   "metadata": {},
   "outputs": [
    {
     "name": "stdout",
     "output_type": "stream",
     "text": [
      "1.0 0.0\n",
      "1.0 0.0\n"
     ]
    }
   ],
   "source": [
    "# x값 정규화\n",
    "\n",
    "xtrain_max = x_train.max()\n",
    "xtrain_min = x_train.min()\n",
    "\n",
    "xtest_max = x_test.max()\n",
    "xtest_min = x_test.min()\n",
    "\n",
    "x_train = (x_train - xtrain_min) / (xtrain_max - xtrain_min)\n",
    "x_test = (x_test - xtest_min) / (xtest_max - xtest_min)\n",
    "\n",
    "print(x_train.max(), x_train.min())\n",
    "print(x_test.max(), x_test.min())"
   ]
  },
  {
   "cell_type": "code",
   "execution_count": 22,
   "id": "699698b7",
   "metadata": {},
   "outputs": [
    {
     "data": {
      "text/plain": [
       "((60000, 10), (10000, 10))"
      ]
     },
     "execution_count": 22,
     "metadata": {},
     "output_type": "execute_result"
    }
   ],
   "source": [
    "# y : one-hot-encoding\n",
    "\n",
    "from tensorflow.keras.utils import to_categorical\n",
    "\n",
    "y_train = to_categorical(y_train, 10)\n",
    "y_test = to_categorical(y_test, 10)\n",
    "\n",
    "y_train.shape, y_test.shape"
   ]
  },
  {
   "cell_type": "code",
   "execution_count": 23,
   "id": "f2e621f0",
   "metadata": {},
   "outputs": [
    {
     "name": "stdout",
     "output_type": "stream",
     "text": [
      "Model: \"model\"\n",
      "_________________________________________________________________\n",
      " Layer (type)                Output Shape              Param #   \n",
      "=================================================================\n",
      " input_1 (InputLayer)        [(None, 784)]             0         \n",
      "                                                                 \n",
      " h1 (Dense)                  (None, 512)               401920    \n",
      "                                                                 \n",
      " h2 (Dense)                  (None, 512)               262656    \n",
      "                                                                 \n",
      " h3 (Dense)                  (None, 512)               262656    \n",
      "                                                                 \n",
      " h4 (Dense)                  (None, 512)               262656    \n",
      "                                                                 \n",
      " output (Dense)              (None, 10)                5130      \n",
      "                                                                 \n",
      "=================================================================\n",
      "Total params: 1,195,018\n",
      "Trainable params: 1,195,018\n",
      "Non-trainable params: 0\n",
      "_________________________________________________________________\n"
     ]
    }
   ],
   "source": [
    "#### 모델링 : Functional API\n",
    "\n",
    "# 청소\n",
    "keras.backend.clear_session()\n",
    "\n",
    "# 모델 연결\n",
    "il = keras.layers.Input(shape=(784,))\n",
    "\n",
    "# 1차원화 안했을 때\n",
    "# il = keras.layers.Input(shape=(28,28))\n",
    "# fl = keras.layers.Flatten()(il)               # 2차원을 펼쳐줌.\n",
    "# hl = keras.layers.Dense(512, activation='relu', name='h1')(fl)\n",
    "\n",
    "hl = keras.layers.Dense(512, activation='relu', name='h1')(il)\n",
    "hl = keras.layers.Dense(512, activation='relu', name='h2')(hl)\n",
    "hl = keras.layers.Dense(512, activation='relu', name='h3')(hl)\n",
    "hl = keras.layers.Dense(512, activation='relu', name='h4')(hl)\n",
    "ol = keras.layers.Dense(10, activation='softmax', name='output')(hl)\n",
    "\n",
    "# 모델 선언\n",
    "model = keras.models.Model(il,ol)\n",
    "\n",
    "# 모델 설정\n",
    "model.compile(loss=keras.losses.categorical_crossentropy,\n",
    "              metrics=['accuracy'],\n",
    "              optimizer=keras.optimizers.Adam(0.01))\n",
    "\n",
    "# 모델 요약\n",
    "model.summary()"
   ]
  },
  {
   "cell_type": "code",
   "execution_count": 24,
   "id": "a52db409",
   "metadata": {},
   "outputs": [],
   "source": [
    "# 최적의 epoch 찾기\n",
    "from tensorflow.keras.callbacks import EarlyStopping\n",
    "\n",
    "es = EarlyStopping(monitor='val_loss',   ## 관찰대상\n",
    "                   min_delta=0,          ## 0이면 최소한 나쁘지지 않으면 괜찮\n",
    "                   patience=5,           ## 몇번이나 나빠져도 참고 기다리기\n",
    "                   verbose=1,\n",
    "                   restore_best_weights=True)  ## 학습최적 가중치 복구!"
   ]
  },
  {
   "cell_type": "code",
   "execution_count": 25,
   "id": "615db76e",
   "metadata": {},
   "outputs": [
    {
     "name": "stdout",
     "output_type": "stream",
     "text": [
      "Epoch 1/100\n",
      "1500/1500 [==============================] - 17s 11ms/step - loss: 0.7464 - accuracy: 0.7395 - val_loss: 0.6313 - val_accuracy: 0.7755\n",
      "Epoch 2/100\n",
      "1500/1500 [==============================] - 16s 11ms/step - loss: 0.5597 - accuracy: 0.8093 - val_loss: 0.5092 - val_accuracy: 0.8309\n",
      "Epoch 3/100\n",
      "1500/1500 [==============================] - 16s 11ms/step - loss: 0.5353 - accuracy: 0.8179 - val_loss: 0.5046 - val_accuracy: 0.8309\n",
      "Epoch 4/100\n",
      "1500/1500 [==============================] - 16s 11ms/step - loss: 0.5283 - accuracy: 0.8210 - val_loss: 0.4924 - val_accuracy: 0.8235\n",
      "Epoch 5/100\n",
      "1500/1500 [==============================] - 16s 11ms/step - loss: 0.5016 - accuracy: 0.8288 - val_loss: 0.5126 - val_accuracy: 0.8278\n",
      "Epoch 6/100\n",
      "1500/1500 [==============================] - 16s 11ms/step - loss: 0.4831 - accuracy: 0.8338 - val_loss: 0.5222 - val_accuracy: 0.8236\n",
      "Epoch 7/100\n",
      "1500/1500 [==============================] - 16s 11ms/step - loss: 0.5519 - accuracy: 0.8173 - val_loss: 0.5570 - val_accuracy: 0.8103\n",
      "Epoch 8/100\n",
      "1500/1500 [==============================] - 17s 11ms/step - loss: 0.5476 - accuracy: 0.8205 - val_loss: 0.4927 - val_accuracy: 0.8339\n",
      "Epoch 9/100\n",
      "1500/1500 [==============================] - 17s 11ms/step - loss: 0.5265 - accuracy: 0.8284 - val_loss: 0.4868 - val_accuracy: 0.8414\n",
      "Epoch 10/100\n",
      "1500/1500 [==============================] - 17s 11ms/step - loss: 0.5349 - accuracy: 0.8296 - val_loss: 0.4944 - val_accuracy: 0.8346\n",
      "Epoch 11/100\n",
      "1500/1500 [==============================] - 17s 11ms/step - loss: 0.4728 - accuracy: 0.8417 - val_loss: 0.5383 - val_accuracy: 0.8393\n",
      "Epoch 12/100\n",
      "1500/1500 [==============================] - 17s 11ms/step - loss: 0.4698 - accuracy: 0.8414 - val_loss: 0.4794 - val_accuracy: 0.8445\n",
      "Epoch 13/100\n",
      "1500/1500 [==============================] - 17s 11ms/step - loss: 0.5798 - accuracy: 0.8334 - val_loss: 0.5656 - val_accuracy: 0.7917\n",
      "Epoch 14/100\n",
      "1500/1500 [==============================] - 17s 11ms/step - loss: 0.4789 - accuracy: 0.8308 - val_loss: 0.4469 - val_accuracy: 0.8473\n",
      "Epoch 15/100\n",
      "1500/1500 [==============================] - 21s 14ms/step - loss: 0.4449 - accuracy: 0.8480 - val_loss: 0.4822 - val_accuracy: 0.8433\n",
      "Epoch 16/100\n",
      "1500/1500 [==============================] - 22s 14ms/step - loss: 0.4649 - accuracy: 0.8461 - val_loss: 0.4783 - val_accuracy: 0.8407\n",
      "Epoch 17/100\n",
      "1500/1500 [==============================] - 21s 14ms/step - loss: 0.4282 - accuracy: 0.8530 - val_loss: 0.4767 - val_accuracy: 0.8458\n",
      "Epoch 18/100\n",
      "1500/1500 [==============================] - 19s 13ms/step - loss: 0.5077 - accuracy: 0.8405 - val_loss: 0.5296 - val_accuracy: 0.8349\n",
      "Epoch 19/100\n",
      "1498/1500 [============================>.] - ETA: 0s - loss: 0.4494 - accuracy: 0.8497Restoring model weights from the end of the best epoch: 14.\n",
      "1500/1500 [==============================] - 20s 13ms/step - loss: 0.4496 - accuracy: 0.8496 - val_loss: 0.5091 - val_accuracy: 0.8268\n",
      "Epoch 19: early stopping\n"
     ]
    },
    {
     "data": {
      "text/plain": [
       "<keras.callbacks.History at 0x2c43ce071c0>"
      ]
     },
     "execution_count": 25,
     "metadata": {},
     "output_type": "execute_result"
    }
   ],
   "source": [
    "# 모델 학습\n",
    "model.fit(x_train,y_train,\n",
    "          epochs=100, verbose=1,\n",
    "          validation_split=0.2,\n",
    "          callbacks=[es])"
   ]
  },
  {
   "cell_type": "code",
   "execution_count": null,
   "id": "3d6bf6cc",
   "metadata": {},
   "outputs": [],
   "source": []
  }
 ],
 "metadata": {
  "kernelspec": {
   "display_name": "Python 3",
   "language": "python",
   "name": "python3"
  },
  "language_info": {
   "codemirror_mode": {
    "name": "ipython",
    "version": 3
   },
   "file_extension": ".py",
   "mimetype": "text/x-python",
   "name": "python",
   "nbconvert_exporter": "python",
   "pygments_lexer": "ipython3",
   "version": "3.8.8"
  }
 },
 "nbformat": 4,
 "nbformat_minor": 5
}
