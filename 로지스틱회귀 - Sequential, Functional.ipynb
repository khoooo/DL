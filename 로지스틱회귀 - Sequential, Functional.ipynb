{
 "cells": [
  {
   "cell_type": "markdown",
   "id": "ab14f7a3",
   "metadata": {},
   "source": [
    "# 로지스틱회귀를 Neural Network 구조로 표현\n",
    " - 노드-연결선-노드\n",
    "# Tensorflow keras 코드 사용 "
   ]
  },
  {
   "cell_type": "markdown",
   "id": "ad5e2ee6",
   "metadata": {},
   "source": [
    "----"
   ]
  },
  {
   "cell_type": "markdown",
   "id": "5df9578d",
   "metadata": {},
   "source": [
    "## 로지스틱회귀 - Sequential\n",
    "- 딥러닝 중 Sequential\n",
    "- 분류는 accuracy로 평가\n",
    "- 0.5 이상은 1로 예측"
   ]
  },
  {
   "cell_type": "markdown",
   "id": "99341476",
   "metadata": {},
   "source": []
  },
  {
   "cell_type": "code",
   "execution_count": 12,
   "id": "9f2469d8",
   "metadata": {},
   "outputs": [],
   "source": [
    "import numpy as np\n",
    "import pandas as pd\n",
    "import matplotlib.pyplot as plt\n",
    "import tensorflow as tf\n",
    "from tensorflow import keras\n",
    "from sklearn.datasets import load_breast_cancer"
   ]
  },
  {
   "cell_type": "code",
   "execution_count": 2,
   "id": "8e3485b2",
   "metadata": {},
   "outputs": [
    {
     "data": {
      "text/plain": [
       "((569, 30), (569,))"
      ]
     },
     "execution_count": 2,
     "metadata": {},
     "output_type": "execute_result"
    }
   ],
   "source": [
    "cancer = load_breast_cancer()\n",
    "\n",
    "x = cancer.data\n",
    "y = cancer.target\n",
    "\n",
    "x.shape, y.shape\n",
    "\n",
    "# 노드 수 확인 = (30)"
   ]
  },
  {
   "cell_type": "code",
   "execution_count": 3,
   "id": "bdb96069",
   "metadata": {},
   "outputs": [],
   "source": [
    "# 청소\n",
    "keras.backend.clear_session()\n",
    "\n",
    "# 모델 선언\n",
    "model = keras.models.Sequential()\n",
    "\n",
    "# 모델 연결\n",
    "model.add( keras.layers.Input(shape=(30,)) )\n",
    "model.add( keras.layers.Dense(1, activation='sigmoid') )\n",
    "\n",
    "# 모델 설정\n",
    "model.compile(loss=keras.losses.binary_crossentropy,\n",
    "              metrics=['accuracy'], optimizer='adam')"
   ]
  },
  {
   "cell_type": "code",
   "execution_count": 5,
   "id": "abfa1365",
   "metadata": {},
   "outputs": [
    {
     "name": "stdout",
     "output_type": "stream",
     "text": [
      "Epoch 1/10\n",
      "18/18 [==============================] - 0s 2ms/step - loss: 1.3835 - accuracy: 0.7926\n",
      "Epoch 2/10\n",
      "18/18 [==============================] - 0s 1ms/step - loss: 1.3522 - accuracy: 0.8155\n",
      "Epoch 3/10\n",
      "18/18 [==============================] - 0s 1ms/step - loss: 1.3336 - accuracy: 0.7996\n",
      "Epoch 4/10\n",
      "18/18 [==============================] - 0s 1ms/step - loss: 1.3094 - accuracy: 0.8102\n",
      "Epoch 5/10\n",
      "18/18 [==============================] - 0s 1ms/step - loss: 1.2928 - accuracy: 0.8084\n",
      "Epoch 6/10\n",
      "18/18 [==============================] - 0s 2ms/step - loss: 1.2715 - accuracy: 0.8014\n",
      "Epoch 7/10\n",
      "18/18 [==============================] - 0s 1ms/step - loss: 1.2653 - accuracy: 0.8172\n",
      "Epoch 8/10\n",
      "18/18 [==============================] - 0s 1ms/step - loss: 1.2412 - accuracy: 0.8084\n",
      "Epoch 9/10\n",
      "18/18 [==============================] - 0s 1ms/step - loss: 1.2332 - accuracy: 0.8137\n",
      "Epoch 10/10\n",
      "18/18 [==============================] - 0s 1ms/step - loss: 1.2075 - accuracy: 0.8049\n"
     ]
    }
   ],
   "source": [
    "model.fit(x, y, epochs=10, verbose=1)\n",
    "\n",
    "y_pred = model.predict(x)\n",
    "\n",
    "# loss와 accuracy 확인"
   ]
  },
  {
   "cell_type": "code",
   "execution_count": 10,
   "id": "35d216f6",
   "metadata": {},
   "outputs": [
    {
     "name": "stdout",
     "output_type": "stream",
     "text": [
      "[0 0 0 0 0]\n",
      "[9.6058208e-01 8.5080399e-20 5.6465402e-11 1.0000000e+00 1.1265929e-11]\n"
     ]
    }
   ],
   "source": [
    "print(y[:5])\n",
    "print(y_pred[:5].reshape(-1))"
   ]
  },
  {
   "cell_type": "markdown",
   "id": "cc0d4c96",
   "metadata": {},
   "source": [
    "## 로지스틱회귀 - Functional\n",
    "- 딥러닝 중 Functional API\n",
    "- Sequential, Functional 차이는 유연함 차이\n",
    "- 모델 선언과 모델 연결의 순서 차이가 있음\n",
    "- #모델연결에서 ol (il)를 주의"
   ]
  },
  {
   "cell_type": "code",
   "execution_count": 6,
   "id": "6b60c07f",
   "metadata": {},
   "outputs": [
    {
     "data": {
      "text/plain": [
       "((569, 30), (569,))"
      ]
     },
     "execution_count": 6,
     "metadata": {},
     "output_type": "execute_result"
    }
   ],
   "source": [
    "cancer = load_breast_cancer()\n",
    "\n",
    "x = cancer.data\n",
    "y = cancer.target\n",
    "\n",
    "x.shape, y.shape\n",
    "\n",
    "# 노드 수 확인 = (30)"
   ]
  },
  {
   "cell_type": "code",
   "execution_count": 7,
   "id": "dc0017ce",
   "metadata": {},
   "outputs": [],
   "source": [
    "# 청소\n",
    "keras.backend.clear_session()\n",
    "\n",
    "# 모델 연결\n",
    "il = keras.layers.Input(shape=(30,))\n",
    "ol = keras.layers.Dense(1, activation='sigmoid')(il)\n",
    "\n",
    "# 모델 선언\n",
    "model = keras.models.Model(il, ol)\n",
    "\n",
    "# 모델 설정\n",
    "model.compile(loss=keras.losses.binary_crossentropy,\n",
    "              metrics=['accuracy'], optimizer='adam')"
   ]
  },
  {
   "cell_type": "code",
   "execution_count": 8,
   "id": "6f0b1861",
   "metadata": {},
   "outputs": [
    {
     "name": "stdout",
     "output_type": "stream",
     "text": [
      "Epoch 1/10\n",
      "18/18 [==============================] - 0s 1ms/step - loss: 116.7832 - accuracy: 0.6274\n",
      "Epoch 2/10\n",
      "18/18 [==============================] - 0s 1ms/step - loss: 98.0577 - accuracy: 0.6274\n",
      "Epoch 3/10\n",
      "18/18 [==============================] - 0s 1ms/step - loss: 79.9318 - accuracy: 0.6274\n",
      "Epoch 4/10\n",
      "18/18 [==============================] - 0s 2ms/step - loss: 61.0872 - accuracy: 0.6274\n",
      "Epoch 5/10\n",
      "18/18 [==============================] - 0s 1ms/step - loss: 42.6550 - accuracy: 0.6309\n",
      "Epoch 6/10\n",
      "18/18 [==============================] - 0s 1ms/step - loss: 25.2999 - accuracy: 0.6467\n",
      "Epoch 7/10\n",
      "18/18 [==============================] - 0s 1ms/step - loss: 11.2157 - accuracy: 0.6766\n",
      "Epoch 8/10\n",
      "18/18 [==============================] - 0s 2ms/step - loss: 5.1331 - accuracy: 0.6397\n",
      "Epoch 9/10\n",
      "18/18 [==============================] - 0s 1ms/step - loss: 4.6235 - accuracy: 0.5923\n",
      "Epoch 10/10\n",
      "18/18 [==============================] - 0s 1ms/step - loss: 4.4907 - accuracy: 0.6028\n"
     ]
    }
   ],
   "source": [
    "hist = model.fit(x, y, epochs=10, verbose=1)\n",
    "\n",
    "y_pred = model.predict(x)"
   ]
  },
  {
   "cell_type": "code",
   "execution_count": 9,
   "id": "bd070f48",
   "metadata": {},
   "outputs": [
    {
     "name": "stdout",
     "output_type": "stream",
     "text": [
      "[0 0 0 0 0]\n",
      "[0.0000000e+00 2.3337820e-06 4.9956047e-06 2.0131150e-13 1.0000000e+00]\n"
     ]
    }
   ],
   "source": [
    "print(y[:5])\n",
    "print(y_pred[:5].reshape(-1))"
   ]
  },
  {
   "cell_type": "code",
   "execution_count": 10,
   "id": "3471fdc2",
   "metadata": {},
   "outputs": [
    {
     "name": "stdout",
     "output_type": "stream",
     "text": [
      "Model: \"model\"\n",
      "_________________________________________________________________\n",
      " Layer (type)                Output Shape              Param #   \n",
      "=================================================================\n",
      " input_1 (InputLayer)        [(None, 30)]              0         \n",
      "                                                                 \n",
      " dense (Dense)               (None, 1)                 31        \n",
      "                                                                 \n",
      "=================================================================\n",
      "Total params: 31\n",
      "Trainable params: 31\n",
      "Non-trainable params: 0\n",
      "_________________________________________________________________\n"
     ]
    }
   ],
   "source": [
    "model.summary()\n",
    "\n",
    "# 30 + 1 -> 1 : bias"
   ]
  },
  {
   "cell_type": "code",
   "execution_count": 19,
   "id": "756da52c",
   "metadata": {},
   "outputs": [
    {
     "data": {
      "image/png": "[encoded data removed]",
      "text/plain": [
       "<Figure size 432x288 with 1 Axes>"
      ]
     },
     "metadata": {
      "needs_background": "light"
     },
     "output_type": "display_data"
    }
   ],
   "source": [
    "plt.plot(hist.history['accuracy'])\n",
    "\n",
    "plt.xlabel('epochs')\n",
    "plt.ylabel('acc')\n",
    "plt.show()"
   ]
  },
  {
   "cell_type": "code",
   "execution_count": null,
   "id": "9367d4ef",
   "metadata": {},
   "outputs": [],
   "source": []
  }
 ],
 "metadata": {
  "kernelspec": {
   "display_name": "Python 3",
   "language": "python",
   "name": "python3"
  },
  "language_info": {
   "codemirror_mode": {
    "name": "ipython",
    "version": 3
   },
   "file_extension": ".py",
   "mimetype": "text/x-python",
   "name": "python",
   "nbconvert_exporter": "python",
   "pygments_lexer": "ipython3",
   "version": "3.8.8"
  }
 },
 "nbformat": 4,
 "nbformat_minor": 5
}
