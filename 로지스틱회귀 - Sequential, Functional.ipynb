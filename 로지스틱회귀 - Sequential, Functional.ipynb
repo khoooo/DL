{
 "cells": [
  {
   "cell_type": "markdown",
   "id": "ab14f7a3",
   "metadata": {},
   "source": [
    "# 로지스틱회귀를 Neural Network 구조로 표현\n",
    " - 노드-연결선-노드\n",
    "# Tensorflow keras 코드 사용 "
   ]
  },
  {
   "cell_type": "markdown",
   "id": "ad5e2ee6",
   "metadata": {},
   "source": [
    "----"
   ]
  },
  {
   "cell_type": "markdown",
   "id": "5df9578d",
   "metadata": {},
   "source": [
    "## 로지스틱회귀 - Sequential\n",
    "- 딥러닝 중 Sequential\n",
    "- 분류는 accuracy로 평가\n",
    "- 0.5 이상은 1로 예측"
   ]
  },
  {
   "cell_type": "markdown",
   "id": "99341476",
   "metadata": {},
   "source": []
  },
  {
   "cell_type": "code",
   "execution_count": 2,
   "id": "9f2469d8",
   "metadata": {},
   "outputs": [],
   "source": [
    "import numpy as np\n",
    "import pandas as pd\n",
    "import tensorflow as tf\n",
    "from tensorflow import keras\n",
    "from sklearn.datasets import load_breast_cancer"
   ]
  },
  {
   "cell_type": "code",
   "execution_count": 3,
   "id": "8e3485b2",
   "metadata": {},
   "outputs": [
    {
     "data": {
      "text/plain": [
       "((569, 30), (569,))"
      ]
     },
     "execution_count": 3,
     "metadata": {},
     "output_type": "execute_result"
    }
   ],
   "source": [
    "cancer = load_breast_cancer()\n",
    "\n",
    "x = cancer.data\n",
    "y = cancer.target\n",
    "\n",
    "x.shape, y.shape\n",
    "\n",
    "# 노드 수 확인 = (30)"
   ]
  },
  {
   "cell_type": "code",
   "execution_count": 8,
   "id": "bdb96069",
   "metadata": {},
   "outputs": [],
   "source": [
    "# 청소\n",
    "keras.backend.clear_session()\n",
    "\n",
    "# 모델 선언\n",
    "model = keras.models.Sequential()\n",
    "\n",
    "# 모델 연결\n",
    "model.add( keras.layers.Input(shape=(30,)) )\n",
    "model.add( keras.layers.Dense(1, activation='sigmoid') )\n",
    "\n",
    "# 모델 설정\n",
    "model.compile(loss=keras.losses.binary_crossentropy,\n",
    "              metrics=['accuracy'], optimizer='adam')"
   ]
  },
  {
   "cell_type": "code",
   "execution_count": 9,
   "id": "abfa1365",
   "metadata": {},
   "outputs": [
    {
     "name": "stdout",
     "output_type": "stream",
     "text": [
      "Epoch 1/10\n",
      "18/18 [==============================] - 0s 1ms/step - loss: 72.0554 - accuracy: 0.6274\n",
      "Epoch 2/10\n",
      "18/18 [==============================] - 0s 1ms/step - loss: 53.7853 - accuracy: 0.6274\n",
      "Epoch 3/10\n",
      "18/18 [==============================] - 0s 1ms/step - loss: 35.0653 - accuracy: 0.6274\n",
      "Epoch 4/10\n",
      "18/18 [==============================] - 0s 1ms/step - loss: 17.1788 - accuracy: 0.6274\n",
      "Epoch 5/10\n",
      "18/18 [==============================] - 0s 1ms/step - loss: 2.8877 - accuracy: 0.7592\n",
      "Epoch 6/10\n",
      "18/18 [==============================] - 0s 1ms/step - loss: 1.5993 - accuracy: 0.7522\n",
      "Epoch 7/10\n",
      "18/18 [==============================] - 0s 1ms/step - loss: 1.3548 - accuracy: 0.7803\n",
      "Epoch 8/10\n",
      "18/18 [==============================] - 0s 1ms/step - loss: 1.3450 - accuracy: 0.7838\n",
      "Epoch 9/10\n",
      "18/18 [==============================] - 0s 1ms/step - loss: 1.2744 - accuracy: 0.7996\n",
      "Epoch 10/10\n",
      "18/18 [==============================] - 0s 1ms/step - loss: 1.2697 - accuracy: 0.7944\n"
     ]
    }
   ],
   "source": [
    "model.fit(x, y, epochs=10, verbose=1)\n",
    "\n",
    "y_pred = model.predict(x)\n",
    "\n",
    "# loss와 accuracy 확인"
   ]
  },
  {
   "cell_type": "code",
   "execution_count": 10,
   "id": "35d216f6",
   "metadata": {},
   "outputs": [
    {
     "name": "stdout",
     "output_type": "stream",
     "text": [
      "[0 0 0 0 0]\n",
      "[9.6058208e-01 8.5080399e-20 5.6465402e-11 1.0000000e+00 1.1265929e-11]\n"
     ]
    }
   ],
   "source": [
    "print(y[:5])\n",
    "print(y_pred[:5].reshape(-1))"
   ]
  },
  {
   "cell_type": "markdown",
   "id": "cc0d4c96",
   "metadata": {},
   "source": [
    "## 로지스틱회귀 - Functional\n",
    "- 딥러닝 중 Functional API\n",
    "- Sequential, Functional 차이는 유연함 차이\n",
    "- 모델 선언과 모델 연결의 순서 차이가 있음\n",
    "- #모델연결에서 ol (il)를 주의"
   ]
  },
  {
   "cell_type": "code",
   "execution_count": 11,
   "id": "6b60c07f",
   "metadata": {},
   "outputs": [
    {
     "data": {
      "text/plain": [
       "((569, 30), (569,))"
      ]
     },
     "execution_count": 11,
     "metadata": {},
     "output_type": "execute_result"
    }
   ],
   "source": [
    "cancer = load_breast_cancer()\n",
    "\n",
    "x = cancer.data\n",
    "y = cancer.target\n",
    "\n",
    "x.shape, y.shape\n",
    "\n",
    "# 노드 수 확인 = (30)"
   ]
  },
  {
   "cell_type": "code",
   "execution_count": 12,
   "id": "dc0017ce",
   "metadata": {},
   "outputs": [],
   "source": [
    "# 청소\n",
    "keras.backend.clear_session()\n",
    "\n",
    "# 모델 연결\n",
    "il = keras.layers.Input(shape=(30,))\n",
    "ol = keras.layers.Dense(1, activation='sigmoid')(il)\n",
    "\n",
    "# 모델 선언\n",
    "model = keras.models.Model(il, ol)\n",
    "\n",
    "# 모델 설정\n",
    "model.compile(loss=keras.losses.binary_crossentropy,\n",
    "              metrics=['accuracy'], optimizer='adam')"
   ]
  },
  {
   "cell_type": "code",
   "execution_count": 13,
   "id": "6f0b1861",
   "metadata": {},
   "outputs": [
    {
     "name": "stdout",
     "output_type": "stream",
     "text": [
      "Epoch 1/10\n",
      "18/18 [==============================] - 0s 2ms/step - loss: 62.4368 - accuracy: 0.3726\n",
      "Epoch 2/10\n",
      "18/18 [==============================] - 0s 1ms/step - loss: 48.1419 - accuracy: 0.3726\n",
      "Epoch 3/10\n",
      "18/18 [==============================] - 0s 1ms/step - loss: 33.8425 - accuracy: 0.3726\n",
      "Epoch 4/10\n",
      "18/18 [==============================] - 0s 2ms/step - loss: 19.5221 - accuracy: 0.3761\n",
      "Epoch 5/10\n",
      "18/18 [==============================] - 0s 1ms/step - loss: 7.0323 - accuracy: 0.4640\n",
      "Epoch 6/10\n",
      "18/18 [==============================] - 0s 1ms/step - loss: 3.8765 - accuracy: 0.6661\n",
      "Epoch 7/10\n",
      "18/18 [==============================] - 0s 1ms/step - loss: 3.5364 - accuracy: 0.6397\n",
      "Epoch 8/10\n",
      "18/18 [==============================] - 0s 1ms/step - loss: 3.4281 - accuracy: 0.6344\n",
      "Epoch 9/10\n",
      "18/18 [==============================] - 0s 1ms/step - loss: 3.3062 - accuracy: 0.6555\n",
      "Epoch 10/10\n",
      "18/18 [==============================] - 0s 1ms/step - loss: 3.1934 - accuracy: 0.6555\n"
     ]
    }
   ],
   "source": [
    "model.fit(x, y, epochs=10, verbose=1)\n",
    "\n",
    "y_pred = model.predict(x)"
   ]
  },
  {
   "cell_type": "code",
   "execution_count": 18,
   "id": "bd070f48",
   "metadata": {},
   "outputs": [
    {
     "name": "stdout",
     "output_type": "stream",
     "text": [
      "[0 0 0 0 0]\n",
      "[1.0000000e+00 5.5686819e-13 3.2080393e-13 1.0000000e+00 3.8285664e-24]\n"
     ]
    }
   ],
   "source": [
    "print(y[:5])\n",
    "print(y_pred[:5].reshape(-1))"
   ]
  },
  {
   "cell_type": "code",
   "execution_count": 17,
   "id": "3471fdc2",
   "metadata": {},
   "outputs": [
    {
     "name": "stdout",
     "output_type": "stream",
     "text": [
      "Model: \"model\"\n",
      "_________________________________________________________________\n",
      " Layer (type)                Output Shape              Param #   \n",
      "=================================================================\n",
      " input_1 (InputLayer)        [(None, 30)]              0         \n",
      "                                                                 \n",
      " dense (Dense)               (None, 1)                 31        \n",
      "                                                                 \n",
      "=================================================================\n",
      "Total params: 31\n",
      "Trainable params: 31\n",
      "Non-trainable params: 0\n",
      "_________________________________________________________________\n"
     ]
    }
   ],
   "source": [
    "model.summary()\n",
    "\n",
    "# 30 + 1 -> 1 : bias"
   ]
  },
  {
   "cell_type": "code",
   "execution_count": null,
   "id": "756da52c",
   "metadata": {},
   "outputs": [],
   "source": []
  }
 ],
 "metadata": {
  "kernelspec": {
   "display_name": "Python 3",
   "language": "python",
   "name": "python3"
  },
  "language_info": {
   "codemirror_mode": {
    "name": "ipython",
    "version": 3
   },
   "file_extension": ".py",
   "mimetype": "text/x-python",
   "name": "python",
   "nbconvert_exporter": "python",
   "pygments_lexer": "ipython3",
   "version": "3.8.8"
  }
 },
 "nbformat": 4,
 "nbformat_minor": 5
}
