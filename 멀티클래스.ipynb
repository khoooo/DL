{
 "cells": [
  {
   "cell_type": "markdown",
   "id": "7403e10f",
   "metadata": {},
   "source": [
    "#### y(target)이 3가지 이상일 때, 멀티클래스 사용\n",
    "#### y를 가변수화하여 사용"
   ]
  },
  {
   "cell_type": "code",
   "execution_count": 1,
   "id": "99232031",
   "metadata": {},
   "outputs": [],
   "source": [
    "import numpy as np\n",
    "import pandas as pd\n",
    "import tensorflow as tf\n",
    "from tensorflow import keras"
   ]
  },
  {
   "cell_type": "code",
   "execution_count": 3,
   "id": "d2e960a6",
   "metadata": {},
   "outputs": [
    {
     "data": {
      "text/plain": [
       "((150, 4), (150,))"
      ]
     },
     "execution_count": 3,
     "metadata": {},
     "output_type": "execute_result"
    }
   ],
   "source": [
    "from sklearn.datasets import load_iris\n",
    "iris = load_iris()\n",
    "\n",
    "x = iris.data\n",
    "y = iris.target\n",
    "\n",
    "x.shape, y.shape"
   ]
  },
  {
   "cell_type": "code",
   "execution_count": 5,
   "id": "39f8c9a8",
   "metadata": {},
   "outputs": [
    {
     "data": {
      "text/plain": [
       "array([0, 0, 0, 0, 0, 0, 0, 0, 0, 0, 0, 0, 0, 0, 0, 0, 0, 0, 0, 0, 0, 0,\n",
       "       0, 0, 0, 0, 0, 0, 0, 0, 0, 0, 0, 0, 0, 0, 0, 0, 0, 0, 0, 0, 0, 0,\n",
       "       0, 0, 0, 0, 0, 0, 1, 1, 1, 1, 1, 1, 1, 1, 1, 1, 1, 1, 1, 1, 1, 1,\n",
       "       1, 1, 1, 1, 1, 1, 1, 1, 1, 1, 1, 1, 1, 1, 1, 1, 1, 1, 1, 1, 1, 1,\n",
       "       1, 1, 1, 1, 1, 1, 1, 1, 1, 1, 1, 1, 2, 2, 2, 2, 2, 2, 2, 2, 2, 2,\n",
       "       2, 2, 2, 2, 2, 2, 2, 2, 2, 2, 2, 2, 2, 2, 2, 2, 2, 2, 2, 2, 2, 2,\n",
       "       2, 2, 2, 2, 2, 2, 2, 2, 2, 2, 2, 2, 2, 2, 2, 2, 2, 2])"
      ]
     },
     "execution_count": 5,
     "metadata": {},
     "output_type": "execute_result"
    }
   ],
   "source": [
    "y\n",
    "\n",
    "# y가 0,1,2 로 범주형임."
   ]
  },
  {
   "cell_type": "code",
   "execution_count": 8,
   "id": "2b88ae33",
   "metadata": {},
   "outputs": [
    {
     "data": {
      "text/plain": [
       "array(['setosa', 'versicolor', 'virginica'], dtype='<U10')"
      ]
     },
     "execution_count": 8,
     "metadata": {},
     "output_type": "execute_result"
    }
   ],
   "source": [
    "iris.target_names"
   ]
  },
  {
   "cell_type": "code",
   "execution_count": 9,
   "id": "d4b836c5",
   "metadata": {},
   "outputs": [],
   "source": [
    "# one-hot encoding\n",
    "\n",
    "from tensorflow.keras.utils import to_categorical"
   ]
  },
  {
   "cell_type": "code",
   "execution_count": 10,
   "id": "a7f60996",
   "metadata": {},
   "outputs": [],
   "source": [
    "y = to_categorical(y,3)"
   ]
  },
  {
   "cell_type": "code",
   "execution_count": 11,
   "id": "a0540f59",
   "metadata": {},
   "outputs": [
    {
     "data": {
      "text/plain": [
       "((150, 4), (150, 3))"
      ]
     },
     "execution_count": 11,
     "metadata": {},
     "output_type": "execute_result"
    }
   ],
   "source": [
    "x.shape, y.shape"
   ]
  },
  {
   "cell_type": "markdown",
   "id": "1ede343e",
   "metadata": {},
   "source": [
    "### 멀티클래스 - Sequential API\n",
    "- activation='softmax'\n",
    "- loss=keras.losses.categorical_crossentropy"
   ]
  },
  {
   "cell_type": "code",
   "execution_count": 13,
   "id": "20d0e687",
   "metadata": {},
   "outputs": [],
   "source": [
    "##########\n",
    "# 모델링 #\n",
    "##########\n",
    "\n",
    "# 모델 청소\n",
    "keras.backend.clear_session()\n",
    "\n",
    "# 모델 선언\n",
    "model = keras.models.Sequential()\n",
    "\n",
    "# 모델 연결\n",
    "model.add( keras.layers.Input(shape=(4,)) )\n",
    "model.add( keras.layers.Dense(3, activation='softmax'))\n",
    "\n",
    "# 모델 설정\n",
    "model.compile(loss=keras.losses.categorical_crossentropy,\n",
    "              metrics=['accuracy'], optimizer='adam')"
   ]
  },
  {
   "cell_type": "code",
   "execution_count": 14,
   "id": "2cefa4a0",
   "metadata": {},
   "outputs": [
    {
     "name": "stdout",
     "output_type": "stream",
     "text": [
      "Epoch 1/10\n",
      "5/5 [==============================] - 0s 2ms/step - loss: 2.6046 - accuracy: 0.6600\n",
      "Epoch 2/10\n",
      "5/5 [==============================] - 0s 2ms/step - loss: 2.5377 - accuracy: 0.6600\n",
      "Epoch 3/10\n",
      "5/5 [==============================] - 0s 2ms/step - loss: 2.4710 - accuracy: 0.6600\n",
      "Epoch 4/10\n",
      "5/5 [==============================] - 0s 2ms/step - loss: 2.4070 - accuracy: 0.6667\n",
      "Epoch 5/10\n",
      "5/5 [==============================] - 0s 2ms/step - loss: 2.3436 - accuracy: 0.6667\n",
      "Epoch 6/10\n",
      "5/5 [==============================] - 0s 2ms/step - loss: 2.2806 - accuracy: 0.6667\n",
      "Epoch 7/10\n",
      "5/5 [==============================] - 0s 2ms/step - loss: 2.2220 - accuracy: 0.6667\n",
      "Epoch 8/10\n",
      "5/5 [==============================] - 0s 2ms/step - loss: 2.1610 - accuracy: 0.6667\n",
      "Epoch 9/10\n",
      "5/5 [==============================] - 0s 2ms/step - loss: 2.1035 - accuracy: 0.6667\n",
      "Epoch 10/10\n",
      "5/5 [==============================] - 0s 2ms/step - loss: 2.0458 - accuracy: 0.6667\n"
     ]
    }
   ],
   "source": [
    "# 모델 학습\n",
    "model.fit(x, y, epochs=10, verbose=1)\n",
    "\n",
    "# 모델 예측\n",
    "y_pred = model.predict(x)"
   ]
  },
  {
   "cell_type": "code",
   "execution_count": 16,
   "id": "e6119038",
   "metadata": {},
   "outputs": [
    {
     "name": "stdout",
     "output_type": "stream",
     "text": [
      "[[1. 0. 0.]\n",
      " [1. 0. 0.]\n",
      " [1. 0. 0.]\n",
      " [1. 0. 0.]\n",
      " [1. 0. 0.]]\n",
      "[[0.8378978  0.10745277 0.05464936]\n",
      " [0.7473559  0.19047153 0.06217257]\n",
      " [0.8072579  0.12692693 0.06581526]\n",
      " [0.7587474  0.1679467  0.07330588]\n",
      " [0.8527549  0.09086911 0.05637594]]\n"
     ]
    }
   ],
   "source": [
    "print(y[:5])\n",
    "print(y_pred[:5])"
   ]
  },
  {
   "cell_type": "markdown",
   "id": "81d8ae85",
   "metadata": {},
   "source": [
    "### 멀티클래스 - Functional API\n",
    "- "
   ]
  },
  {
   "cell_type": "code",
   "execution_count": 17,
   "id": "6e73d5d4",
   "metadata": {},
   "outputs": [
    {
     "data": {
      "text/plain": [
       "((150, 4), (150, 3))"
      ]
     },
     "execution_count": 17,
     "metadata": {},
     "output_type": "execute_result"
    }
   ],
   "source": [
    "x.shape, y.shape"
   ]
  },
  {
   "cell_type": "code",
   "execution_count": 18,
   "id": "432d5896",
   "metadata": {},
   "outputs": [],
   "source": [
    "##########\n",
    "# 모델링 #\n",
    "##########\n",
    "\n",
    "# 청소\n",
    "keras.backend.clear_session()\n",
    "\n",
    "# 모델 연결\n",
    "il = keras.layers.Input(shape=(4,))\n",
    "ol = keras.layers.Dense(3, activation='softmax')(il)\n",
    "\n",
    "# 모델 선언\n",
    "model = keras.models.Model(il, ol)\n",
    "\n",
    "# 모델 설정\n",
    "model.compile(loss=keras.losses.categorical_crossentropy,\n",
    "              metrics=['accuracy'], optimizer='adam')"
   ]
  },
  {
   "cell_type": "code",
   "execution_count": 19,
   "id": "c2d09543",
   "metadata": {},
   "outputs": [
    {
     "name": "stdout",
     "output_type": "stream",
     "text": [
      "Epoch 1/10\n",
      "5/5 [==============================] - 0s 2ms/step - loss: 3.8029 - accuracy: 0.3333\n",
      "Epoch 2/10\n",
      "5/5 [==============================] - 0s 2ms/step - loss: 3.7188 - accuracy: 0.3333\n",
      "Epoch 3/10\n",
      "5/5 [==============================] - 0s 2ms/step - loss: 3.6377 - accuracy: 0.3333\n",
      "Epoch 4/10\n",
      "5/5 [==============================] - 0s 2ms/step - loss: 3.5565 - accuracy: 0.3333\n",
      "Epoch 5/10\n",
      "5/5 [==============================] - 0s 2ms/step - loss: 3.4747 - accuracy: 0.3333\n",
      "Epoch 6/10\n",
      "5/5 [==============================] - 0s 2ms/step - loss: 3.3958 - accuracy: 0.3333\n",
      "Epoch 7/10\n",
      "5/5 [==============================] - 0s 1ms/step - loss: 3.3165 - accuracy: 0.3333\n",
      "Epoch 8/10\n",
      "5/5 [==============================] - 0s 2ms/step - loss: 3.2398 - accuracy: 0.3333\n",
      "Epoch 9/10\n",
      "5/5 [==============================] - 0s 2ms/step - loss: 3.1614 - accuracy: 0.3333\n",
      "Epoch 10/10\n",
      "5/5 [==============================] - 0s 2ms/step - loss: 3.0863 - accuracy: 0.3333\n"
     ]
    }
   ],
   "source": [
    "model.fit(x, y, epochs=10, verbose=1)\n",
    "\n",
    "y_pred = model.predict(x)"
   ]
  },
  {
   "cell_type": "code",
   "execution_count": 20,
   "id": "ec4b2f53",
   "metadata": {},
   "outputs": [
    {
     "name": "stdout",
     "output_type": "stream",
     "text": [
      "[[1. 0. 0.]\n",
      " [1. 0. 0.]\n",
      " [1. 0. 0.]\n",
      " [1. 0. 0.]\n",
      " [1. 0. 0.]]\n",
      "[[0.00291924 0.18504131 0.81203943]\n",
      " [0.00316198 0.20483896 0.7919991 ]\n",
      " [0.00441815 0.2043457  0.79123616]\n",
      " [0.00384246 0.18368417 0.81247336]\n",
      " [0.0032717  0.17919101 0.8175373 ]]\n"
     ]
    }
   ],
   "source": [
    "print(y[:5])\n",
    "print(y_pred[:5])"
   ]
  },
  {
   "cell_type": "code",
   "execution_count": 21,
   "id": "c303e0ef",
   "metadata": {},
   "outputs": [
    {
     "name": "stdout",
     "output_type": "stream",
     "text": [
      "Model: \"model\"\n",
      "_________________________________________________________________\n",
      " Layer (type)                Output Shape              Param #   \n",
      "=================================================================\n",
      " input_1 (InputLayer)        [(None, 4)]               0         \n",
      "                                                                 \n",
      " dense (Dense)               (None, 3)                 15        \n",
      "                                                                 \n",
      "=================================================================\n",
      "Total params: 15\n",
      "Trainable params: 15\n",
      "Non-trainable params: 0\n",
      "_________________________________________________________________\n"
     ]
    }
   ],
   "source": [
    "model.summary()\n",
    "\n",
    "# (4+1)*3 = 15\n",
    "# 1 : bias(절편)"
   ]
  },
  {
   "cell_type": "code",
   "execution_count": null,
   "id": "547131e4",
   "metadata": {},
   "outputs": [],
   "source": []
  }
 ],
 "metadata": {
  "kernelspec": {
   "display_name": "Python 3",
   "language": "python",
   "name": "python3"
  },
  "language_info": {
   "codemirror_mode": {
    "name": "ipython",
    "version": 3
   },
   "file_extension": ".py",
   "mimetype": "text/x-python",
   "name": "python",
   "nbconvert_exporter": "python",
   "pygments_lexer": "ipython3",
   "version": "3.8.8"
  }
 },
 "nbformat": 4,
 "nbformat_minor": 5
}
