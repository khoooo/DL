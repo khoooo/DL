{
 "cells": [
  {
   "cell_type": "markdown",
   "id": "dc9887c0",
   "metadata": {},
   "source": [
    "## Locally connected layer\n",
    "- 데이터를 나눠 히든레이어에 일부만 연결한다.\n",
    "- 연결점으로 add, concat 사용"
   ]
  },
  {
   "cell_type": "code",
   "execution_count": 9,
   "id": "c560ae90",
   "metadata": {},
   "outputs": [],
   "source": [
    "# 라이브러리\n",
    "import numpy as np\n",
    "import pandas as pd\n",
    "import tensorflow as tf\n",
    "from tensorflow import keras"
   ]
  },
  {
   "cell_type": "code",
   "execution_count": 10,
   "id": "da9a9f14",
   "metadata": {},
   "outputs": [
    {
     "data": {
      "text/html": [
       "<div>\n",
       "<style scoped>\n",
       "    .dataframe tbody tr th:only-of-type {\n",
       "        vertical-align: middle;\n",
       "    }\n",
       "\n",
       "    .dataframe tbody tr th {\n",
       "        vertical-align: top;\n",
       "    }\n",
       "\n",
       "    .dataframe thead th {\n",
       "        text-align: right;\n",
       "    }\n",
       "</style>\n",
       "<table border=\"1\" class=\"dataframe\">\n",
       "  <thead>\n",
       "    <tr style=\"text-align: right;\">\n",
       "      <th></th>\n",
       "      <th>mean radius</th>\n",
       "      <th>mean texture</th>\n",
       "      <th>mean perimeter</th>\n",
       "      <th>mean area</th>\n",
       "      <th>mean smoothness</th>\n",
       "      <th>mean compactness</th>\n",
       "      <th>mean concavity</th>\n",
       "      <th>mean concave points</th>\n",
       "      <th>mean symmetry</th>\n",
       "      <th>mean fractal dimension</th>\n",
       "      <th>radius error</th>\n",
       "      <th>texture error</th>\n",
       "      <th>perimeter error</th>\n",
       "      <th>area error</th>\n",
       "      <th>smoothness error</th>\n",
       "      <th>compactness error</th>\n",
       "      <th>concavity error</th>\n",
       "      <th>concave points error</th>\n",
       "      <th>symmetry error</th>\n",
       "      <th>fractal dimension error</th>\n",
       "      <th>worst radius</th>\n",
       "      <th>worst texture</th>\n",
       "      <th>worst perimeter</th>\n",
       "      <th>worst area</th>\n",
       "      <th>worst smoothness</th>\n",
       "      <th>worst compactness</th>\n",
       "      <th>worst concavity</th>\n",
       "      <th>worst concave points</th>\n",
       "      <th>worst symmetry</th>\n",
       "      <th>worst fractal dimension</th>\n",
       "      <th>target</th>\n",
       "    </tr>\n",
       "  </thead>\n",
       "  <tbody>\n",
       "    <tr>\n",
       "      <th>0</th>\n",
       "      <td>17.99</td>\n",
       "      <td>10.38</td>\n",
       "      <td>122.80</td>\n",
       "      <td>1001.0</td>\n",
       "      <td>0.11840</td>\n",
       "      <td>0.27760</td>\n",
       "      <td>0.3001</td>\n",
       "      <td>0.14710</td>\n",
       "      <td>0.2419</td>\n",
       "      <td>0.07871</td>\n",
       "      <td>1.0950</td>\n",
       "      <td>0.9053</td>\n",
       "      <td>8.589</td>\n",
       "      <td>153.40</td>\n",
       "      <td>0.006399</td>\n",
       "      <td>0.04904</td>\n",
       "      <td>0.05373</td>\n",
       "      <td>0.01587</td>\n",
       "      <td>0.03003</td>\n",
       "      <td>0.006193</td>\n",
       "      <td>25.38</td>\n",
       "      <td>17.33</td>\n",
       "      <td>184.60</td>\n",
       "      <td>2019.0</td>\n",
       "      <td>0.1622</td>\n",
       "      <td>0.6656</td>\n",
       "      <td>0.7119</td>\n",
       "      <td>0.2654</td>\n",
       "      <td>0.4601</td>\n",
       "      <td>0.11890</td>\n",
       "      <td>Malignant</td>\n",
       "    </tr>\n",
       "    <tr>\n",
       "      <th>1</th>\n",
       "      <td>20.57</td>\n",
       "      <td>17.77</td>\n",
       "      <td>132.90</td>\n",
       "      <td>1326.0</td>\n",
       "      <td>0.08474</td>\n",
       "      <td>0.07864</td>\n",
       "      <td>0.0869</td>\n",
       "      <td>0.07017</td>\n",
       "      <td>0.1812</td>\n",
       "      <td>0.05667</td>\n",
       "      <td>0.5435</td>\n",
       "      <td>0.7339</td>\n",
       "      <td>3.398</td>\n",
       "      <td>74.08</td>\n",
       "      <td>0.005225</td>\n",
       "      <td>0.01308</td>\n",
       "      <td>0.01860</td>\n",
       "      <td>0.01340</td>\n",
       "      <td>0.01389</td>\n",
       "      <td>0.003532</td>\n",
       "      <td>24.99</td>\n",
       "      <td>23.41</td>\n",
       "      <td>158.80</td>\n",
       "      <td>1956.0</td>\n",
       "      <td>0.1238</td>\n",
       "      <td>0.1866</td>\n",
       "      <td>0.2416</td>\n",
       "      <td>0.1860</td>\n",
       "      <td>0.2750</td>\n",
       "      <td>0.08902</td>\n",
       "      <td>Malignant</td>\n",
       "    </tr>\n",
       "    <tr>\n",
       "      <th>2</th>\n",
       "      <td>19.69</td>\n",
       "      <td>21.25</td>\n",
       "      <td>130.00</td>\n",
       "      <td>1203.0</td>\n",
       "      <td>0.10960</td>\n",
       "      <td>0.15990</td>\n",
       "      <td>0.1974</td>\n",
       "      <td>0.12790</td>\n",
       "      <td>0.2069</td>\n",
       "      <td>0.05999</td>\n",
       "      <td>0.7456</td>\n",
       "      <td>0.7869</td>\n",
       "      <td>4.585</td>\n",
       "      <td>94.03</td>\n",
       "      <td>0.006150</td>\n",
       "      <td>0.04006</td>\n",
       "      <td>0.03832</td>\n",
       "      <td>0.02058</td>\n",
       "      <td>0.02250</td>\n",
       "      <td>0.004571</td>\n",
       "      <td>23.57</td>\n",
       "      <td>25.53</td>\n",
       "      <td>152.50</td>\n",
       "      <td>1709.0</td>\n",
       "      <td>0.1444</td>\n",
       "      <td>0.4245</td>\n",
       "      <td>0.4504</td>\n",
       "      <td>0.2430</td>\n",
       "      <td>0.3613</td>\n",
       "      <td>0.08758</td>\n",
       "      <td>Malignant</td>\n",
       "    </tr>\n",
       "    <tr>\n",
       "      <th>3</th>\n",
       "      <td>11.42</td>\n",
       "      <td>20.38</td>\n",
       "      <td>77.58</td>\n",
       "      <td>386.1</td>\n",
       "      <td>0.14250</td>\n",
       "      <td>0.28390</td>\n",
       "      <td>0.2414</td>\n",
       "      <td>0.10520</td>\n",
       "      <td>0.2597</td>\n",
       "      <td>0.09744</td>\n",
       "      <td>0.4956</td>\n",
       "      <td>1.1560</td>\n",
       "      <td>3.445</td>\n",
       "      <td>27.23</td>\n",
       "      <td>0.009110</td>\n",
       "      <td>0.07458</td>\n",
       "      <td>0.05661</td>\n",
       "      <td>0.01867</td>\n",
       "      <td>0.05963</td>\n",
       "      <td>0.009208</td>\n",
       "      <td>14.91</td>\n",
       "      <td>26.50</td>\n",
       "      <td>98.87</td>\n",
       "      <td>567.7</td>\n",
       "      <td>0.2098</td>\n",
       "      <td>0.8663</td>\n",
       "      <td>0.6869</td>\n",
       "      <td>0.2575</td>\n",
       "      <td>0.6638</td>\n",
       "      <td>0.17300</td>\n",
       "      <td>Malignant</td>\n",
       "    </tr>\n",
       "    <tr>\n",
       "      <th>4</th>\n",
       "      <td>20.29</td>\n",
       "      <td>14.34</td>\n",
       "      <td>135.10</td>\n",
       "      <td>1297.0</td>\n",
       "      <td>0.10030</td>\n",
       "      <td>0.13280</td>\n",
       "      <td>0.1980</td>\n",
       "      <td>0.10430</td>\n",
       "      <td>0.1809</td>\n",
       "      <td>0.05883</td>\n",
       "      <td>0.7572</td>\n",
       "      <td>0.7813</td>\n",
       "      <td>5.438</td>\n",
       "      <td>94.44</td>\n",
       "      <td>0.011490</td>\n",
       "      <td>0.02461</td>\n",
       "      <td>0.05688</td>\n",
       "      <td>0.01885</td>\n",
       "      <td>0.01756</td>\n",
       "      <td>0.005115</td>\n",
       "      <td>22.54</td>\n",
       "      <td>16.67</td>\n",
       "      <td>152.20</td>\n",
       "      <td>1575.0</td>\n",
       "      <td>0.1374</td>\n",
       "      <td>0.2050</td>\n",
       "      <td>0.4000</td>\n",
       "      <td>0.1625</td>\n",
       "      <td>0.2364</td>\n",
       "      <td>0.07678</td>\n",
       "      <td>Malignant</td>\n",
       "    </tr>\n",
       "  </tbody>\n",
       "</table>\n",
       "</div>"
      ],
      "text/plain": [
       "   mean radius  mean texture  mean perimeter  ...  worst symmetry  worst fractal dimension     target\n",
       "0        17.99         10.38          122.80  ...          0.4601                  0.11890  Malignant\n",
       "1        20.57         17.77          132.90  ...          0.2750                  0.08902  Malignant\n",
       "2        19.69         21.25          130.00  ...          0.3613                  0.08758  Malignant\n",
       "3        11.42         20.38           77.58  ...          0.6638                  0.17300  Malignant\n",
       "4        20.29         14.34          135.10  ...          0.2364                  0.07678  Malignant\n",
       "\n",
       "[5 rows x 31 columns]"
      ]
     },
     "execution_count": 10,
     "metadata": {},
     "output_type": "execute_result"
    }
   ],
   "source": [
    "# 데이터 불러오기\n",
    "data = pd.read_csv('https://raw.githubusercontent.com/DrKAI/dataset/main/breast_cancer.csv')\n",
    "data.head()"
   ]
  },
  {
   "cell_type": "code",
   "execution_count": 11,
   "id": "bc003c7b",
   "metadata": {},
   "outputs": [
    {
     "name": "stdout",
     "output_type": "stream",
     "text": [
      "<class 'pandas.core.frame.DataFrame'>\n",
      "RangeIndex: 569 entries, 0 to 568\n",
      "Data columns (total 31 columns):\n",
      " #   Column                   Non-Null Count  Dtype  \n",
      "---  ------                   --------------  -----  \n",
      " 0   mean radius              569 non-null    float64\n",
      " 1   mean texture             569 non-null    float64\n",
      " 2   mean perimeter           569 non-null    float64\n",
      " 3   mean area                569 non-null    float64\n",
      " 4   mean smoothness          569 non-null    float64\n",
      " 5   mean compactness         569 non-null    float64\n",
      " 6   mean concavity           569 non-null    float64\n",
      " 7   mean concave points      569 non-null    float64\n",
      " 8   mean symmetry            569 non-null    float64\n",
      " 9   mean fractal dimension   569 non-null    float64\n",
      " 10  radius error             569 non-null    float64\n",
      " 11  texture error            569 non-null    float64\n",
      " 12  perimeter error          569 non-null    float64\n",
      " 13  area error               569 non-null    float64\n",
      " 14  smoothness error         569 non-null    float64\n",
      " 15  compactness error        569 non-null    float64\n",
      " 16  concavity error          569 non-null    float64\n",
      " 17  concave points error     569 non-null    float64\n",
      " 18  symmetry error           569 non-null    float64\n",
      " 19  fractal dimension error  569 non-null    float64\n",
      " 20  worst radius             569 non-null    float64\n",
      " 21  worst texture            569 non-null    float64\n",
      " 22  worst perimeter          569 non-null    float64\n",
      " 23  worst area               569 non-null    float64\n",
      " 24  worst smoothness         569 non-null    float64\n",
      " 25  worst compactness        569 non-null    float64\n",
      " 26  worst concavity          569 non-null    float64\n",
      " 27  worst concave points     569 non-null    float64\n",
      " 28  worst symmetry           569 non-null    float64\n",
      " 29  worst fractal dimension  569 non-null    float64\n",
      " 30  target                   569 non-null    object \n",
      "dtypes: float64(30), object(1)\n",
      "memory usage: 137.9+ KB\n"
     ]
    }
   ],
   "source": [
    "data.info()"
   ]
  },
  {
   "cell_type": "markdown",
   "id": "2924b8e0",
   "metadata": {},
   "source": [
    "- 각 특징별로 mean(평균값), error(표준편차 값), worst(가장 큰 3개의 평균)로 나누어져있음"
   ]
  },
  {
   "cell_type": "markdown",
   "id": "5d66a3de",
   "metadata": {},
   "source": [
    "----"
   ]
  },
  {
   "cell_type": "markdown",
   "id": "fc40a802",
   "metadata": {},
   "source": [
    "### 데이터 전처리\n",
    "- x,y 선언\n",
    "- train,test 나누기\n",
    "- y = [0,1]\n",
    "- x 특징별로 나누기"
   ]
  },
  {
   "cell_type": "code",
   "execution_count": 12,
   "id": "3b82b106",
   "metadata": {},
   "outputs": [
    {
     "data": {
      "text/plain": [
       "Benign       357\n",
       "Malignant    212\n",
       "Name: target, dtype: int64"
      ]
     },
     "execution_count": 12,
     "metadata": {},
     "output_type": "execute_result"
    }
   ],
   "source": [
    "data['target'].value_counts()"
   ]
  },
  {
   "cell_type": "code",
   "execution_count": 8,
   "id": "e0b07e52",
   "metadata": {},
   "outputs": [],
   "source": [
    "# y : 0,1 변환\n",
    "data.loc[data['target']=='Benign', 'target'] = 0\n",
    "data.loc[data['target']=='Malignant', 'target'] = 1 # loc로 바꾸면 object\n",
    "\n",
    "data['target'] = data['target'].astype(float)       # float으로 바꿔줘야 fit에서 가능"
   ]
  },
  {
   "cell_type": "code",
   "execution_count": 13,
   "id": "6cb16887",
   "metadata": {},
   "outputs": [
    {
     "data": {
      "text/plain": [
       "0    357\n",
       "1    212\n",
       "Name: target, dtype: int64"
      ]
     },
     "execution_count": 13,
     "metadata": {},
     "output_type": "execute_result"
    }
   ],
   "source": [
    "# 같은 0,1 변환\n",
    "data['target'] = data['target'].map({'Benign':0, 'Malignant':1})\n",
    "data['target'].value_counts()"
   ]
  },
  {
   "cell_type": "code",
   "execution_count": 14,
   "id": "c9c08b32",
   "metadata": {},
   "outputs": [],
   "source": [
    "# x,y 선언\n",
    "y = data['target']\n",
    "x = data.drop('target', axis=1)"
   ]
  },
  {
   "cell_type": "code",
   "execution_count": 15,
   "id": "56c0144f",
   "metadata": {},
   "outputs": [
    {
     "data": {
      "text/plain": [
       "((455, 30), (455,))"
      ]
     },
     "execution_count": 15,
     "metadata": {},
     "output_type": "execute_result"
    }
   ],
   "source": [
    "# train,test 나누기\n",
    "from sklearn.model_selection import train_test_split\n",
    "\n",
    "x_train,x_test,y_train,y_test = train_test_split(x,y,\n",
    "                                                 test_size=0.2,\n",
    "                                                 random_state=2022)\n",
    "x_train.shape, y_train.shape"
   ]
  },
  {
   "cell_type": "code",
   "execution_count": 21,
   "id": "6044f009",
   "metadata": {},
   "outputs": [
    {
     "data": {
      "text/plain": [
       "Index(['mean radius', 'mean texture', 'mean perimeter', 'mean area',\n",
       "       'mean smoothness', 'mean compactness', 'mean concavity',\n",
       "       'mean concave points', 'mean symmetry', 'mean fractal dimension',\n",
       "       'radius error', 'texture error', 'perimeter error', 'area error',\n",
       "       'smoothness error', 'compactness error', 'concavity error',\n",
       "       'concave points error', 'symmetry error', 'fractal dimension error',\n",
       "       'worst radius', 'worst texture', 'worst perimeter', 'worst area',\n",
       "       'worst smoothness', 'worst compactness', 'worst concavity',\n",
       "       'worst concave points', 'worst symmetry', 'worst fractal dimension'],\n",
       "      dtype='object')"
      ]
     },
     "execution_count": 21,
     "metadata": {},
     "output_type": "execute_result"
    }
   ],
   "source": [
    "x.columns"
   ]
  },
  {
   "cell_type": "code",
   "execution_count": 16,
   "id": "b2ffa55e",
   "metadata": {},
   "outputs": [],
   "source": [
    "# x : 특징별로 나누기\n",
    "radius = x_train[['mean radius', 'radius error', 'worst radius']]\n",
    "texture = x_train[['mean texture', 'texture error', 'worst texture']]\n",
    "perimeter = x_train[['mean perimeter', 'perimeter error', 'worst perimeter']]\n",
    "area = x_train[['mean area', 'area error', 'worst area']]\n",
    "smoothness = x_train[['mean smoothness', 'smoothness error', 'worst smoothness']]\n",
    "compactness = x_train[['mean compactness', 'compactness error', 'worst compactness']]\n",
    "concavity = x_train[['mean concavity', 'concavity error', 'worst concavity']]\n",
    "concave_points = x_train[['mean concave points', 'concave points error', 'worst concave points']]\n",
    "symmetry = x_train[['mean symmetry', 'symmetry error', 'worst symmetry']]\n",
    "fractal_dimension = x_train[['mean fractal dimension', 'fractal dimension error', 'worst fractal dimension']]\n"
   ]
  },
  {
   "cell_type": "code",
   "execution_count": 17,
   "id": "eeeac4c3",
   "metadata": {},
   "outputs": [],
   "source": [
    "radius_test = x_test[['mean radius', 'radius error', 'worst radius']]\n",
    "texture_test = x_test[['mean texture', 'texture error', 'worst texture']]\n",
    "perimeter_test = x_test[['mean perimeter', 'perimeter error', 'worst perimeter']]\n",
    "area_test = x_test[['mean area', 'area error', 'worst area']]\n",
    "smoothness_test = x_test[['mean smoothness', 'smoothness error', 'worst smoothness']]\n",
    "compactness_test = x_test[['mean compactness', 'compactness error', 'worst compactness']]\n",
    "concavity_test = x_test[['mean concavity', 'concavity error', 'worst concavity']]\n",
    "concave_points_test = x_test[['mean concave points', 'concave points error', 'worst concave points']]\n",
    "symmetry_test = x_test[['mean symmetry', 'symmetry error', 'worst symmetry']]\n",
    "fractal_dimension_test = x_test[['mean fractal dimension', 'fractal dimension error', 'worst fractal dimension']]\n"
   ]
  },
  {
   "cell_type": "markdown",
   "id": "260a44d0",
   "metadata": {},
   "source": [
    "----"
   ]
  },
  {
   "cell_type": "markdown",
   "id": "3c635639",
   "metadata": {},
   "source": [
    "### 모델링\n",
    "- 각 특징별 히든레이어(노드 12개)\n",
    "- 특징별 히든레이어 Add로 통합\n",
    "- Add와 통합 Input을 concat\n",
    "- concat에 히든레이어추가 (노드 128개)"
   ]
  },
  {
   "cell_type": "code",
   "execution_count": 22,
   "id": "b04b7e98",
   "metadata": {},
   "outputs": [
    {
     "data": {
      "text/plain": [
       "((455, 3), (455, 30), (455,))"
      ]
     },
     "execution_count": 22,
     "metadata": {},
     "output_type": "execute_result"
    }
   ],
   "source": [
    "radius.shape, x_train.shape, y_train.shape"
   ]
  },
  {
   "cell_type": "code",
   "execution_count": 24,
   "id": "245c9788",
   "metadata": {},
   "outputs": [
    {
     "name": "stdout",
     "output_type": "stream",
     "text": [
      "Model: \"model\"\n",
      "__________________________________________________________________________________________________\n",
      " Layer (type)                   Output Shape         Param #     Connected to                     \n",
      "==================================================================================================\n",
      " il_radius (InputLayer)         [(None, 3)]          0           []                               \n",
      "                                                                                                  \n",
      " il_texture (InputLayer)        [(None, 3)]          0           []                               \n",
      "                                                                                                  \n",
      " il_perimeter (InputLayer)      [(None, 3)]          0           []                               \n",
      "                                                                                                  \n",
      " area (InputLayer)              [(None, 3)]          0           []                               \n",
      "                                                                                                  \n",
      " smoothness (InputLayer)        [(None, 3)]          0           []                               \n",
      "                                                                                                  \n",
      " compactness (InputLayer)       [(None, 3)]          0           []                               \n",
      "                                                                                                  \n",
      " concavity (InputLayer)         [(None, 3)]          0           []                               \n",
      "                                                                                                  \n",
      " concave_points (InputLayer)    [(None, 3)]          0           []                               \n",
      "                                                                                                  \n",
      " symmetry (InputLayer)          [(None, 3)]          0           []                               \n",
      "                                                                                                  \n",
      " fractal_dimension (InputLayer)  [(None, 3)]         0           []                               \n",
      "                                                                                                  \n",
      " dense (Dense)                  (None, 12)           48          ['il_radius[0][0]']              \n",
      "                                                                                                  \n",
      " dense_1 (Dense)                (None, 12)           48          ['il_texture[0][0]']             \n",
      "                                                                                                  \n",
      " dense_2 (Dense)                (None, 12)           48          ['il_perimeter[0][0]']           \n",
      "                                                                                                  \n",
      " dense_3 (Dense)                (None, 12)           48          ['area[0][0]']                   \n",
      "                                                                                                  \n",
      " dense_4 (Dense)                (None, 12)           48          ['smoothness[0][0]']             \n",
      "                                                                                                  \n",
      " dense_5 (Dense)                (None, 12)           48          ['compactness[0][0]']            \n",
      "                                                                                                  \n",
      " dense_6 (Dense)                (None, 12)           48          ['concavity[0][0]']              \n",
      "                                                                                                  \n",
      " dense_7 (Dense)                (None, 12)           48          ['concave_points[0][0]']         \n",
      "                                                                                                  \n",
      " dense_8 (Dense)                (None, 12)           48          ['symmetry[0][0]']               \n",
      "                                                                                                  \n",
      " dense_9 (Dense)                (None, 12)           48          ['fractal_dimension[0][0]']      \n",
      "                                                                                                  \n",
      " add (Add)                      (None, 12)           0           ['dense[0][0]',                  \n",
      "                                                                  'dense_1[0][0]',                \n",
      "                                                                  'dense_2[0][0]',                \n",
      "                                                                  'dense_3[0][0]',                \n",
      "                                                                  'dense_4[0][0]',                \n",
      "                                                                  'dense_5[0][0]',                \n",
      "                                                                  'dense_6[0][0]',                \n",
      "                                                                  'dense_7[0][0]',                \n",
      "                                                                  'dense_8[0][0]',                \n",
      "                                                                  'dense_9[0][0]']                \n",
      "                                                                                                  \n",
      " input_1 (InputLayer)           [(None, 30)]         0           []                               \n",
      "                                                                                                  \n",
      " concatenate (Concatenate)      (None, 42)           0           ['add[0][0]',                    \n",
      "                                                                  'input_1[0][0]']                \n",
      "                                                                                                  \n",
      " dense_10 (Dense)               (None, 128)          5504        ['concatenate[0][0]']            \n",
      "                                                                                                  \n",
      " dense_11 (Dense)               (None, 1)            129         ['dense_10[0][0]']               \n",
      "                                                                                                  \n",
      "==================================================================================================\n",
      "Total params: 6,113\n",
      "Trainable params: 6,113\n",
      "Non-trainable params: 0\n",
      "__________________________________________________________________________________________________\n"
     ]
    }
   ],
   "source": [
    "# 청소\n",
    "keras.backend.clear_session()\n",
    "\n",
    "# 모델 연결\n",
    "il_full = keras.layers.Input(shape=(30,))\n",
    "\n",
    "il_radius = keras.layers.Input(shape=(3,), name='il_radius')         # 1\n",
    "hl_radius = keras.layers.Dense(12, activation='relu')(il_radius)\n",
    "\n",
    "il_texture = keras.layers.Input(shape=(3,), name='il_texture')       # 2\n",
    "hl_texture = keras.layers.Dense(12, activation='relu')(il_texture)\n",
    "\n",
    "il_perimeter = keras.layers.Input(shape=(3,), name='il_perimeter')   # 3\n",
    "hl_perimeter = keras.layers.Dense(12, activation='relu')(il_perimeter)\n",
    "\n",
    "il_area = keras.layers.Input(shape=(3,), name='area')                # 4\n",
    "hl_area = keras.layers.Dense(12, activation='relu')(il_area)\n",
    "\n",
    "il_smoothness = keras.layers.Input(shape=(3,), name='smoothness')    # 5\n",
    "hl_smoothness = keras.layers.Dense(12, activation='relu')(il_smoothness)\n",
    "\n",
    "il_compactness = keras.layers.Input(shape=(3,), name='compactness')  # 6\n",
    "hl_compactness = keras.layers.Dense(12, activation='relu')(il_compactness)\n",
    "\n",
    "il_concavity = keras.layers.Input(shape=(3,), name='concavity')      # 7 \n",
    "hl_concavity = keras.layers.Dense(12, activation='relu')(il_concavity)\n",
    "\n",
    "il_concave_points = keras.layers.Input(shape=(3,), name='concave_points')  # 8\n",
    "hl_concave_points = keras.layers.Dense(12, activation='relu')(il_concave_points)\n",
    "\n",
    "il_symmetry = keras.layers.Input(shape=(3,), name='symmetry')        # 9\n",
    "hl_symmetry = keras.layers.Dense(12, activation='relu')(il_symmetry)\n",
    "\n",
    "il_fractal_dimension = keras.layers.Input(shape=(3,), name='fractal_dimension')  # 10\n",
    "hl_fractal_dimension = keras.layers.Dense(12, activation='relu')(il_fractal_dimension)\n",
    "\n",
    "add = keras.layers.Add()([hl_radius, \n",
    "                          hl_texture, \n",
    "                          hl_perimeter,\n",
    "                          hl_area, \n",
    "                          hl_smoothness, \n",
    "                          hl_compactness,\n",
    "                          hl_concavity,\n",
    "                          hl_concave_points,\n",
    "                          hl_symmetry,\n",
    "                          hl_fractal_dimension])\n",
    "\n",
    "cl = keras.layers.Concatenate()([add, il_full])\n",
    "hl = keras.layers.Dense(128, activation='relu')(cl)\n",
    "\n",
    "ol = keras.layers.Dense(1, activation='sigmoid')(hl)\n",
    "\n",
    "input_names = [il_full, il_radius, il_texture, il_perimeter, il_area, \n",
    "               il_smoothness, il_compactness, il_concavity, il_concave_points,\n",
    "               il_symmetry, il_fractal_dimension]\n",
    "\n",
    "# 모델 선언\n",
    "model = keras.models.Model(input_names, ol)\n",
    "\n",
    "# 모델 설정\n",
    "model.compile(loss=keras.losses.binary_crossentropy,\n",
    "              metrics=['accuracy'],\n",
    "              optimizer=keras.optimizers.Adam(0.001))\n",
    "\n",
    "# 모델 요약\n",
    "model.summary()"
   ]
  },
  {
   "cell_type": "code",
   "execution_count": 27,
   "id": "70d871f3",
   "metadata": {},
   "outputs": [
    {
     "data": {
      "image/png": "[encoded data removed]",
      "text/plain": [
       "<IPython.core.display.Image object>"
      ]
     },
     "execution_count": 27,
     "metadata": {},
     "output_type": "execute_result"
    }
   ],
   "source": [
    "# 모델 시각화\n",
    "from tensorflow.keras.utils import plot_model\n",
    "\n",
    "plot_model(model, show_shapes=True, show_layer_names=True)"
   ]
  },
  {
   "cell_type": "markdown",
   "id": "c0d4400e",
   "metadata": {},
   "source": [
    "----"
   ]
  },
  {
   "cell_type": "markdown",
   "id": "c7712f0d",
   "metadata": {},
   "source": [
    "### 모델학습\n",
    "- x_train에 나눠준 11개 모두 들어가야함."
   ]
  },
  {
   "cell_type": "code",
   "execution_count": 28,
   "id": "b5725f66",
   "metadata": {},
   "outputs": [],
   "source": [
    "train_list = [x_train, radius, texture, \n",
    "              perimeter, area, smoothness, \n",
    "              compactness, concavity, \n",
    "              concave_points, symmetry, fractal_dimension]"
   ]
  },
  {
   "cell_type": "code",
   "execution_count": 29,
   "id": "9c021963",
   "metadata": {},
   "outputs": [],
   "source": [
    "test_list = [x_test, radius_test, texture_test, \n",
    "              perimeter_test, area_test, smoothness_test, \n",
    "              compactness_test, concavity_test, \n",
    "              concave_points_test, symmetry_test, fractal_dimension_test]"
   ]
  },
  {
   "cell_type": "code",
   "execution_count": 30,
   "id": "7c23c0d0",
   "metadata": {
    "scrolled": false
   },
   "outputs": [
    {
     "name": "stdout",
     "output_type": "stream",
     "text": [
      "Epoch 1/2500\n",
      "13/13 [==============================] - 1s 35ms/step - loss: 21.8284 - accuracy: 0.4474 - val_loss: 1.4606 - val_accuracy: 0.8913\n",
      "Epoch 2/2500\n",
      "13/13 [==============================] - 0s 5ms/step - loss: 8.0281 - accuracy: 0.6186 - val_loss: 4.8008 - val_accuracy: 0.2826\n",
      "Epoch 3/2500\n",
      "13/13 [==============================] - 0s 5ms/step - loss: 2.3445 - accuracy: 0.7800 - val_loss: 1.8242 - val_accuracy: 0.5652\n",
      "Epoch 4/2500\n",
      "13/13 [==============================] - 0s 5ms/step - loss: 1.5051 - accuracy: 0.7873 - val_loss: 0.0562 - val_accuracy: 0.9565\n",
      "Epoch 5/2500\n",
      "13/13 [==============================] - 0s 5ms/step - loss: 1.1591 - accuracy: 0.8289 - val_loss: 0.3080 - val_accuracy: 0.9348\n",
      "Epoch 6/2500\n",
      "13/13 [==============================] - 0s 5ms/step - loss: 0.8103 - accuracy: 0.8509 - val_loss: 0.0506 - val_accuracy: 0.9783\n",
      "Epoch 7/2500\n",
      "13/13 [==============================] - 0s 5ms/step - loss: 0.5737 - accuracy: 0.8900 - val_loss: 0.1333 - val_accuracy: 0.9565\n",
      "Epoch 8/2500\n",
      "13/13 [==============================] - 0s 5ms/step - loss: 0.5863 - accuracy: 0.8704 - val_loss: 0.1229 - val_accuracy: 0.9565\n",
      "Epoch 9/2500\n",
      "13/13 [==============================] - 0s 5ms/step - loss: 0.5158 - accuracy: 0.8949 - val_loss: 0.1007 - val_accuracy: 0.9565\n",
      "Epoch 10/2500\n",
      "13/13 [==============================] - 0s 5ms/step - loss: 0.4162 - accuracy: 0.9022 - val_loss: 0.1225 - val_accuracy: 0.9565\n",
      "Epoch 11/2500\n",
      " 1/13 [=>............................] - ETA: 0s - loss: 0.4770 - accuracy: 0.9375Restoring model weights from the end of the best epoch: 6.\n",
      "13/13 [==============================] - 0s 5ms/step - loss: 0.3932 - accuracy: 0.9095 - val_loss: 0.1328 - val_accuracy: 0.9565\n",
      "Epoch 11: early stopping\n"
     ]
    },
    {
     "data": {
      "text/plain": [
       "<keras.callbacks.History at 0x1c73c8ace20>"
      ]
     },
     "execution_count": 30,
     "metadata": {},
     "output_type": "execute_result"
    }
   ],
   "source": [
    "from tensorflow.keras.callbacks import EarlyStopping\n",
    "\n",
    "es = EarlyStopping(monitor='val_loss',\n",
    "                   min_delta=0,\n",
    "                   patience=5,\n",
    "                   verbose=1,\n",
    "                   restore_best_weights=True)\n",
    "\n",
    "\n",
    "model.fit(train_list, y_train,\n",
    "          epochs=2500, verbose=1, validation_split=0.1, callbacks=[es])"
   ]
  },
  {
   "cell_type": "markdown",
   "id": "302ef097",
   "metadata": {},
   "source": [
    "----"
   ]
  },
  {
   "cell_type": "markdown",
   "id": "4c8065e1",
   "metadata": {},
   "source": [
    "### 평가\n",
    "- y_pred를 0,1로 변경 필요"
   ]
  },
  {
   "cell_type": "code",
   "execution_count": 31,
   "id": "1202efe4",
   "metadata": {},
   "outputs": [
    {
     "name": "stdout",
     "output_type": "stream",
     "text": [
      "4/4 [==============================] - 0s 2ms/step - loss: 0.4621 - accuracy: 0.9298\n"
     ]
    },
    {
     "data": {
      "text/plain": [
       "[0.46214327216148376, 0.9298245906829834]"
      ]
     },
     "execution_count": 31,
     "metadata": {},
     "output_type": "execute_result"
    }
   ],
   "source": [
    "model.evaluate(test_list, y_test)"
   ]
  },
  {
   "cell_type": "code",
   "execution_count": 39,
   "id": "a9e4aa1c",
   "metadata": {},
   "outputs": [],
   "source": [
    "y_pred = model.predict(test_list)"
   ]
  },
  {
   "cell_type": "code",
   "execution_count": 40,
   "id": "46423d2b",
   "metadata": {},
   "outputs": [
    {
     "data": {
      "text/plain": [
       "array([[2.1600723e-04],\n",
       "       [5.1735929e-05],\n",
       "       [3.1403259e-05],\n",
       "       [6.0344501e-05],\n",
       "       [5.1990151e-04]], dtype=float32)"
      ]
     },
     "execution_count": 40,
     "metadata": {},
     "output_type": "execute_result"
    }
   ],
   "source": [
    "y_pred[:5]"
   ]
  },
  {
   "cell_type": "code",
   "execution_count": 41,
   "id": "32ad8ce9",
   "metadata": {},
   "outputs": [
    {
     "data": {
      "text/plain": [
       "array([[0.],\n",
       "       [0.],\n",
       "       [0.],\n",
       "       [0.],\n",
       "       [0.]], dtype=float32)"
      ]
     },
     "execution_count": 41,
     "metadata": {},
     "output_type": "execute_result"
    }
   ],
   "source": [
    "for idx, val in enumerate(y_pred):\n",
    "    if val >= 0.5 :\n",
    "        y_pred[idx] = 1\n",
    "    else :\n",
    "        y_pred[idx] = 0\n",
    "        \n",
    "y_pred[:5]"
   ]
  },
  {
   "cell_type": "code",
   "execution_count": 47,
   "id": "06448dbb",
   "metadata": {},
   "outputs": [
    {
     "name": "stdout",
     "output_type": "stream",
     "text": [
      "              precision    recall  f1-score   support\n",
      "\n",
      "      Benign       0.93      0.96      0.94        68\n",
      "   Malignant       0.93      0.89      0.91        46\n",
      "\n",
      "    accuracy                           0.93       114\n",
      "   macro avg       0.93      0.92      0.93       114\n",
      "weighted avg       0.93      0.93      0.93       114\n",
      "\n"
     ]
    }
   ],
   "source": [
    "from sklearn.metrics import classification_report\n",
    "\n",
    "print(classification_report(y_test,y_pred, target_names=['Benign', 'Malignant']))"
   ]
  },
  {
   "cell_type": "code",
   "execution_count": null,
   "id": "22dbad46",
   "metadata": {},
   "outputs": [],
   "source": []
  }
 ],
 "metadata": {
  "kernelspec": {
   "display_name": "Python 3",
   "language": "python",
   "name": "python3"
  },
  "language_info": {
   "codemirror_mode": {
    "name": "ipython",
    "version": 3
   },
   "file_extension": ".py",
   "mimetype": "text/x-python",
   "name": "python",
   "nbconvert_exporter": "python",
   "pygments_lexer": "ipython3",
   "version": "3.8.8"
  }
 },
 "nbformat": 4,
 "nbformat_minor": 5
}
