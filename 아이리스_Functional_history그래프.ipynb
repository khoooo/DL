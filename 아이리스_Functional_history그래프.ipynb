{
 "cells": [
  {
   "cell_type": "markdown",
   "id": "91b33e62",
   "metadata": {},
   "source": [
    "- 아이리스 데이터"
   ]
  },
  {
   "cell_type": "code",
   "execution_count": 2,
   "id": "92c83393",
   "metadata": {},
   "outputs": [],
   "source": [
    "import pandas as pd\n",
    "import numpy as np\n",
    "import matplotlib.pyplot as plt\n",
    "import tensorflow as tf\n",
    "from tensorflow import keras"
   ]
  },
  {
   "cell_type": "code",
   "execution_count": 20,
   "id": "710122f4",
   "metadata": {},
   "outputs": [
    {
     "data": {
      "text/html": [
       "<div>\n",
       "<style scoped>\n",
       "    .dataframe tbody tr th:only-of-type {\n",
       "        vertical-align: middle;\n",
       "    }\n",
       "\n",
       "    .dataframe tbody tr th {\n",
       "        vertical-align: top;\n",
       "    }\n",
       "\n",
       "    .dataframe thead th {\n",
       "        text-align: right;\n",
       "    }\n",
       "</style>\n",
       "<table border=\"1\" class=\"dataframe\">\n",
       "  <thead>\n",
       "    <tr style=\"text-align: right;\">\n",
       "      <th></th>\n",
       "      <th>sepal length (cm)</th>\n",
       "      <th>sepal width (cm)</th>\n",
       "      <th>petal length (cm)</th>\n",
       "      <th>petal width (cm)</th>\n",
       "      <th>target</th>\n",
       "    </tr>\n",
       "  </thead>\n",
       "  <tbody>\n",
       "    <tr>\n",
       "      <th>0</th>\n",
       "      <td>5.1</td>\n",
       "      <td>3.5</td>\n",
       "      <td>1.4</td>\n",
       "      <td>0.2</td>\n",
       "      <td>0</td>\n",
       "    </tr>\n",
       "    <tr>\n",
       "      <th>1</th>\n",
       "      <td>4.9</td>\n",
       "      <td>3.0</td>\n",
       "      <td>1.4</td>\n",
       "      <td>0.2</td>\n",
       "      <td>0</td>\n",
       "    </tr>\n",
       "    <tr>\n",
       "      <th>2</th>\n",
       "      <td>4.7</td>\n",
       "      <td>3.2</td>\n",
       "      <td>1.3</td>\n",
       "      <td>0.2</td>\n",
       "      <td>0</td>\n",
       "    </tr>\n",
       "  </tbody>\n",
       "</table>\n",
       "</div>"
      ],
      "text/plain": [
       "   sepal length (cm)  sepal width (cm)  petal length (cm)  petal width (cm)  target\n",
       "0                5.1               3.5                1.4               0.2       0\n",
       "1                4.9               3.0                1.4               0.2       0\n",
       "2                4.7               3.2                1.3               0.2       0"
      ]
     },
     "execution_count": 20,
     "metadata": {},
     "output_type": "execute_result"
    }
   ],
   "source": [
    "from sklearn.datasets import load_iris\n",
    "iris = load_iris()\n",
    "\n",
    "data = pd.DataFrame(data=iris.data, columns=iris.feature_names)\n",
    "data['target'] = iris.target\n",
    "data.head(3)"
   ]
  },
  {
   "cell_type": "code",
   "execution_count": 22,
   "id": "d35ba0d3",
   "metadata": {},
   "outputs": [
    {
     "data": {
      "text/plain": [
       "sepal length (cm)    0\n",
       "sepal width (cm)     0\n",
       "petal length (cm)    0\n",
       "petal width (cm)     0\n",
       "target               0\n",
       "dtype: int64"
      ]
     },
     "execution_count": 22,
     "metadata": {},
     "output_type": "execute_result"
    }
   ],
   "source": [
    "data.isna().sum()"
   ]
  },
  {
   "cell_type": "code",
   "execution_count": 27,
   "id": "7c4ef88a",
   "metadata": {},
   "outputs": [
    {
     "data": {
      "text/plain": [
       "0    50\n",
       "1    50\n",
       "2    50\n",
       "Name: target, dtype: int64"
      ]
     },
     "execution_count": 27,
     "metadata": {},
     "output_type": "execute_result"
    }
   ],
   "source": [
    "target = 'target'\n",
    "\n",
    "x = data.drop(target, axis=1)\n",
    "y = data[target]\n",
    "y.value_counts()"
   ]
  },
  {
   "cell_type": "markdown",
   "id": "a35fd5af",
   "metadata": {},
   "source": [
    "#### one-hot encoding"
   ]
  },
  {
   "cell_type": "code",
   "execution_count": 28,
   "id": "7fae8784",
   "metadata": {},
   "outputs": [],
   "source": [
    "from tensorflow.keras.utils import to_categorical\n",
    "\n",
    "y = to_categorical(y,3)"
   ]
  },
  {
   "cell_type": "markdown",
   "id": "80e1b7ad",
   "metadata": {},
   "source": [
    "#### train,test 분리"
   ]
  },
  {
   "cell_type": "code",
   "execution_count": 29,
   "id": "ed92ec81",
   "metadata": {},
   "outputs": [],
   "source": [
    "from sklearn.model_selection import train_test_split\n",
    "\n",
    "x_train,x_test,y_train,y_test = train_test_split(x,y,test_size=0.2,random_state=42)"
   ]
  },
  {
   "cell_type": "markdown",
   "id": "b15d0cc4",
   "metadata": {},
   "source": [
    "## Functional API"
   ]
  },
  {
   "cell_type": "code",
   "execution_count": 30,
   "id": "b80128e0",
   "metadata": {},
   "outputs": [
    {
     "data": {
      "text/plain": [
       "((150, 4), (150, 3))"
      ]
     },
     "execution_count": 30,
     "metadata": {},
     "output_type": "execute_result"
    }
   ],
   "source": [
    "x.shape, y.shape"
   ]
  },
  {
   "cell_type": "code",
   "execution_count": 32,
   "id": "f4ff3f2e",
   "metadata": {},
   "outputs": [
    {
     "name": "stdout",
     "output_type": "stream",
     "text": [
      "Model: \"model\"\n",
      "_________________________________________________________________\n",
      " Layer (type)                Output Shape              Param #   \n",
      "=================================================================\n",
      " input_1 (InputLayer)        [(None, 4)]               0         \n",
      "                                                                 \n",
      " hl1 (Dense)                 (None, 16)                80        \n",
      "                                                                 \n",
      " hl2 (Dense)                 (None, 16)                272       \n",
      "                                                                 \n",
      " dense (Dense)               (None, 3)                 51        \n",
      "                                                                 \n",
      "=================================================================\n",
      "Total params: 403\n",
      "Trainable params: 403\n",
      "Non-trainable params: 0\n",
      "_________________________________________________________________\n"
     ]
    }
   ],
   "source": [
    "# 청소\n",
    "keras.backend.clear_session()\n",
    "\n",
    "# 모델 연결\n",
    "il = keras.layers.Input(shape=(4,))\n",
    "hl = keras.layers.Dense(16, activation='relu', name='hl1')(il)\n",
    "hl = keras.layers.Dense(16, activation='relu', name='hl2')(hl)\n",
    "ol = keras.layers.Dense(3,activation='softmax')(hl)\n",
    "\n",
    "# 모델 선언\n",
    "model = keras.models.Model(il,ol)\n",
    "\n",
    "# 모델 컴파일\n",
    "model.compile(loss=keras.losses.categorical_crossentropy,\n",
    "              metrics=['accuracy'],\n",
    "              optimizer=keras.optimizers.Adam())\n",
    "\n",
    "# 모델 요약\n",
    "model.summary()"
   ]
  },
  {
   "cell_type": "code",
   "execution_count": 33,
   "id": "701650f7",
   "metadata": {},
   "outputs": [
    {
     "data": {
      "image/png": "[encoded data removed]",
      "text/plain": [
       "<IPython.core.display.Image object>"
      ]
     },
     "execution_count": 33,
     "metadata": {},
     "output_type": "execute_result"
    }
   ],
   "source": [
    "from tensorflow.keras.utils import plot_model\n",
    "\n",
    "plot_model(model, show_shapes=True, show_layer_names=True)"
   ]
  },
  {
   "cell_type": "markdown",
   "id": "4bc9609f",
   "metadata": {},
   "source": [
    "#### Early stoping"
   ]
  },
  {
   "cell_type": "code",
   "execution_count": 34,
   "id": "034ab8e9",
   "metadata": {},
   "outputs": [
    {
     "name": "stdout",
     "output_type": "stream",
     "text": [
      "Epoch 1/1000\n",
      "4/4 [==============================] - 1s 71ms/step - loss: 1.3038 - accuracy: 0.3519 - val_loss: 1.4197 - val_accuracy: 0.1667\n",
      "Epoch 2/1000\n",
      "4/4 [==============================] - 0s 12ms/step - loss: 1.1557 - accuracy: 0.3519 - val_loss: 1.2698 - val_accuracy: 0.1667\n",
      "Epoch 3/1000\n",
      "4/4 [==============================] - 0s 11ms/step - loss: 1.0519 - accuracy: 0.3519 - val_loss: 1.1581 - val_accuracy: 0.1667\n",
      "Epoch 4/1000\n",
      "4/4 [==============================] - 0s 11ms/step - loss: 0.9791 - accuracy: 0.4444 - val_loss: 1.0750 - val_accuracy: 0.2500\n",
      "Epoch 5/1000\n",
      "4/4 [==============================] - 0s 13ms/step - loss: 0.9225 - accuracy: 0.5278 - val_loss: 1.0237 - val_accuracy: 0.4167\n",
      "Epoch 6/1000\n",
      "4/4 [==============================] - 0s 11ms/step - loss: 0.8910 - accuracy: 0.6019 - val_loss: 0.9927 - val_accuracy: 0.3333\n",
      "Epoch 7/1000\n",
      "4/4 [==============================] - 0s 13ms/step - loss: 0.8663 - accuracy: 0.5926 - val_loss: 0.9678 - val_accuracy: 0.3333\n",
      "Epoch 8/1000\n",
      "4/4 [==============================] - 0s 11ms/step - loss: 0.8449 - accuracy: 0.5926 - val_loss: 0.9411 - val_accuracy: 0.3333\n",
      "Epoch 9/1000\n",
      "4/4 [==============================] - 0s 13ms/step - loss: 0.8229 - accuracy: 0.6296 - val_loss: 0.9140 - val_accuracy: 0.5000\n",
      "Epoch 10/1000\n",
      "4/4 [==============================] - 0s 12ms/step - loss: 0.8033 - accuracy: 0.7593 - val_loss: 0.8896 - val_accuracy: 0.8333\n",
      "Epoch 11/1000\n",
      "4/4 [==============================] - 0s 13ms/step - loss: 0.7826 - accuracy: 0.8704 - val_loss: 0.8654 - val_accuracy: 0.9167\n",
      "Epoch 12/1000\n",
      "4/4 [==============================] - 0s 10ms/step - loss: 0.7644 - accuracy: 0.9074 - val_loss: 0.8440 - val_accuracy: 0.9167\n",
      "Epoch 13/1000\n",
      "4/4 [==============================] - 0s 19ms/step - loss: 0.7473 - accuracy: 0.9074 - val_loss: 0.8238 - val_accuracy: 0.9167\n",
      "Epoch 14/1000\n",
      "4/4 [==============================] - 0s 12ms/step - loss: 0.7307 - accuracy: 0.9167 - val_loss: 0.8062 - val_accuracy: 0.9167\n",
      "Epoch 15/1000\n",
      "4/4 [==============================] - 0s 11ms/step - loss: 0.7145 - accuracy: 0.9444 - val_loss: 0.7881 - val_accuracy: 0.9167\n",
      "Epoch 16/1000\n",
      "4/4 [==============================] - 0s 10ms/step - loss: 0.6973 - accuracy: 0.9444 - val_loss: 0.7706 - val_accuracy: 0.9167\n",
      "Epoch 17/1000\n",
      "4/4 [==============================] - 0s 11ms/step - loss: 0.6812 - accuracy: 0.9537 - val_loss: 0.7534 - val_accuracy: 0.9167\n",
      "Epoch 18/1000\n",
      "4/4 [==============================] - 0s 11ms/step - loss: 0.6618 - accuracy: 0.9352 - val_loss: 0.7343 - val_accuracy: 0.9167\n",
      "Epoch 19/1000\n",
      "4/4 [==============================] - 0s 13ms/step - loss: 0.6416 - accuracy: 0.9444 - val_loss: 0.7134 - val_accuracy: 0.9167\n",
      "Epoch 20/1000\n",
      "4/4 [==============================] - 0s 10ms/step - loss: 0.6207 - accuracy: 0.9444 - val_loss: 0.6931 - val_accuracy: 0.9167\n",
      "Epoch 21/1000\n",
      "4/4 [==============================] - 0s 11ms/step - loss: 0.6007 - accuracy: 0.9537 - val_loss: 0.6732 - val_accuracy: 1.0000\n",
      "Epoch 22/1000\n",
      "4/4 [==============================] - 0s 11ms/step - loss: 0.5806 - accuracy: 0.9630 - val_loss: 0.6538 - val_accuracy: 1.0000\n",
      "Epoch 23/1000\n",
      "4/4 [==============================] - 0s 11ms/step - loss: 0.5635 - accuracy: 0.9630 - val_loss: 0.6358 - val_accuracy: 1.0000\n",
      "Epoch 24/1000\n",
      "4/4 [==============================] - 0s 10ms/step - loss: 0.5474 - accuracy: 0.9630 - val_loss: 0.6186 - val_accuracy: 1.0000\n",
      "Epoch 25/1000\n",
      "4/4 [==============================] - 0s 10ms/step - loss: 0.5322 - accuracy: 0.9722 - val_loss: 0.6030 - val_accuracy: 1.0000\n",
      "Epoch 26/1000\n",
      "4/4 [==============================] - 0s 11ms/step - loss: 0.5181 - accuracy: 0.9722 - val_loss: 0.5872 - val_accuracy: 1.0000\n",
      "Epoch 27/1000\n",
      "4/4 [==============================] - 0s 10ms/step - loss: 0.5033 - accuracy: 0.9722 - val_loss: 0.5705 - val_accuracy: 1.0000\n",
      "Epoch 28/1000\n",
      "4/4 [==============================] - 0s 10ms/step - loss: 0.4908 - accuracy: 0.9630 - val_loss: 0.5557 - val_accuracy: 1.0000\n",
      "Epoch 29/1000\n",
      "4/4 [==============================] - 0s 10ms/step - loss: 0.4770 - accuracy: 0.9630 - val_loss: 0.5363 - val_accuracy: 1.0000\n",
      "Epoch 30/1000\n",
      "4/4 [==============================] - 0s 10ms/step - loss: 0.4633 - accuracy: 0.9630 - val_loss: 0.5196 - val_accuracy: 1.0000\n",
      "Epoch 31/1000\n",
      "4/4 [==============================] - 0s 10ms/step - loss: 0.4487 - accuracy: 0.9630 - val_loss: 0.4985 - val_accuracy: 1.0000\n",
      "Epoch 32/1000\n",
      "4/4 [==============================] - 0s 11ms/step - loss: 0.4342 - accuracy: 0.9815 - val_loss: 0.4807 - val_accuracy: 1.0000\n",
      "Epoch 33/1000\n",
      "4/4 [==============================] - 0s 11ms/step - loss: 0.4223 - accuracy: 0.9722 - val_loss: 0.4662 - val_accuracy: 1.0000\n",
      "Epoch 34/1000\n",
      "4/4 [==============================] - 0s 12ms/step - loss: 0.4122 - accuracy: 0.9722 - val_loss: 0.4555 - val_accuracy: 1.0000\n",
      "Epoch 35/1000\n",
      "4/4 [==============================] - 0s 11ms/step - loss: 0.4037 - accuracy: 0.9630 - val_loss: 0.4453 - val_accuracy: 1.0000\n",
      "Epoch 36/1000\n",
      "4/4 [==============================] - 0s 11ms/step - loss: 0.3943 - accuracy: 0.9537 - val_loss: 0.4357 - val_accuracy: 1.0000\n",
      "Epoch 37/1000\n",
      "4/4 [==============================] - 0s 12ms/step - loss: 0.3837 - accuracy: 0.9630 - val_loss: 0.4270 - val_accuracy: 1.0000\n",
      "Epoch 38/1000\n",
      "4/4 [==============================] - 0s 11ms/step - loss: 0.3750 - accuracy: 0.9722 - val_loss: 0.4178 - val_accuracy: 1.0000\n",
      "Epoch 39/1000\n",
      "4/4 [==============================] - 0s 11ms/step - loss: 0.3678 - accuracy: 0.9630 - val_loss: 0.4087 - val_accuracy: 1.0000\n",
      "Epoch 40/1000\n",
      "4/4 [==============================] - 0s 12ms/step - loss: 0.3600 - accuracy: 0.9630 - val_loss: 0.3969 - val_accuracy: 1.0000\n",
      "Epoch 41/1000\n",
      "4/4 [==============================] - 0s 12ms/step - loss: 0.3517 - accuracy: 0.9722 - val_loss: 0.3847 - val_accuracy: 1.0000\n",
      "Epoch 42/1000\n",
      "4/4 [==============================] - 0s 10ms/step - loss: 0.3439 - accuracy: 0.9722 - val_loss: 0.3743 - val_accuracy: 1.0000\n",
      "Epoch 43/1000\n",
      "4/4 [==============================] - 0s 10ms/step - loss: 0.3411 - accuracy: 0.9444 - val_loss: 0.3680 - val_accuracy: 1.0000\n",
      "Epoch 44/1000\n",
      "4/4 [==============================] - 0s 10ms/step - loss: 0.3336 - accuracy: 0.9444 - val_loss: 0.3585 - val_accuracy: 1.0000\n",
      "Epoch 45/1000\n",
      "4/4 [==============================] - 0s 9ms/step - loss: 0.3259 - accuracy: 0.9630 - val_loss: 0.3510 - val_accuracy: 1.0000\n",
      "Epoch 46/1000\n",
      "4/4 [==============================] - 0s 9ms/step - loss: 0.3180 - accuracy: 0.9630 - val_loss: 0.3436 - val_accuracy: 1.0000\n",
      "Epoch 47/1000\n",
      "4/4 [==============================] - 0s 10ms/step - loss: 0.3131 - accuracy: 0.9722 - val_loss: 0.3364 - val_accuracy: 1.0000\n",
      "Epoch 48/1000\n",
      "4/4 [==============================] - 0s 10ms/step - loss: 0.3067 - accuracy: 0.9630 - val_loss: 0.3276 - val_accuracy: 1.0000\n",
      "Epoch 49/1000\n",
      "4/4 [==============================] - 0s 10ms/step - loss: 0.3023 - accuracy: 0.9630 - val_loss: 0.3200 - val_accuracy: 1.0000\n",
      "Epoch 50/1000\n",
      "4/4 [==============================] - 0s 10ms/step - loss: 0.2961 - accuracy: 0.9630 - val_loss: 0.3133 - val_accuracy: 1.0000\n",
      "Epoch 51/1000\n",
      "4/4 [==============================] - 0s 10ms/step - loss: 0.2901 - accuracy: 0.9722 - val_loss: 0.3113 - val_accuracy: 1.0000\n",
      "Epoch 52/1000\n",
      "4/4 [==============================] - 0s 10ms/step - loss: 0.2876 - accuracy: 0.9630 - val_loss: 0.3076 - val_accuracy: 1.0000\n",
      "Epoch 53/1000\n",
      "4/4 [==============================] - 0s 10ms/step - loss: 0.2830 - accuracy: 0.9630 - val_loss: 0.2928 - val_accuracy: 1.0000\n",
      "Epoch 54/1000\n",
      "4/4 [==============================] - 0s 10ms/step - loss: 0.2755 - accuracy: 0.9722 - val_loss: 0.2848 - val_accuracy: 1.0000\n",
      "Epoch 55/1000\n",
      "4/4 [==============================] - 0s 10ms/step - loss: 0.2713 - accuracy: 0.9722 - val_loss: 0.2799 - val_accuracy: 1.0000\n",
      "Epoch 56/1000\n",
      "4/4 [==============================] - 0s 10ms/step - loss: 0.2665 - accuracy: 0.9722 - val_loss: 0.2734 - val_accuracy: 1.0000\n",
      "Epoch 57/1000\n",
      "4/4 [==============================] - 0s 10ms/step - loss: 0.2635 - accuracy: 0.9630 - val_loss: 0.2671 - val_accuracy: 1.0000\n",
      "Epoch 58/1000\n",
      "4/4 [==============================] - 0s 11ms/step - loss: 0.2603 - accuracy: 0.9630 - val_loss: 0.2610 - val_accuracy: 1.0000\n"
     ]
    },
    {
     "name": "stdout",
     "output_type": "stream",
     "text": [
      "Epoch 59/1000\n",
      "4/4 [==============================] - 0s 12ms/step - loss: 0.2542 - accuracy: 0.9630 - val_loss: 0.2547 - val_accuracy: 1.0000\n",
      "Epoch 60/1000\n",
      "4/4 [==============================] - 0s 11ms/step - loss: 0.2474 - accuracy: 0.9630 - val_loss: 0.2490 - val_accuracy: 1.0000\n",
      "Epoch 61/1000\n",
      "4/4 [==============================] - 0s 11ms/step - loss: 0.2402 - accuracy: 0.9722 - val_loss: 0.2447 - val_accuracy: 1.0000\n",
      "Epoch 62/1000\n",
      "4/4 [==============================] - 0s 11ms/step - loss: 0.2351 - accuracy: 0.9722 - val_loss: 0.2407 - val_accuracy: 1.0000\n",
      "Epoch 63/1000\n",
      "4/4 [==============================] - 0s 11ms/step - loss: 0.2308 - accuracy: 0.9537 - val_loss: 0.2371 - val_accuracy: 1.0000\n",
      "Epoch 64/1000\n",
      "4/4 [==============================] - 0s 11ms/step - loss: 0.2272 - accuracy: 0.9630 - val_loss: 0.2293 - val_accuracy: 1.0000\n",
      "Epoch 65/1000\n",
      "4/4 [==============================] - 0s 16ms/step - loss: 0.2234 - accuracy: 0.9630 - val_loss: 0.2201 - val_accuracy: 1.0000\n",
      "Epoch 66/1000\n",
      "4/4 [==============================] - 0s 13ms/step - loss: 0.2200 - accuracy: 0.9630 - val_loss: 0.2149 - val_accuracy: 1.0000\n",
      "Epoch 67/1000\n",
      "4/4 [==============================] - 0s 10ms/step - loss: 0.2168 - accuracy: 0.9630 - val_loss: 0.2106 - val_accuracy: 1.0000\n",
      "Epoch 68/1000\n",
      "4/4 [==============================] - 0s 10ms/step - loss: 0.2113 - accuracy: 0.9722 - val_loss: 0.2082 - val_accuracy: 1.0000\n",
      "Epoch 69/1000\n",
      "4/4 [==============================] - 0s 10ms/step - loss: 0.2080 - accuracy: 0.9722 - val_loss: 0.2040 - val_accuracy: 1.0000\n",
      "Epoch 70/1000\n",
      "4/4 [==============================] - 0s 10ms/step - loss: 0.2064 - accuracy: 0.9630 - val_loss: 0.2033 - val_accuracy: 1.0000\n",
      "Epoch 71/1000\n",
      "4/4 [==============================] - 0s 10ms/step - loss: 0.2025 - accuracy: 0.9630 - val_loss: 0.1990 - val_accuracy: 1.0000\n",
      "Epoch 72/1000\n",
      "4/4 [==============================] - 0s 10ms/step - loss: 0.1991 - accuracy: 0.9630 - val_loss: 0.1904 - val_accuracy: 1.0000\n",
      "Epoch 73/1000\n",
      "4/4 [==============================] - 0s 13ms/step - loss: 0.1979 - accuracy: 0.9722 - val_loss: 0.1841 - val_accuracy: 1.0000\n",
      "Epoch 74/1000\n",
      "4/4 [==============================] - 0s 10ms/step - loss: 0.1926 - accuracy: 0.9722 - val_loss: 0.1824 - val_accuracy: 1.0000\n",
      "Epoch 75/1000\n",
      "4/4 [==============================] - 0s 8ms/step - loss: 0.1924 - accuracy: 0.9630 - val_loss: 0.1854 - val_accuracy: 1.0000\n",
      "Epoch 76/1000\n",
      "4/4 [==============================] - 0s 9ms/step - loss: 0.1882 - accuracy: 0.9630 - val_loss: 0.1769 - val_accuracy: 1.0000\n",
      "Epoch 77/1000\n",
      "4/4 [==============================] - 0s 10ms/step - loss: 0.1851 - accuracy: 0.9630 - val_loss: 0.1703 - val_accuracy: 1.0000\n",
      "Epoch 78/1000\n",
      "4/4 [==============================] - 0s 11ms/step - loss: 0.1824 - accuracy: 0.9722 - val_loss: 0.1674 - val_accuracy: 1.0000\n",
      "Epoch 79/1000\n",
      "4/4 [==============================] - 0s 15ms/step - loss: 0.1796 - accuracy: 0.9722 - val_loss: 0.1642 - val_accuracy: 1.0000\n",
      "Epoch 80/1000\n",
      "4/4 [==============================] - 0s 14ms/step - loss: 0.1770 - accuracy: 0.9722 - val_loss: 0.1622 - val_accuracy: 1.0000\n",
      "Epoch 81/1000\n",
      "4/4 [==============================] - 0s 15ms/step - loss: 0.1761 - accuracy: 0.9630 - val_loss: 0.1631 - val_accuracy: 1.0000\n",
      "Epoch 82/1000\n",
      "4/4 [==============================] - 0s 16ms/step - loss: 0.1740 - accuracy: 0.9630 - val_loss: 0.1584 - val_accuracy: 1.0000\n",
      "Epoch 83/1000\n",
      "4/4 [==============================] - 0s 16ms/step - loss: 0.1720 - accuracy: 0.9630 - val_loss: 0.1580 - val_accuracy: 1.0000\n",
      "Epoch 84/1000\n",
      "4/4 [==============================] - 0s 14ms/step - loss: 0.1697 - accuracy: 0.9630 - val_loss: 0.1543 - val_accuracy: 1.0000\n",
      "Epoch 85/1000\n",
      "4/4 [==============================] - 0s 12ms/step - loss: 0.1675 - accuracy: 0.9630 - val_loss: 0.1483 - val_accuracy: 1.0000\n",
      "Epoch 86/1000\n",
      "4/4 [==============================] - 0s 17ms/step - loss: 0.1642 - accuracy: 0.9630 - val_loss: 0.1443 - val_accuracy: 1.0000\n",
      "Epoch 87/1000\n",
      "4/4 [==============================] - 0s 19ms/step - loss: 0.1619 - accuracy: 0.9630 - val_loss: 0.1383 - val_accuracy: 1.0000\n",
      "Epoch 88/1000\n",
      "4/4 [==============================] - 0s 15ms/step - loss: 0.1611 - accuracy: 0.9722 - val_loss: 0.1345 - val_accuracy: 1.0000\n",
      "Epoch 89/1000\n",
      "4/4 [==============================] - 0s 10ms/step - loss: 0.1608 - accuracy: 0.9630 - val_loss: 0.1330 - val_accuracy: 1.0000\n",
      "Epoch 90/1000\n",
      "4/4 [==============================] - 0s 10ms/step - loss: 0.1569 - accuracy: 0.9722 - val_loss: 0.1315 - val_accuracy: 1.0000\n",
      "Epoch 91/1000\n",
      "4/4 [==============================] - 0s 11ms/step - loss: 0.1543 - accuracy: 0.9722 - val_loss: 0.1319 - val_accuracy: 1.0000\n",
      "Epoch 92/1000\n",
      "4/4 [==============================] - 0s 10ms/step - loss: 0.1541 - accuracy: 0.9630 - val_loss: 0.1344 - val_accuracy: 1.0000\n",
      "Epoch 93/1000\n",
      "4/4 [==============================] - 0s 10ms/step - loss: 0.1530 - accuracy: 0.9630 - val_loss: 0.1312 - val_accuracy: 1.0000\n",
      "Epoch 94/1000\n",
      "4/4 [==============================] - 0s 10ms/step - loss: 0.1505 - accuracy: 0.9630 - val_loss: 0.1260 - val_accuracy: 1.0000\n",
      "Epoch 95/1000\n",
      "4/4 [==============================] - 0s 9ms/step - loss: 0.1480 - accuracy: 0.9537 - val_loss: 0.1208 - val_accuracy: 1.0000\n",
      "Epoch 96/1000\n",
      "4/4 [==============================] - 0s 9ms/step - loss: 0.1474 - accuracy: 0.9722 - val_loss: 0.1175 - val_accuracy: 1.0000\n",
      "Epoch 97/1000\n",
      "4/4 [==============================] - 0s 11ms/step - loss: 0.1455 - accuracy: 0.9722 - val_loss: 0.1176 - val_accuracy: 1.0000\n",
      "Epoch 98/1000\n",
      "4/4 [==============================] - 0s 9ms/step - loss: 0.1444 - accuracy: 0.9630 - val_loss: 0.1168 - val_accuracy: 1.0000\n",
      "Epoch 99/1000\n",
      "4/4 [==============================] - 0s 9ms/step - loss: 0.1432 - accuracy: 0.9722 - val_loss: 0.1120 - val_accuracy: 1.0000\n",
      "Epoch 100/1000\n",
      "4/4 [==============================] - 0s 9ms/step - loss: 0.1414 - accuracy: 0.9722 - val_loss: 0.1105 - val_accuracy: 1.0000\n",
      "Epoch 101/1000\n",
      "4/4 [==============================] - 0s 10ms/step - loss: 0.1400 - accuracy: 0.9722 - val_loss: 0.1090 - val_accuracy: 1.0000\n",
      "Epoch 102/1000\n",
      "4/4 [==============================] - 0s 9ms/step - loss: 0.1388 - accuracy: 0.9722 - val_loss: 0.1076 - val_accuracy: 1.0000\n",
      "Epoch 103/1000\n",
      "4/4 [==============================] - 0s 9ms/step - loss: 0.1383 - accuracy: 0.9722 - val_loss: 0.1072 - val_accuracy: 1.0000\n",
      "Epoch 104/1000\n",
      "4/4 [==============================] - 0s 10ms/step - loss: 0.1354 - accuracy: 0.9630 - val_loss: 0.1030 - val_accuracy: 1.0000\n",
      "Epoch 105/1000\n",
      "4/4 [==============================] - 0s 10ms/step - loss: 0.1349 - accuracy: 0.9722 - val_loss: 0.1007 - val_accuracy: 1.0000\n",
      "Epoch 106/1000\n",
      "4/4 [==============================] - 0s 10ms/step - loss: 0.1340 - accuracy: 0.9722 - val_loss: 0.1006 - val_accuracy: 1.0000\n",
      "Epoch 107/1000\n",
      "4/4 [==============================] - 0s 10ms/step - loss: 0.1320 - accuracy: 0.9630 - val_loss: 0.1035 - val_accuracy: 1.0000\n",
      "Epoch 108/1000\n",
      "4/4 [==============================] - 0s 10ms/step - loss: 0.1317 - accuracy: 0.9630 - val_loss: 0.1015 - val_accuracy: 1.0000\n",
      "Epoch 109/1000\n",
      "4/4 [==============================] - 0s 10ms/step - loss: 0.1303 - accuracy: 0.9630 - val_loss: 0.0999 - val_accuracy: 1.0000\n",
      "Epoch 110/1000\n",
      "4/4 [==============================] - 0s 10ms/step - loss: 0.1305 - accuracy: 0.9630 - val_loss: 0.0986 - val_accuracy: 1.0000\n",
      "Epoch 111/1000\n",
      "4/4 [==============================] - 0s 10ms/step - loss: 0.1276 - accuracy: 0.9630 - val_loss: 0.0938 - val_accuracy: 1.0000\n",
      "Epoch 112/1000\n",
      "4/4 [==============================] - 0s 11ms/step - loss: 0.1289 - accuracy: 0.9722 - val_loss: 0.0894 - val_accuracy: 1.0000\n",
      "Epoch 113/1000\n",
      "4/4 [==============================] - 0s 12ms/step - loss: 0.1269 - accuracy: 0.9722 - val_loss: 0.0896 - val_accuracy: 1.0000\n",
      "Epoch 114/1000\n",
      "4/4 [==============================] - 0s 9ms/step - loss: 0.1243 - accuracy: 0.9722 - val_loss: 0.0918 - val_accuracy: 1.0000\n",
      "Epoch 115/1000\n",
      "4/4 [==============================] - 0s 10ms/step - loss: 0.1244 - accuracy: 0.9630 - val_loss: 0.0946 - val_accuracy: 1.0000\n",
      "Epoch 116/1000\n"
     ]
    },
    {
     "name": "stdout",
     "output_type": "stream",
     "text": [
      "4/4 [==============================] - 0s 10ms/step - loss: 0.1238 - accuracy: 0.9722 - val_loss: 0.0945 - val_accuracy: 1.0000\n",
      "Epoch 117/1000\n",
      "1/4 [======>.......................] - ETA: 0s - loss: 0.1123 - accuracy: 0.9688Restoring model weights from the end of the best epoch: 112.\n",
      "4/4 [==============================] - 0s 9ms/step - loss: 0.1232 - accuracy: 0.9722 - val_loss: 0.0911 - val_accuracy: 1.0000\n",
      "Epoch 117: early stopping\n"
     ]
    }
   ],
   "source": [
    "from tensorflow.keras.callbacks import EarlyStopping\n",
    "\n",
    "es = EarlyStopping(monitor='val_loss',\n",
    "                   min_delta=0,\n",
    "                   patience=5,\n",
    "                   verbose=1,\n",
    "                   restore_best_weights=True)\n",
    "\n",
    "hist = model.fit(x_train, y_train,\n",
    "                 epochs=1000,\n",
    "                 verbose=1,\n",
    "                 validation_split=0.1,\n",
    "                 callbacks=[es])"
   ]
  },
  {
   "cell_type": "markdown",
   "id": "1f9e297d",
   "metadata": {},
   "source": [
    "## 평가"
   ]
  },
  {
   "cell_type": "code",
   "execution_count": 35,
   "id": "5cc0c58e",
   "metadata": {},
   "outputs": [
    {
     "name": "stdout",
     "output_type": "stream",
     "text": [
      "1/1 [==============================] - 0s 22ms/step - loss: 0.1274 - accuracy: 1.0000\n"
     ]
    },
    {
     "data": {
      "text/plain": [
       "[0.12736287713050842, 1.0]"
      ]
     },
     "execution_count": 35,
     "metadata": {},
     "output_type": "execute_result"
    }
   ],
   "source": [
    "model.evaluate(x_test, y_test)"
   ]
  },
  {
   "cell_type": "code",
   "execution_count": 50,
   "id": "2d56db5f",
   "metadata": {},
   "outputs": [
    {
     "data": {
      "image/png": "[encoded data removed]",
      "text/plain": [
       "<Figure size 432x288 with 1 Axes>"
      ]
     },
     "metadata": {
      "needs_background": "light"
     },
     "output_type": "display_data"
    }
   ],
   "source": [
    "plt.plot(hist.history['accuracy'])\n",
    "plt.plot(hist.history['loss'])\n",
    "plt.plot(hist.history['val_accuracy'])\n",
    "plt.plot(hist.history['val_loss'])\n",
    "\n",
    "plt.legend(['acc', 'loss', 'val_acc', 'val_loss'])\n",
    "plt.xlabel('epochs')\n",
    "plt.ylabel('acc')\n",
    "plt.show()"
   ]
  },
  {
   "cell_type": "code",
   "execution_count": null,
   "id": "f188f17c",
   "metadata": {},
   "outputs": [],
   "source": []
  }
 ],
 "metadata": {
  "kernelspec": {
   "display_name": "Python 3",
   "language": "python",
   "name": "python3"
  },
  "language_info": {
   "codemirror_mode": {
    "name": "ipython",
    "version": 3
   },
   "file_extension": ".py",
   "mimetype": "text/x-python",
   "name": "python",
   "nbconvert_exporter": "python",
   "pygments_lexer": "ipython3",
   "version": "3.8.8"
  }
 },
 "nbformat": 4,
 "nbformat_minor": 5
}
