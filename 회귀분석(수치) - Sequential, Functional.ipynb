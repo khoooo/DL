{
 "cells": [
  {
   "cell_type": "markdown",
   "id": "6a820810",
   "metadata": {},
   "source": [
    "# 선형회귀를 Neural Network 구조로 표현\n",
    " - 노드-연결선-노드\n",
    "# Tensorflow keras 코드 사용"
   ]
  },
  {
   "cell_type": "markdown",
   "id": "aaac252f",
   "metadata": {},
   "source": [
    "----"
   ]
  },
  {
   "cell_type": "markdown",
   "id": "272b25c1",
   "metadata": {},
   "source": [
    "## 회귀분석 - Sequential\n",
    "- 딥러닝 중 Sequential API\n",
    "- 회귀이기때문에 수치예측\n",
    "- 평가로 MSE 사용"
   ]
  },
  {
   "cell_type": "code",
   "execution_count": 2,
   "id": "fa576b08",
   "metadata": {},
   "outputs": [],
   "source": [
    "# 라이브러리 불러오기\n",
    "import numpy as np\n",
    "import tensorflow as tf\n",
    "from tensorflow import keras\n",
    "from sklearn.datasets import load_boston"
   ]
  },
  {
   "cell_type": "code",
   "execution_count": 3,
   "id": "70c9c3cb",
   "metadata": {
    "collapsed": true
   },
   "outputs": [
    {
     "name": "stderr",
     "output_type": "stream",
     "text": [
      "C:\\Users\\User\\anaconda3\\lib\\site-packages\\sklearn\\utils\\deprecation.py:87: FutureWarning: Function load_boston is deprecated; `load_boston` is deprecated in 1.0 and will be removed in 1.2.\n",
      "\n",
      "    The Boston housing prices dataset has an ethical problem. You can refer to\n",
      "    the documentation of this function for further details.\n",
      "\n",
      "    The scikit-learn maintainers therefore strongly discourage the use of this\n",
      "    dataset unless the purpose of the code is to study and educate about\n",
      "    ethical issues in data science and machine learning.\n",
      "\n",
      "    In this special case, you can fetch the dataset from the original\n",
      "    source::\n",
      "\n",
      "        import pandas as pd\n",
      "        import numpy as np\n",
      "\n",
      "\n",
      "        data_url = \"http://lib.stat.cmu.edu/datasets/boston\"\n",
      "        raw_df = pd.read_csv(data_url, sep=\"\\s+\", skiprows=22, header=None)\n",
      "        data = np.hstack([raw_df.values[::2, :], raw_df.values[1::2, :2]])\n",
      "        target = raw_df.values[1::2, 2]\n",
      "\n",
      "    Alternative datasets include the California housing dataset (i.e.\n",
      "    :func:`~sklearn.datasets.fetch_california_housing`) and the Ames housing\n",
      "    dataset. You can load the datasets as follows::\n",
      "\n",
      "        from sklearn.datasets import fetch_california_housing\n",
      "        housing = fetch_california_housing()\n",
      "\n",
      "    for the California housing dataset and::\n",
      "\n",
      "        from sklearn.datasets import fetch_openml\n",
      "        housing = fetch_openml(name=\"house_prices\", as_frame=True)\n",
      "\n",
      "    for the Ames housing dataset.\n",
      "    \n",
      "  warnings.warn(msg, category=FutureWarning)\n"
     ]
    }
   ],
   "source": [
    "boston = load_boston()"
   ]
  },
  {
   "cell_type": "code",
   "execution_count": 4,
   "id": "4875bc82",
   "metadata": {},
   "outputs": [
    {
     "data": {
      "text/plain": [
       "((506, 13), (506,))"
      ]
     },
     "execution_count": 4,
     "metadata": {},
     "output_type": "execute_result"
    }
   ],
   "source": [
    "x = boston.data\n",
    "y = boston.target\n",
    "\n",
    "x.shape, y.shape\n",
    "\n",
    "# 노트 확인 = 13"
   ]
  },
  {
   "cell_type": "code",
   "execution_count": 5,
   "id": "0cdd913e",
   "metadata": {},
   "outputs": [],
   "source": [
    "# 청소\n",
    "keras.backend.clear_session()\n",
    "\n",
    "# 모델 선언\n",
    "model = keras.models.Sequential()\n",
    "\n",
    "# 모델 연결\n",
    "model.add( keras.layers.Input(shape=(13,)) )\n",
    "model.add( keras.layers.Dense(1))\n",
    "\n",
    "# 모델 설정\n",
    "model.compile(loss='mse', optimizer='adam')"
   ]
  },
  {
   "cell_type": "code",
   "execution_count": 6,
   "id": "f072ee9c",
   "metadata": {},
   "outputs": [
    {
     "name": "stdout",
     "output_type": "stream",
     "text": [
      "Epoch 1/10\n",
      "16/16 [==============================] - 0s 2ms/step - loss: 53275.4883\n",
      "Epoch 2/10\n",
      "16/16 [==============================] - 0s 1ms/step - loss: 46771.6758\n",
      "Epoch 3/10\n",
      "16/16 [==============================] - 0s 2ms/step - loss: 40818.9922\n",
      "Epoch 4/10\n",
      "16/16 [==============================] - 0s 2ms/step - loss: 35404.6250\n",
      "Epoch 5/10\n",
      "16/16 [==============================] - 0s 1ms/step - loss: 30592.8184\n",
      "Epoch 6/10\n",
      "16/16 [==============================] - 0s 1ms/step - loss: 26284.5469\n",
      "Epoch 7/10\n",
      "16/16 [==============================] - 0s 1ms/step - loss: 22481.9336\n",
      "Epoch 8/10\n",
      "16/16 [==============================] - 0s 1ms/step - loss: 19118.0176\n",
      "Epoch 9/10\n",
      "16/16 [==============================] - 0s 1ms/step - loss: 16143.4453\n",
      "Epoch 10/10\n",
      "16/16 [==============================] - 0s 1ms/step - loss: 13608.6514\n"
     ]
    }
   ],
   "source": [
    "# 학습\n",
    "model.fit(x, y, epochs=10, verbose=1)\n",
    "\n",
    "# 예측\n",
    "y_pred = model.predict(x)\n",
    "\n",
    "# loss가 줄어드는 것을 확인"
   ]
  },
  {
   "cell_type": "code",
   "execution_count": 7,
   "id": "72b3d47f",
   "metadata": {},
   "outputs": [
    {
     "name": "stdout",
     "output_type": "stream",
     "text": [
      "[24.  21.6 34.7 33.4 36.2]\n",
      "[-69.0202   -58.081215 -50.956116 -41.672115 -45.02653 ]\n"
     ]
    }
   ],
   "source": [
    "# y와 예측값 비교\n",
    "print(y[:5])\n",
    "print(y_pred[:5].reshape(-1))"
   ]
  },
  {
   "cell_type": "markdown",
   "id": "e6df67e5",
   "metadata": {},
   "source": [
    "## 회귀분석 - Functional\n",
    "- 딥러닝 중 Functional API\n",
    "- Sequential, Functional 차이는 유연함 차이\n",
    "- 모델 선언과 모델 연결의 순서 차이가 있음\n",
    "- #모델연결에서 ol (il)를 주의"
   ]
  },
  {
   "cell_type": "code",
   "execution_count": 8,
   "id": "c59280f8",
   "metadata": {},
   "outputs": [
    {
     "data": {
      "text/plain": [
       "((506, 13), (506,))"
      ]
     },
     "execution_count": 8,
     "metadata": {},
     "output_type": "execute_result"
    }
   ],
   "source": [
    "x = boston.data\n",
    "y = boston.target\n",
    "\n",
    "x.shape, y.shape"
   ]
  },
  {
   "cell_type": "code",
   "execution_count": 12,
   "id": "4f582b9c",
   "metadata": {},
   "outputs": [],
   "source": [
    "# 청소\n",
    "keras.backend.clear_session()\n",
    "\n",
    "# 모델 연결\n",
    "il = keras.layers.Input(shape=(13,))\n",
    "ol = keras.layers.Dense(1)(il)\n",
    "\n",
    "# 모델 선언\n",
    "model = keras.models.Model(il, ol)\n",
    "\n",
    "# 모델 설정\n",
    "model.compile(loss='mse', optimizer='adam')"
   ]
  },
  {
   "cell_type": "code",
   "execution_count": 13,
   "id": "90270e21",
   "metadata": {},
   "outputs": [
    {
     "name": "stdout",
     "output_type": "stream",
     "text": [
      "Epoch 1/10\n",
      "16/16 [==============================] - 0s 1ms/step - loss: 8510.3633\n",
      "Epoch 2/10\n",
      "16/16 [==============================] - 0s 1ms/step - loss: 7423.4043\n",
      "Epoch 3/10\n",
      "16/16 [==============================] - 0s 1ms/step - loss: 6684.1206\n",
      "Epoch 4/10\n",
      "16/16 [==============================] - 0s 1ms/step - loss: 6220.7207\n",
      "Epoch 5/10\n",
      "16/16 [==============================] - 0s 1ms/step - loss: 5844.6572\n",
      "Epoch 6/10\n",
      "16/16 [==============================] - 0s 1ms/step - loss: 5507.6851\n",
      "Epoch 7/10\n",
      "16/16 [==============================] - 0s 1ms/step - loss: 5189.7222\n",
      "Epoch 8/10\n",
      "16/16 [==============================] - 0s 1ms/step - loss: 4883.6099\n",
      "Epoch 9/10\n",
      "16/16 [==============================] - 0s 1ms/step - loss: 4586.5229\n",
      "Epoch 10/10\n",
      "16/16 [==============================] - 0s 1ms/step - loss: 4297.9961\n"
     ]
    }
   ],
   "source": [
    "# 학습\n",
    "model.fit(x, y, epochs=10, verbose=1)\n",
    "\n",
    "# 예측\n",
    "y_pred = model.predict(x)\n",
    "\n",
    "# loss 감소를 확인"
   ]
  },
  {
   "cell_type": "code",
   "execution_count": 15,
   "id": "72053597",
   "metadata": {},
   "outputs": [
    {
     "name": "stdout",
     "output_type": "stream",
     "text": [
      "[24.  21.6 34.7 33.4 36.2]\n",
      "[ 78.445496 101.84606   91.73616   92.37378   97.14687 ]\n"
     ]
    }
   ],
   "source": [
    "print(y[:5])\n",
    "print(y_pred[:5].reshape(-1))"
   ]
  },
  {
   "cell_type": "code",
   "execution_count": null,
   "id": "88ba8db5",
   "metadata": {},
   "outputs": [],
   "source": []
  }
 ],
 "metadata": {
  "kernelspec": {
   "display_name": "Python 3",
   "language": "python",
   "name": "python3"
  },
  "language_info": {
   "codemirror_mode": {
    "name": "ipython",
    "version": 3
   },
   "file_extension": ".py",
   "mimetype": "text/x-python",
   "name": "python",
   "nbconvert_exporter": "python",
   "pygments_lexer": "ipython3",
   "version": "3.8.8"
  }
 },
 "nbformat": 4,
 "nbformat_minor": 5
}
